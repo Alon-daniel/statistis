{
 "cells": [
  {
   "cell_type": "markdown",
   "metadata": {},
   "source": [
    "### IDs:\n",
    "Insert yours IDs to the cell below"
   ]
  },
  {
   "cell_type": "markdown",
   "metadata": {},
   "source": [
    "ID #1: 201639663\n",
    "\n",
    "ID #2: 038198149\n"
   ]
  },
  {
   "cell_type": "markdown",
   "metadata": {},
   "source": [
    "## Read the following instructions carefully:\n",
    "\n",
    "1. This jupyter notebook contains all the step by step instructions needed for this exercise.\n",
    "1. You are free to add cells.\n",
    "1. Write your functions and your answers in this jupyter notebook only.\n",
    "1. Answers to theoretical questions should be written in **markdown cells (with $\\LaTeX$ support)**.\n",
    "1. Submit this jupyter notebook only using your ID as a filename. Not to use ZIP or RAR. For example, your Moodle submission file name should look like this (two id numbers): `123456789_987654321.ipynb`."
   ]
  },
  {
   "cell_type": "markdown",
   "metadata": {},
   "source": [
    "### Question 1 - Correlations (15 points)"
   ]
  },
  {
   "cell_type": "markdown",
   "metadata": {},
   "source": [
    "Provide example datapoints matching the following descriptions. Each example should be constructed over n=50 datapoints. Provide a table description of the example data as well as a jointplot (see example below). \n",
    "If you think that the situation described is impossible then clearly explain why (you don’t need to give a rigorous proof).<br>\n",
    "Pearson(x,y) = Pearson correlation<br>\n",
    "τ(x,y) = Kendall rank correlation<br>\n",
    "ρ(x,y) = Spearman rank correlation <br>\n",
    "<img src=\"jointplot.png\">"
   ]
  },
  {
   "cell_type": "markdown",
   "metadata": {},
   "source": [
    "#### 1.A\n",
    "Data in which  $Pearson(x,y) < -0.9$ but where $n-1$ points can be selected so that for the vectors restricted to those we have $Pearson(x_{n-1},y_{n-1}) > -0.2$"
   ]
  },
  {
   "cell_type": "code",
   "execution_count": 44,
   "metadata": {},
   "outputs": [],
   "source": [
    "import pandas as pd\n",
    "import numpy as np\n",
    "import seaborn as sns\n",
    "import ssl\n",
    "from scipy import stats\n",
    "import matplotlib.pyplot as plt\n",
    "from scipy.stats import norm\n",
    "import numpy as np\n",
    "import statsmodels.stats.api as sms\n",
    "import matplotlib.pyplot as plt\n",
    "import scipy\n",
    "import scipy.stats as stats2\n",
    "from scipy.stats import multivariate_normal\n",
    "import time\n",
    "\n",
    "np.random.seed(0)"
   ]
  },
  {
   "cell_type": "code",
   "execution_count": 45,
   "metadata": {},
   "outputs": [
    {
     "name": "stdout",
     "output_type": "stream",
     "text": [
      "n points 0.5089100030952122\n",
      "n - 1 points -0.9999999999999999\n"
     ]
    },
    {
     "data": {
      "text/plain": [
       "<seaborn.axisgrid.JointGrid at 0x1e465892048>"
      ]
     },
     "execution_count": 45,
     "metadata": {},
     "output_type": "execute_result"
    },
    {
     "data": {
      "image/png": "[encoded data removed]",
      "text/plain": [
       "<Figure size 432x432 with 3 Axes>"
      ]
     },
     "metadata": {
      "needs_background": "light"
     },
     "output_type": "display_data"
    }
   ],
   "source": [
    "\n",
    "X = np.arange(50)\n",
    "Y = np.flip(np.arange(50))\n",
    "X[49] = 990\n",
    "Y[49] = 99\n",
    "print('n points',np.corrcoef(X, Y)[0][1])\n",
    "print('n - 1 points',  np.corrcoef(X[:49], Y[:49])[0][1])\n",
    "\n",
    "\n",
    "# df = pd.DataFrame({'X':X, 'Y':Y})\n",
    "# df.plot('X', 'Y', kind='scatter')\n",
    "\n",
    "sns.jointplot(X, Y)\n",
    "\n"
   ]
  },
  {
   "cell_type": "markdown",
   "metadata": {},
   "source": [
    "#### 1.B\n",
    "Pearson(x,y) = Pearson correlation\n",
    "\n",
    "τ(x,y) = Kendall rank correlation\n",
    "\n",
    "ρ(x,y) = Spearman rank correlation\n",
    "\n",
    "Data with τ(x,y) > ρ(x,y) + 0.45\n",
    "\n"
   ]
  },
  {
   "cell_type": "code",
   "execution_count": 46,
   "metadata": {},
   "outputs": [
    {
     "name": "stdout",
     "output_type": "stream",
     "text": [
      "kendall:  0.020408163265306124\n",
      "spearman + 0.45:  0.009423769507803215\n"
     ]
    }
   ],
   "source": [
    "# Y = np.flip(np.arange(50))\n",
    "# # Y = np.concatenate(np.flip(np.arange(25)), np.arange(25, 50))\n",
    "# X_1 = np.flip(np.arange(30))\n",
    "# X_2 = np.arange(30, 50)\n",
    "# np.random.shuffle(X_2)\n",
    "# # print(X_2 )\n",
    "# # print(Y_2)\n",
    "# X = np.concatenate((X_1, X_2), axis=0)\n",
    "# print(X[20:])\n",
    "# print('τ(x,y) > ρ(x,y) + 0.45')\n",
    "# print('spearman + 0.45 ====== ', stats.spearmanr(X, Y)[0] + 0.45)\n",
    "# print('kendle ====== ', stats.kendalltau(X, Y)[0])\n",
    "# sns.jointplot(X, Y)\n",
    "import itertools\n",
    "all_options = list(itertools.permutations([0,1,2,3,4]))\n",
    "orig = [0,1,2,3,4]\n",
    "gaps = []\n",
    "for l in all_options:\n",
    "    s = stats.spearmanr(orig, l)[0]\n",
    "    k = stats.kendalltau(orig, l)[0]\n",
    "    gaps.append({'gap': k - s, 'l': l} )\n",
    "    \n",
    "X = np.arange(50)\n",
    "Y = np.concatenate([np.arange(30,50), np.arange(30)])\n",
    "s = stats.spearmanr(X, Y)[0]\n",
    "k = stats.kendalltau(X,Y)[0]\n",
    "k -s \n",
    "\n",
    "print('kendall: ', k)\n",
    "print('spearman + 0.45: ', s + 0.45)\n",
    "\n"
   ]
  },
  {
   "cell_type": "markdown",
   "metadata": {},
   "source": [
    "#### 1.C\n",
    "Data with τ(x,y) < ρ(x,y) – 0.45"
   ]
  },
  {
   "cell_type": "markdown",
   "metadata": {},
   "source": [
    "This sittuation is impossible.\n",
    "I think that it is impossible since everytime spearman correlation is growing, the number of none concardant pairs is growing with it.\n",
    "1.b was more possible because while kendall is only counting concardant spearman is also taking the into account the distance of ranking so it was more acheivable to get a bigger gap. \n",
    "In order to assert that its impossible I draw all possible permutations over lists of size of 10. \n",
    "The highest possilbe value for ρ(x,y) - τ(x,y)\n",
    "was 0.39"
   ]
  },
  {
   "cell_type": "code",
   "execution_count": null,
   "metadata": {},
   "outputs": [],
   "source": []
  },
  {
   "cell_type": "markdown",
   "metadata": {},
   "source": [
    "#### 1.D\n",
    "Data with Pearson(x,y) < ρ(x,y) – 0.6"
   ]
  },
  {
   "cell_type": "code",
   "execution_count": 47,
   "metadata": {},
   "outputs": [
    {
     "name": "stdout",
     "output_type": "stream",
     "text": [
      "-0.7068404106012852 ====== Data with Pearson(x,y)\n",
      "0.2823529411764706  ======== spearman- 0.6\n"
     ]
    },
    {
     "data": {
      "text/plain": [
       "<seaborn.axisgrid.JointGrid at 0x1e465a95978>"
      ]
     },
     "execution_count": 47,
     "metadata": {},
     "output_type": "execute_result"
    },
    {
     "data": {
      "image/png": "[encoded data removed]",
      "text/plain": [
       "<Figure size 432x432 with 3 Axes>"
      ]
     },
     "metadata": {
      "needs_background": "light"
     },
     "output_type": "display_data"
    }
   ],
   "source": [
    "X = np.arange(50)\n",
    "Y = np.arange(50)\n",
    "# np.random.shuffle(Y)\n",
    "X[49] = 990\n",
    "Y[49] = -99\n",
    "\n",
    "\n",
    "print(np.corrcoef(X, Y)[0][1], '====== Data with Pearson(x,y)')\n",
    "print(stats.spearmanr(X, Y)[0] - 0.6,' ======== spearman- 0.6')\n",
    "# plt.show()\n",
    "sns.jointplot(X, Y)\n"
   ]
  },
  {
   "cell_type": "markdown",
   "metadata": {},
   "source": [
    "#### 1.E\n",
    "Data with Pearson(x,y) > ρ(x,y) + 1.2"
   ]
  },
  {
   "cell_type": "code",
   "execution_count": 48,
   "metadata": {},
   "outputs": [
    {
     "name": "stdout",
     "output_type": "stream",
     "text": [
      "0.5089100030952122 ====== Data with Pearson(x,y)\n",
      "0.3176470588235294  ======== spearman + 1.2\n"
     ]
    },
    {
     "data": {
      "text/plain": [
       "<seaborn.axisgrid.JointGrid at 0x1e465c16128>"
      ]
     },
     "execution_count": 48,
     "metadata": {},
     "output_type": "execute_result"
    },
    {
     "data": {
      "image/png": "[encoded data removed]",
      "text/plain": [
       "<Figure size 432x432 with 3 Axes>"
      ]
     },
     "metadata": {
      "needs_background": "light"
     },
     "output_type": "display_data"
    }
   ],
   "source": [
    "X = np.arange(50)\n",
    "Y = np.flip(np.arange(50))\n",
    "# np.random.shuffle(Y)\n",
    "X[49] = 990\n",
    "Y[49] = 99\n",
    "\n",
    "\n",
    "print(np.corrcoef(X, Y)[0][1], '====== Data with Pearson(x,y)')\n",
    "print(stats.spearmanr(X, Y)[0] + 1.2,' ======== spearman + 1.2')\n",
    "# plt.show()\n",
    "sns.jointplot(X, Y)\n",
    "\n"
   ]
  },
  {
   "cell_type": "markdown",
   "metadata": {},
   "source": [
    "#### 1.F\n",
    "Data with τ(x,y) < ρ(x,y) – 1.2 "
   ]
  },
  {
   "cell_type": "markdown",
   "metadata": {},
   "source": [
    "### Question 2 - Analysis of the UCI Heart Disease dataset  (40 points)"
   ]
  },
  {
   "cell_type": "markdown",
   "metadata": {},
   "source": [
    "Perform data analysis on the UCI Heart Disease Dataset\n",
    "References:\n",
    "1. Detrano, R., Janosi, A., Steinbrunn, W., Pfisterer, M., Schmid, J., Sandhu, S., Guppy, K., Lee, S., & Froelicher, V. (1989). International application of a new probability algorithm for the diagnosis of coronary artery disease. American Journal of Cardiology, 64,304--310.\n",
    "2. David W. Aha & Dennis Kibler. \"Instance-based prediction of heart-disease presence with the Cleveland database.\"\n",
    "3. Gennari, J.H., Langley, P, & Fisher, D. (1989). Models of incremental concept formation. Artificial Intelligence, 40, 11--61.\n",
    "\n",
    "Use the following links to find the details of the data: \n",
    "1. https://archive.ics.uci.edu/ml/datasets/heart+disease\n",
    "2. https://www.kaggle.com/ronitf/heart-disease-uci\n",
    "\n",
    "In the follwong cells write a report for your analysis. In your report provide a clear description of the analysis methods and of the results. This should include a graphical representation of the results and the conclusions. Provide p-values or other indicators of the statistical significance where appropriate. <br>\n",
    "Design your report to be concise but still cover interesting findings.\n",
    "\n",
    "There are missing values in the data. Find them and impute them by using the median (for numerical features) or the mode (for categorical features) value of the relevant feature (column).\n",
    "Address the following questions:\n",
    "* Using confidence intervals determine for which numerical features you can state with confidence of 95% that the healthy population (target = 0) mean is larger/smaller than the disease population (target = 1) mean. \n",
    "* Draw histograms for each numerical feature. Inspect the observed distributions and then use MLE to plot, on the same figures, fits of the distributions.\n",
    "* For each pair of numerical feature, calculate correlations and indicate whether you find them significant. For select pairs, with significant correlations, draw joint plot with marginal histograms (see Seaborn joint plot) and find bivariate normal fits. Then use the example code below to draw plots of the bivariate pdfs (you may edit the code as you see fit).\n",
    "* Are there pairs that are significantly correlated in males but not in females? The opposite? How about healthy vs disease? Can you graphically represent this?\n",
    "* For each numerical feature, except age, plot the distribution for this feature against bins of age. In each bin provide a split violin plot, with different colors for healthy and disease.\n",
    "\n",
    "Suggest, state and address at least one original question.\n"
   ]
  },
  {
   "cell_type": "code",
   "execution_count": 49,
   "metadata": {},
   "outputs": [],
   "source": [
    "data = pd.read_csv(\"heart.csv\",sep='\\t') \n",
    "# Preview the first 5 lines of the loaded data \n"
   ]
  },
  {
   "cell_type": "code",
   "execution_count": 50,
   "metadata": {},
   "outputs": [
    {
     "name": "stdout",
     "output_type": "stream",
     "text": [
      "age         8\n",
      "sex         4\n",
      "cp          5\n",
      "trestbps    6\n",
      "chol        6\n",
      "fbs         3\n",
      "restecg     2\n",
      "thalach     4\n",
      "exang       0\n",
      "oldpeak     5\n",
      "slope       0\n",
      "ca          0\n",
      "thal        0\n",
      "target      0\n",
      "dtype: int64\n"
     ]
    },
    {
     "data": {
      "text/html": [
       "<div>\n",
       "<style scoped>\n",
       "    .dataframe tbody tr th:only-of-type {\n",
       "        vertical-align: middle;\n",
       "    }\n",
       "\n",
       "    .dataframe tbody tr th {\n",
       "        vertical-align: top;\n",
       "    }\n",
       "\n",
       "    .dataframe thead th {\n",
       "        text-align: right;\n",
       "    }\n",
       "</style>\n",
       "<table border=\"1\" class=\"dataframe\">\n",
       "  <thead>\n",
       "    <tr style=\"text-align: right;\">\n",
       "      <th></th>\n",
       "      <th>age</th>\n",
       "      <th>sex</th>\n",
       "      <th>cp</th>\n",
       "      <th>trestbps</th>\n",
       "      <th>chol</th>\n",
       "      <th>fbs</th>\n",
       "      <th>restecg</th>\n",
       "      <th>thalach</th>\n",
       "      <th>exang</th>\n",
       "      <th>oldpeak</th>\n",
       "      <th>slope</th>\n",
       "      <th>ca</th>\n",
       "      <th>thal</th>\n",
       "      <th>target</th>\n",
       "    </tr>\n",
       "  </thead>\n",
       "  <tbody>\n",
       "    <tr>\n",
       "      <th>0</th>\n",
       "      <td>63.0</td>\n",
       "      <td>1.0</td>\n",
       "      <td>3.0</td>\n",
       "      <td>145.0</td>\n",
       "      <td>233.0</td>\n",
       "      <td>1.0</td>\n",
       "      <td>0.0</td>\n",
       "      <td>150.0</td>\n",
       "      <td>0</td>\n",
       "      <td>2.3</td>\n",
       "      <td>0</td>\n",
       "      <td>0</td>\n",
       "      <td>1</td>\n",
       "      <td>1</td>\n",
       "    </tr>\n",
       "    <tr>\n",
       "      <th>1</th>\n",
       "      <td>37.0</td>\n",
       "      <td>1.0</td>\n",
       "      <td>NaN</td>\n",
       "      <td>130.0</td>\n",
       "      <td>250.0</td>\n",
       "      <td>0.0</td>\n",
       "      <td>1.0</td>\n",
       "      <td>187.0</td>\n",
       "      <td>0</td>\n",
       "      <td>3.5</td>\n",
       "      <td>0</td>\n",
       "      <td>0</td>\n",
       "      <td>2</td>\n",
       "      <td>1</td>\n",
       "    </tr>\n",
       "    <tr>\n",
       "      <th>2</th>\n",
       "      <td>41.0</td>\n",
       "      <td>0.0</td>\n",
       "      <td>1.0</td>\n",
       "      <td>NaN</td>\n",
       "      <td>NaN</td>\n",
       "      <td>0.0</td>\n",
       "      <td>0.0</td>\n",
       "      <td>172.0</td>\n",
       "      <td>0</td>\n",
       "      <td>1.4</td>\n",
       "      <td>2</td>\n",
       "      <td>0</td>\n",
       "      <td>2</td>\n",
       "      <td>1</td>\n",
       "    </tr>\n",
       "    <tr>\n",
       "      <th>3</th>\n",
       "      <td>NaN</td>\n",
       "      <td>1.0</td>\n",
       "      <td>1.0</td>\n",
       "      <td>120.0</td>\n",
       "      <td>236.0</td>\n",
       "      <td>0.0</td>\n",
       "      <td>1.0</td>\n",
       "      <td>178.0</td>\n",
       "      <td>0</td>\n",
       "      <td>0.8</td>\n",
       "      <td>2</td>\n",
       "      <td>0</td>\n",
       "      <td>2</td>\n",
       "      <td>1</td>\n",
       "    </tr>\n",
       "    <tr>\n",
       "      <th>4</th>\n",
       "      <td>NaN</td>\n",
       "      <td>0.0</td>\n",
       "      <td>0.0</td>\n",
       "      <td>120.0</td>\n",
       "      <td>354.0</td>\n",
       "      <td>0.0</td>\n",
       "      <td>1.0</td>\n",
       "      <td>163.0</td>\n",
       "      <td>1</td>\n",
       "      <td>0.6</td>\n",
       "      <td>2</td>\n",
       "      <td>0</td>\n",
       "      <td>2</td>\n",
       "      <td>1</td>\n",
       "    </tr>\n",
       "    <tr>\n",
       "      <th>5</th>\n",
       "      <td>NaN</td>\n",
       "      <td>1.0</td>\n",
       "      <td>0.0</td>\n",
       "      <td>140.0</td>\n",
       "      <td>192.0</td>\n",
       "      <td>0.0</td>\n",
       "      <td>1.0</td>\n",
       "      <td>NaN</td>\n",
       "      <td>0</td>\n",
       "      <td>0.4</td>\n",
       "      <td>1</td>\n",
       "      <td>0</td>\n",
       "      <td>1</td>\n",
       "      <td>1</td>\n",
       "    </tr>\n",
       "    <tr>\n",
       "      <th>6</th>\n",
       "      <td>56.0</td>\n",
       "      <td>0.0</td>\n",
       "      <td>1.0</td>\n",
       "      <td>140.0</td>\n",
       "      <td>294.0</td>\n",
       "      <td>0.0</td>\n",
       "      <td>0.0</td>\n",
       "      <td>153.0</td>\n",
       "      <td>0</td>\n",
       "      <td>1.3</td>\n",
       "      <td>1</td>\n",
       "      <td>0</td>\n",
       "      <td>2</td>\n",
       "      <td>1</td>\n",
       "    </tr>\n",
       "    <tr>\n",
       "      <th>7</th>\n",
       "      <td>44.0</td>\n",
       "      <td>1.0</td>\n",
       "      <td>1.0</td>\n",
       "      <td>120.0</td>\n",
       "      <td>263.0</td>\n",
       "      <td>0.0</td>\n",
       "      <td>1.0</td>\n",
       "      <td>173.0</td>\n",
       "      <td>0</td>\n",
       "      <td>0.0</td>\n",
       "      <td>2</td>\n",
       "      <td>0</td>\n",
       "      <td>3</td>\n",
       "      <td>1</td>\n",
       "    </tr>\n",
       "    <tr>\n",
       "      <th>8</th>\n",
       "      <td>52.0</td>\n",
       "      <td>1.0</td>\n",
       "      <td>2.0</td>\n",
       "      <td>172.0</td>\n",
       "      <td>199.0</td>\n",
       "      <td>1.0</td>\n",
       "      <td>1.0</td>\n",
       "      <td>162.0</td>\n",
       "      <td>0</td>\n",
       "      <td>NaN</td>\n",
       "      <td>2</td>\n",
       "      <td>0</td>\n",
       "      <td>3</td>\n",
       "      <td>1</td>\n",
       "    </tr>\n",
       "    <tr>\n",
       "      <th>9</th>\n",
       "      <td>57.0</td>\n",
       "      <td>1.0</td>\n",
       "      <td>2.0</td>\n",
       "      <td>150.0</td>\n",
       "      <td>168.0</td>\n",
       "      <td>0.0</td>\n",
       "      <td>1.0</td>\n",
       "      <td>174.0</td>\n",
       "      <td>0</td>\n",
       "      <td>1.6</td>\n",
       "      <td>2</td>\n",
       "      <td>0</td>\n",
       "      <td>2</td>\n",
       "      <td>1</td>\n",
       "    </tr>\n",
       "    <tr>\n",
       "      <th>10</th>\n",
       "      <td>54.0</td>\n",
       "      <td>1.0</td>\n",
       "      <td>0.0</td>\n",
       "      <td>140.0</td>\n",
       "      <td>239.0</td>\n",
       "      <td>0.0</td>\n",
       "      <td>1.0</td>\n",
       "      <td>160.0</td>\n",
       "      <td>0</td>\n",
       "      <td>1.2</td>\n",
       "      <td>2</td>\n",
       "      <td>0</td>\n",
       "      <td>2</td>\n",
       "      <td>1</td>\n",
       "    </tr>\n",
       "    <tr>\n",
       "      <th>11</th>\n",
       "      <td>48.0</td>\n",
       "      <td>0.0</td>\n",
       "      <td>2.0</td>\n",
       "      <td>130.0</td>\n",
       "      <td>275.0</td>\n",
       "      <td>0.0</td>\n",
       "      <td>1.0</td>\n",
       "      <td>139.0</td>\n",
       "      <td>0</td>\n",
       "      <td>0.2</td>\n",
       "      <td>2</td>\n",
       "      <td>0</td>\n",
       "      <td>2</td>\n",
       "      <td>1</td>\n",
       "    </tr>\n",
       "    <tr>\n",
       "      <th>12</th>\n",
       "      <td>49.0</td>\n",
       "      <td>1.0</td>\n",
       "      <td>1.0</td>\n",
       "      <td>130.0</td>\n",
       "      <td>266.0</td>\n",
       "      <td>0.0</td>\n",
       "      <td>1.0</td>\n",
       "      <td>171.0</td>\n",
       "      <td>0</td>\n",
       "      <td>0.6</td>\n",
       "      <td>2</td>\n",
       "      <td>0</td>\n",
       "      <td>2</td>\n",
       "      <td>1</td>\n",
       "    </tr>\n",
       "    <tr>\n",
       "      <th>13</th>\n",
       "      <td>64.0</td>\n",
       "      <td>1.0</td>\n",
       "      <td>3.0</td>\n",
       "      <td>110.0</td>\n",
       "      <td>211.0</td>\n",
       "      <td>0.0</td>\n",
       "      <td>0.0</td>\n",
       "      <td>144.0</td>\n",
       "      <td>1</td>\n",
       "      <td>1.8</td>\n",
       "      <td>1</td>\n",
       "      <td>0</td>\n",
       "      <td>2</td>\n",
       "      <td>1</td>\n",
       "    </tr>\n",
       "    <tr>\n",
       "      <th>14</th>\n",
       "      <td>58.0</td>\n",
       "      <td>0.0</td>\n",
       "      <td>3.0</td>\n",
       "      <td>150.0</td>\n",
       "      <td>283.0</td>\n",
       "      <td>1.0</td>\n",
       "      <td>0.0</td>\n",
       "      <td>162.0</td>\n",
       "      <td>0</td>\n",
       "      <td>1.0</td>\n",
       "      <td>2</td>\n",
       "      <td>0</td>\n",
       "      <td>2</td>\n",
       "      <td>1</td>\n",
       "    </tr>\n",
       "    <tr>\n",
       "      <th>15</th>\n",
       "      <td>50.0</td>\n",
       "      <td>0.0</td>\n",
       "      <td>2.0</td>\n",
       "      <td>120.0</td>\n",
       "      <td>219.0</td>\n",
       "      <td>0.0</td>\n",
       "      <td>1.0</td>\n",
       "      <td>158.0</td>\n",
       "      <td>0</td>\n",
       "      <td>1.6</td>\n",
       "      <td>1</td>\n",
       "      <td>0</td>\n",
       "      <td>2</td>\n",
       "      <td>1</td>\n",
       "    </tr>\n",
       "    <tr>\n",
       "      <th>16</th>\n",
       "      <td>58.0</td>\n",
       "      <td>0.0</td>\n",
       "      <td>2.0</td>\n",
       "      <td>120.0</td>\n",
       "      <td>340.0</td>\n",
       "      <td>0.0</td>\n",
       "      <td>1.0</td>\n",
       "      <td>172.0</td>\n",
       "      <td>0</td>\n",
       "      <td>0.0</td>\n",
       "      <td>2</td>\n",
       "      <td>0</td>\n",
       "      <td>2</td>\n",
       "      <td>1</td>\n",
       "    </tr>\n",
       "    <tr>\n",
       "      <th>17</th>\n",
       "      <td>66.0</td>\n",
       "      <td>0.0</td>\n",
       "      <td>3.0</td>\n",
       "      <td>150.0</td>\n",
       "      <td>226.0</td>\n",
       "      <td>0.0</td>\n",
       "      <td>1.0</td>\n",
       "      <td>114.0</td>\n",
       "      <td>0</td>\n",
       "      <td>2.6</td>\n",
       "      <td>0</td>\n",
       "      <td>0</td>\n",
       "      <td>2</td>\n",
       "      <td>1</td>\n",
       "    </tr>\n",
       "    <tr>\n",
       "      <th>18</th>\n",
       "      <td>43.0</td>\n",
       "      <td>1.0</td>\n",
       "      <td>0.0</td>\n",
       "      <td>150.0</td>\n",
       "      <td>247.0</td>\n",
       "      <td>0.0</td>\n",
       "      <td>1.0</td>\n",
       "      <td>171.0</td>\n",
       "      <td>0</td>\n",
       "      <td>1.5</td>\n",
       "      <td>2</td>\n",
       "      <td>0</td>\n",
       "      <td>2</td>\n",
       "      <td>1</td>\n",
       "    </tr>\n",
       "    <tr>\n",
       "      <th>19</th>\n",
       "      <td>69.0</td>\n",
       "      <td>0.0</td>\n",
       "      <td>3.0</td>\n",
       "      <td>140.0</td>\n",
       "      <td>239.0</td>\n",
       "      <td>0.0</td>\n",
       "      <td>1.0</td>\n",
       "      <td>151.0</td>\n",
       "      <td>0</td>\n",
       "      <td>1.8</td>\n",
       "      <td>2</td>\n",
       "      <td>2</td>\n",
       "      <td>2</td>\n",
       "      <td>1</td>\n",
       "    </tr>\n",
       "    <tr>\n",
       "      <th>20</th>\n",
       "      <td>59.0</td>\n",
       "      <td>1.0</td>\n",
       "      <td>0.0</td>\n",
       "      <td>135.0</td>\n",
       "      <td>234.0</td>\n",
       "      <td>0.0</td>\n",
       "      <td>1.0</td>\n",
       "      <td>161.0</td>\n",
       "      <td>0</td>\n",
       "      <td>0.5</td>\n",
       "      <td>1</td>\n",
       "      <td>0</td>\n",
       "      <td>3</td>\n",
       "      <td>1</td>\n",
       "    </tr>\n",
       "    <tr>\n",
       "      <th>21</th>\n",
       "      <td>44.0</td>\n",
       "      <td>1.0</td>\n",
       "      <td>2.0</td>\n",
       "      <td>130.0</td>\n",
       "      <td>233.0</td>\n",
       "      <td>0.0</td>\n",
       "      <td>1.0</td>\n",
       "      <td>179.0</td>\n",
       "      <td>1</td>\n",
       "      <td>0.4</td>\n",
       "      <td>2</td>\n",
       "      <td>0</td>\n",
       "      <td>2</td>\n",
       "      <td>1</td>\n",
       "    </tr>\n",
       "    <tr>\n",
       "      <th>22</th>\n",
       "      <td>42.0</td>\n",
       "      <td>1.0</td>\n",
       "      <td>0.0</td>\n",
       "      <td>140.0</td>\n",
       "      <td>226.0</td>\n",
       "      <td>0.0</td>\n",
       "      <td>1.0</td>\n",
       "      <td>178.0</td>\n",
       "      <td>0</td>\n",
       "      <td>0.0</td>\n",
       "      <td>2</td>\n",
       "      <td>0</td>\n",
       "      <td>2</td>\n",
       "      <td>1</td>\n",
       "    </tr>\n",
       "    <tr>\n",
       "      <th>23</th>\n",
       "      <td>61.0</td>\n",
       "      <td>1.0</td>\n",
       "      <td>2.0</td>\n",
       "      <td>150.0</td>\n",
       "      <td>243.0</td>\n",
       "      <td>1.0</td>\n",
       "      <td>1.0</td>\n",
       "      <td>137.0</td>\n",
       "      <td>1</td>\n",
       "      <td>1.0</td>\n",
       "      <td>1</td>\n",
       "      <td>0</td>\n",
       "      <td>2</td>\n",
       "      <td>1</td>\n",
       "    </tr>\n",
       "    <tr>\n",
       "      <th>24</th>\n",
       "      <td>40.0</td>\n",
       "      <td>1.0</td>\n",
       "      <td>3.0</td>\n",
       "      <td>140.0</td>\n",
       "      <td>199.0</td>\n",
       "      <td>0.0</td>\n",
       "      <td>1.0</td>\n",
       "      <td>178.0</td>\n",
       "      <td>1</td>\n",
       "      <td>1.4</td>\n",
       "      <td>2</td>\n",
       "      <td>0</td>\n",
       "      <td>3</td>\n",
       "      <td>1</td>\n",
       "    </tr>\n",
       "    <tr>\n",
       "      <th>25</th>\n",
       "      <td>71.0</td>\n",
       "      <td>0.0</td>\n",
       "      <td>1.0</td>\n",
       "      <td>NaN</td>\n",
       "      <td>302.0</td>\n",
       "      <td>0.0</td>\n",
       "      <td>1.0</td>\n",
       "      <td>162.0</td>\n",
       "      <td>0</td>\n",
       "      <td>0.4</td>\n",
       "      <td>2</td>\n",
       "      <td>2</td>\n",
       "      <td>2</td>\n",
       "      <td>1</td>\n",
       "    </tr>\n",
       "    <tr>\n",
       "      <th>26</th>\n",
       "      <td>59.0</td>\n",
       "      <td>1.0</td>\n",
       "      <td>2.0</td>\n",
       "      <td>150.0</td>\n",
       "      <td>212.0</td>\n",
       "      <td>1.0</td>\n",
       "      <td>1.0</td>\n",
       "      <td>157.0</td>\n",
       "      <td>0</td>\n",
       "      <td>1.6</td>\n",
       "      <td>2</td>\n",
       "      <td>0</td>\n",
       "      <td>2</td>\n",
       "      <td>1</td>\n",
       "    </tr>\n",
       "    <tr>\n",
       "      <th>27</th>\n",
       "      <td>51.0</td>\n",
       "      <td>1.0</td>\n",
       "      <td>2.0</td>\n",
       "      <td>110.0</td>\n",
       "      <td>175.0</td>\n",
       "      <td>0.0</td>\n",
       "      <td>1.0</td>\n",
       "      <td>123.0</td>\n",
       "      <td>0</td>\n",
       "      <td>0.6</td>\n",
       "      <td>2</td>\n",
       "      <td>0</td>\n",
       "      <td>2</td>\n",
       "      <td>1</td>\n",
       "    </tr>\n",
       "    <tr>\n",
       "      <th>28</th>\n",
       "      <td>65.0</td>\n",
       "      <td>0.0</td>\n",
       "      <td>2.0</td>\n",
       "      <td>140.0</td>\n",
       "      <td>417.0</td>\n",
       "      <td>1.0</td>\n",
       "      <td>0.0</td>\n",
       "      <td>157.0</td>\n",
       "      <td>0</td>\n",
       "      <td>0.8</td>\n",
       "      <td>2</td>\n",
       "      <td>1</td>\n",
       "      <td>2</td>\n",
       "      <td>1</td>\n",
       "    </tr>\n",
       "    <tr>\n",
       "      <th>29</th>\n",
       "      <td>53.0</td>\n",
       "      <td>1.0</td>\n",
       "      <td>2.0</td>\n",
       "      <td>130.0</td>\n",
       "      <td>197.0</td>\n",
       "      <td>1.0</td>\n",
       "      <td>0.0</td>\n",
       "      <td>152.0</td>\n",
       "      <td>0</td>\n",
       "      <td>1.2</td>\n",
       "      <td>0</td>\n",
       "      <td>0</td>\n",
       "      <td>2</td>\n",
       "      <td>1</td>\n",
       "    </tr>\n",
       "  </tbody>\n",
       "</table>\n",
       "</div>"
      ],
      "text/plain": [
       "     age  sex   cp  trestbps   chol  fbs  restecg  thalach  exang  oldpeak  \\\n",
       "0   63.0  1.0  3.0     145.0  233.0  1.0      0.0    150.0      0      2.3   \n",
       "1   37.0  1.0  NaN     130.0  250.0  0.0      1.0    187.0      0      3.5   \n",
       "2   41.0  0.0  1.0       NaN    NaN  0.0      0.0    172.0      0      1.4   \n",
       "3    NaN  1.0  1.0     120.0  236.0  0.0      1.0    178.0      0      0.8   \n",
       "4    NaN  0.0  0.0     120.0  354.0  0.0      1.0    163.0      1      0.6   \n",
       "5    NaN  1.0  0.0     140.0  192.0  0.0      1.0      NaN      0      0.4   \n",
       "6   56.0  0.0  1.0     140.0  294.0  0.0      0.0    153.0      0      1.3   \n",
       "7   44.0  1.0  1.0     120.0  263.0  0.0      1.0    173.0      0      0.0   \n",
       "8   52.0  1.0  2.0     172.0  199.0  1.0      1.0    162.0      0      NaN   \n",
       "9   57.0  1.0  2.0     150.0  168.0  0.0      1.0    174.0      0      1.6   \n",
       "10  54.0  1.0  0.0     140.0  239.0  0.0      1.0    160.0      0      1.2   \n",
       "11  48.0  0.0  2.0     130.0  275.0  0.0      1.0    139.0      0      0.2   \n",
       "12  49.0  1.0  1.0     130.0  266.0  0.0      1.0    171.0      0      0.6   \n",
       "13  64.0  1.0  3.0     110.0  211.0  0.0      0.0    144.0      1      1.8   \n",
       "14  58.0  0.0  3.0     150.0  283.0  1.0      0.0    162.0      0      1.0   \n",
       "15  50.0  0.0  2.0     120.0  219.0  0.0      1.0    158.0      0      1.6   \n",
       "16  58.0  0.0  2.0     120.0  340.0  0.0      1.0    172.0      0      0.0   \n",
       "17  66.0  0.0  3.0     150.0  226.0  0.0      1.0    114.0      0      2.6   \n",
       "18  43.0  1.0  0.0     150.0  247.0  0.0      1.0    171.0      0      1.5   \n",
       "19  69.0  0.0  3.0     140.0  239.0  0.0      1.0    151.0      0      1.8   \n",
       "20  59.0  1.0  0.0     135.0  234.0  0.0      1.0    161.0      0      0.5   \n",
       "21  44.0  1.0  2.0     130.0  233.0  0.0      1.0    179.0      1      0.4   \n",
       "22  42.0  1.0  0.0     140.0  226.0  0.0      1.0    178.0      0      0.0   \n",
       "23  61.0  1.0  2.0     150.0  243.0  1.0      1.0    137.0      1      1.0   \n",
       "24  40.0  1.0  3.0     140.0  199.0  0.0      1.0    178.0      1      1.4   \n",
       "25  71.0  0.0  1.0       NaN  302.0  0.0      1.0    162.0      0      0.4   \n",
       "26  59.0  1.0  2.0     150.0  212.0  1.0      1.0    157.0      0      1.6   \n",
       "27  51.0  1.0  2.0     110.0  175.0  0.0      1.0    123.0      0      0.6   \n",
       "28  65.0  0.0  2.0     140.0  417.0  1.0      0.0    157.0      0      0.8   \n",
       "29  53.0  1.0  2.0     130.0  197.0  1.0      0.0    152.0      0      1.2   \n",
       "\n",
       "    slope  ca  thal  target  \n",
       "0       0   0     1       1  \n",
       "1       0   0     2       1  \n",
       "2       2   0     2       1  \n",
       "3       2   0     2       1  \n",
       "4       2   0     2       1  \n",
       "5       1   0     1       1  \n",
       "6       1   0     2       1  \n",
       "7       2   0     3       1  \n",
       "8       2   0     3       1  \n",
       "9       2   0     2       1  \n",
       "10      2   0     2       1  \n",
       "11      2   0     2       1  \n",
       "12      2   0     2       1  \n",
       "13      1   0     2       1  \n",
       "14      2   0     2       1  \n",
       "15      1   0     2       1  \n",
       "16      2   0     2       1  \n",
       "17      0   0     2       1  \n",
       "18      2   0     2       1  \n",
       "19      2   2     2       1  \n",
       "20      1   0     3       1  \n",
       "21      2   0     2       1  \n",
       "22      2   0     2       1  \n",
       "23      1   0     2       1  \n",
       "24      2   0     3       1  \n",
       "25      2   2     2       1  \n",
       "26      2   0     2       1  \n",
       "27      2   0     2       1  \n",
       "28      2   1     2       1  \n",
       "29      0   0     2       1  "
      ]
     },
     "execution_count": 50,
     "metadata": {},
     "output_type": "execute_result"
    }
   ],
   "source": [
    "print(data.isnull().sum()) \n",
    "data.head(30)"
   ]
  },
  {
   "cell_type": "code",
   "execution_count": 51,
   "metadata": {},
   "outputs": [
    {
     "name": "stdout",
     "output_type": "stream",
     "text": [
      "imputing missing data\n"
     ]
    }
   ],
   "source": [
    "print('imputing missing data')\n",
    "data = pd.read_csv(\"heart.csv\",sep='\\t') \n",
    "numerical_columns = ['age', 'trestbps', 'chol', 'thalach','oldpeak']\n",
    "categorical_columns = ['sex', 'cp', 'restecg','exang', 'slope','ca','thal','fbs']\n",
    "for col in numerical_columns: \n",
    "    data[col].fillna(data[col].median(), inplace = True)\n",
    "    \n",
    "for col in categorical_columns: \n",
    "    data[col].fillna(data[col].mode()[0], inplace = True)\n"
   ]
  },
  {
   "cell_type": "code",
   "execution_count": 52,
   "metadata": {},
   "outputs": [
    {
     "data": {
      "text/html": [
       "<div>\n",
       "<style scoped>\n",
       "    .dataframe tbody tr th:only-of-type {\n",
       "        vertical-align: middle;\n",
       "    }\n",
       "\n",
       "    .dataframe tbody tr th {\n",
       "        vertical-align: top;\n",
       "    }\n",
       "\n",
       "    .dataframe thead th {\n",
       "        text-align: right;\n",
       "    }\n",
       "</style>\n",
       "<table border=\"1\" class=\"dataframe\">\n",
       "  <thead>\n",
       "    <tr style=\"text-align: right;\">\n",
       "      <th></th>\n",
       "      <th>age</th>\n",
       "      <th>sex</th>\n",
       "      <th>cp</th>\n",
       "      <th>trestbps</th>\n",
       "      <th>chol</th>\n",
       "      <th>fbs</th>\n",
       "      <th>restecg</th>\n",
       "      <th>thalach</th>\n",
       "      <th>exang</th>\n",
       "      <th>oldpeak</th>\n",
       "      <th>slope</th>\n",
       "      <th>ca</th>\n",
       "      <th>thal</th>\n",
       "      <th>target</th>\n",
       "    </tr>\n",
       "  </thead>\n",
       "  <tbody>\n",
       "    <tr>\n",
       "      <th>count</th>\n",
       "      <td>303.000000</td>\n",
       "      <td>303.000000</td>\n",
       "      <td>303.000000</td>\n",
       "      <td>303.000000</td>\n",
       "      <td>303.000000</td>\n",
       "      <td>303.000000</td>\n",
       "      <td>303.000000</td>\n",
       "      <td>303.000000</td>\n",
       "      <td>303.000000</td>\n",
       "      <td>303.000000</td>\n",
       "      <td>303.000000</td>\n",
       "      <td>303.000000</td>\n",
       "      <td>303.000000</td>\n",
       "      <td>303.000000</td>\n",
       "    </tr>\n",
       "    <tr>\n",
       "      <th>mean</th>\n",
       "      <td>54.405941</td>\n",
       "      <td>0.686469</td>\n",
       "      <td>0.953795</td>\n",
       "      <td>131.630363</td>\n",
       "      <td>245.848185</td>\n",
       "      <td>0.148515</td>\n",
       "      <td>0.524752</td>\n",
       "      <td>149.610561</td>\n",
       "      <td>0.326733</td>\n",
       "      <td>1.036634</td>\n",
       "      <td>1.399340</td>\n",
       "      <td>0.729373</td>\n",
       "      <td>2.313531</td>\n",
       "      <td>0.544554</td>\n",
       "    </tr>\n",
       "    <tr>\n",
       "      <th>std</th>\n",
       "      <td>8.964069</td>\n",
       "      <td>0.464696</td>\n",
       "      <td>1.031544</td>\n",
       "      <td>17.358758</td>\n",
       "      <td>51.604360</td>\n",
       "      <td>0.356198</td>\n",
       "      <td>0.519693</td>\n",
       "      <td>22.858624</td>\n",
       "      <td>0.469794</td>\n",
       "      <td>1.158160</td>\n",
       "      <td>0.616226</td>\n",
       "      <td>1.022606</td>\n",
       "      <td>0.612277</td>\n",
       "      <td>0.498835</td>\n",
       "    </tr>\n",
       "    <tr>\n",
       "      <th>min</th>\n",
       "      <td>29.000000</td>\n",
       "      <td>0.000000</td>\n",
       "      <td>0.000000</td>\n",
       "      <td>94.000000</td>\n",
       "      <td>126.000000</td>\n",
       "      <td>0.000000</td>\n",
       "      <td>0.000000</td>\n",
       "      <td>71.000000</td>\n",
       "      <td>0.000000</td>\n",
       "      <td>0.000000</td>\n",
       "      <td>0.000000</td>\n",
       "      <td>0.000000</td>\n",
       "      <td>0.000000</td>\n",
       "      <td>0.000000</td>\n",
       "    </tr>\n",
       "    <tr>\n",
       "      <th>25%</th>\n",
       "      <td>48.000000</td>\n",
       "      <td>0.000000</td>\n",
       "      <td>0.000000</td>\n",
       "      <td>120.000000</td>\n",
       "      <td>211.000000</td>\n",
       "      <td>0.000000</td>\n",
       "      <td>0.000000</td>\n",
       "      <td>133.500000</td>\n",
       "      <td>0.000000</td>\n",
       "      <td>0.000000</td>\n",
       "      <td>1.000000</td>\n",
       "      <td>0.000000</td>\n",
       "      <td>2.000000</td>\n",
       "      <td>0.000000</td>\n",
       "    </tr>\n",
       "    <tr>\n",
       "      <th>50%</th>\n",
       "      <td>55.000000</td>\n",
       "      <td>1.000000</td>\n",
       "      <td>1.000000</td>\n",
       "      <td>130.000000</td>\n",
       "      <td>240.000000</td>\n",
       "      <td>0.000000</td>\n",
       "      <td>1.000000</td>\n",
       "      <td>153.000000</td>\n",
       "      <td>0.000000</td>\n",
       "      <td>0.800000</td>\n",
       "      <td>1.000000</td>\n",
       "      <td>0.000000</td>\n",
       "      <td>2.000000</td>\n",
       "      <td>1.000000</td>\n",
       "    </tr>\n",
       "    <tr>\n",
       "      <th>75%</th>\n",
       "      <td>61.000000</td>\n",
       "      <td>1.000000</td>\n",
       "      <td>2.000000</td>\n",
       "      <td>140.000000</td>\n",
       "      <td>274.000000</td>\n",
       "      <td>0.000000</td>\n",
       "      <td>1.000000</td>\n",
       "      <td>166.000000</td>\n",
       "      <td>1.000000</td>\n",
       "      <td>1.600000</td>\n",
       "      <td>2.000000</td>\n",
       "      <td>1.000000</td>\n",
       "      <td>3.000000</td>\n",
       "      <td>1.000000</td>\n",
       "    </tr>\n",
       "    <tr>\n",
       "      <th>max</th>\n",
       "      <td>77.000000</td>\n",
       "      <td>1.000000</td>\n",
       "      <td>3.000000</td>\n",
       "      <td>200.000000</td>\n",
       "      <td>564.000000</td>\n",
       "      <td>1.000000</td>\n",
       "      <td>2.000000</td>\n",
       "      <td>202.000000</td>\n",
       "      <td>1.000000</td>\n",
       "      <td>6.200000</td>\n",
       "      <td>2.000000</td>\n",
       "      <td>4.000000</td>\n",
       "      <td>3.000000</td>\n",
       "      <td>1.000000</td>\n",
       "    </tr>\n",
       "  </tbody>\n",
       "</table>\n",
       "</div>"
      ],
      "text/plain": [
       "              age         sex          cp    trestbps        chol         fbs  \\\n",
       "count  303.000000  303.000000  303.000000  303.000000  303.000000  303.000000   \n",
       "mean    54.405941    0.686469    0.953795  131.630363  245.848185    0.148515   \n",
       "std      8.964069    0.464696    1.031544   17.358758   51.604360    0.356198   \n",
       "min     29.000000    0.000000    0.000000   94.000000  126.000000    0.000000   \n",
       "25%     48.000000    0.000000    0.000000  120.000000  211.000000    0.000000   \n",
       "50%     55.000000    1.000000    1.000000  130.000000  240.000000    0.000000   \n",
       "75%     61.000000    1.000000    2.000000  140.000000  274.000000    0.000000   \n",
       "max     77.000000    1.000000    3.000000  200.000000  564.000000    1.000000   \n",
       "\n",
       "          restecg     thalach       exang     oldpeak       slope          ca  \\\n",
       "count  303.000000  303.000000  303.000000  303.000000  303.000000  303.000000   \n",
       "mean     0.524752  149.610561    0.326733    1.036634    1.399340    0.729373   \n",
       "std      0.519693   22.858624    0.469794    1.158160    0.616226    1.022606   \n",
       "min      0.000000   71.000000    0.000000    0.000000    0.000000    0.000000   \n",
       "25%      0.000000  133.500000    0.000000    0.000000    1.000000    0.000000   \n",
       "50%      1.000000  153.000000    0.000000    0.800000    1.000000    0.000000   \n",
       "75%      1.000000  166.000000    1.000000    1.600000    2.000000    1.000000   \n",
       "max      2.000000  202.000000    1.000000    6.200000    2.000000    4.000000   \n",
       "\n",
       "             thal      target  \n",
       "count  303.000000  303.000000  \n",
       "mean     2.313531    0.544554  \n",
       "std      0.612277    0.498835  \n",
       "min      0.000000    0.000000  \n",
       "25%      2.000000    0.000000  \n",
       "50%      2.000000    1.000000  \n",
       "75%      3.000000    1.000000  \n",
       "max      3.000000    1.000000  "
      ]
     },
     "execution_count": 52,
     "metadata": {},
     "output_type": "execute_result"
    }
   ],
   "source": [
    "data.describe()"
   ]
  },
  {
   "cell_type": "markdown",
   "metadata": {},
   "source": [
    "#### Question 2.A\n",
    "\n",
    "Using confidence intervals determine for which numerical features you can state with confidence of 95% that the healthy population (target = 0) mean is larger/smaller than the disease population (target = 1) mean."
   ]
  },
  {
   "cell_type": "code",
   "execution_count": 53,
   "metadata": {},
   "outputs": [],
   "source": [
    "n = data.describe()['age']['count']\n"
   ]
  },
  {
   "cell_type": "code",
   "execution_count": 54,
   "metadata": {},
   "outputs": [
    {
     "data": {
      "text/html": [
       "<div>\n",
       "<style scoped>\n",
       "    .dataframe tbody tr th:only-of-type {\n",
       "        vertical-align: middle;\n",
       "    }\n",
       "\n",
       "    .dataframe tbody tr th {\n",
       "        vertical-align: top;\n",
       "    }\n",
       "\n",
       "    .dataframe thead th {\n",
       "        text-align: right;\n",
       "    }\n",
       "</style>\n",
       "<table border=\"1\" class=\"dataframe\">\n",
       "  <thead>\n",
       "    <tr style=\"text-align: right;\">\n",
       "      <th></th>\n",
       "      <th>age</th>\n",
       "      <th>sex</th>\n",
       "      <th>cp</th>\n",
       "      <th>trestbps</th>\n",
       "      <th>chol</th>\n",
       "      <th>fbs</th>\n",
       "      <th>restecg</th>\n",
       "      <th>thalach</th>\n",
       "      <th>exang</th>\n",
       "      <th>oldpeak</th>\n",
       "      <th>slope</th>\n",
       "      <th>ca</th>\n",
       "      <th>thal</th>\n",
       "      <th>target</th>\n",
       "    </tr>\n",
       "  </thead>\n",
       "  <tbody>\n",
       "    <tr>\n",
       "      <th>count</th>\n",
       "      <td>165.000000</td>\n",
       "      <td>165.000000</td>\n",
       "      <td>165.000000</td>\n",
       "      <td>165.000000</td>\n",
       "      <td>165.000000</td>\n",
       "      <td>165.000000</td>\n",
       "      <td>165.000000</td>\n",
       "      <td>165.000000</td>\n",
       "      <td>165.000000</td>\n",
       "      <td>165.000000</td>\n",
       "      <td>165.000000</td>\n",
       "      <td>165.000000</td>\n",
       "      <td>165.000000</td>\n",
       "      <td>165.0</td>\n",
       "    </tr>\n",
       "    <tr>\n",
       "      <th>mean</th>\n",
       "      <td>52.515152</td>\n",
       "      <td>0.563636</td>\n",
       "      <td>1.351515</td>\n",
       "      <td>129.315152</td>\n",
       "      <td>241.896970</td>\n",
       "      <td>0.139394</td>\n",
       "      <td>0.593939</td>\n",
       "      <td>158.424242</td>\n",
       "      <td>0.139394</td>\n",
       "      <td>0.589091</td>\n",
       "      <td>1.593939</td>\n",
       "      <td>0.363636</td>\n",
       "      <td>2.121212</td>\n",
       "      <td>1.0</td>\n",
       "    </tr>\n",
       "    <tr>\n",
       "      <th>std</th>\n",
       "      <td>9.377325</td>\n",
       "      <td>0.497444</td>\n",
       "      <td>0.961491</td>\n",
       "      <td>15.810928</td>\n",
       "      <td>53.220391</td>\n",
       "      <td>0.347412</td>\n",
       "      <td>0.504818</td>\n",
       "      <td>19.159520</td>\n",
       "      <td>0.347412</td>\n",
       "      <td>0.780089</td>\n",
       "      <td>0.593635</td>\n",
       "      <td>0.848894</td>\n",
       "      <td>0.465752</td>\n",
       "      <td>0.0</td>\n",
       "    </tr>\n",
       "    <tr>\n",
       "      <th>min</th>\n",
       "      <td>29.000000</td>\n",
       "      <td>0.000000</td>\n",
       "      <td>0.000000</td>\n",
       "      <td>94.000000</td>\n",
       "      <td>126.000000</td>\n",
       "      <td>0.000000</td>\n",
       "      <td>0.000000</td>\n",
       "      <td>96.000000</td>\n",
       "      <td>0.000000</td>\n",
       "      <td>0.000000</td>\n",
       "      <td>0.000000</td>\n",
       "      <td>0.000000</td>\n",
       "      <td>0.000000</td>\n",
       "      <td>1.0</td>\n",
       "    </tr>\n",
       "    <tr>\n",
       "      <th>25%</th>\n",
       "      <td>45.000000</td>\n",
       "      <td>0.000000</td>\n",
       "      <td>1.000000</td>\n",
       "      <td>120.000000</td>\n",
       "      <td>209.000000</td>\n",
       "      <td>0.000000</td>\n",
       "      <td>0.000000</td>\n",
       "      <td>149.000000</td>\n",
       "      <td>0.000000</td>\n",
       "      <td>0.000000</td>\n",
       "      <td>1.000000</td>\n",
       "      <td>0.000000</td>\n",
       "      <td>2.000000</td>\n",
       "      <td>1.0</td>\n",
       "    </tr>\n",
       "    <tr>\n",
       "      <th>50%</th>\n",
       "      <td>52.000000</td>\n",
       "      <td>1.000000</td>\n",
       "      <td>2.000000</td>\n",
       "      <td>130.000000</td>\n",
       "      <td>235.000000</td>\n",
       "      <td>0.000000</td>\n",
       "      <td>1.000000</td>\n",
       "      <td>161.000000</td>\n",
       "      <td>0.000000</td>\n",
       "      <td>0.200000</td>\n",
       "      <td>2.000000</td>\n",
       "      <td>0.000000</td>\n",
       "      <td>2.000000</td>\n",
       "      <td>1.0</td>\n",
       "    </tr>\n",
       "    <tr>\n",
       "      <th>75%</th>\n",
       "      <td>59.000000</td>\n",
       "      <td>1.000000</td>\n",
       "      <td>2.000000</td>\n",
       "      <td>140.000000</td>\n",
       "      <td>265.000000</td>\n",
       "      <td>0.000000</td>\n",
       "      <td>1.000000</td>\n",
       "      <td>172.000000</td>\n",
       "      <td>0.000000</td>\n",
       "      <td>1.000000</td>\n",
       "      <td>2.000000</td>\n",
       "      <td>0.000000</td>\n",
       "      <td>2.000000</td>\n",
       "      <td>1.0</td>\n",
       "    </tr>\n",
       "    <tr>\n",
       "      <th>max</th>\n",
       "      <td>76.000000</td>\n",
       "      <td>1.000000</td>\n",
       "      <td>3.000000</td>\n",
       "      <td>180.000000</td>\n",
       "      <td>564.000000</td>\n",
       "      <td>1.000000</td>\n",
       "      <td>2.000000</td>\n",
       "      <td>202.000000</td>\n",
       "      <td>1.000000</td>\n",
       "      <td>4.200000</td>\n",
       "      <td>2.000000</td>\n",
       "      <td>4.000000</td>\n",
       "      <td>3.000000</td>\n",
       "      <td>1.0</td>\n",
       "    </tr>\n",
       "  </tbody>\n",
       "</table>\n",
       "</div>"
      ],
      "text/plain": [
       "              age         sex          cp    trestbps        chol         fbs  \\\n",
       "count  165.000000  165.000000  165.000000  165.000000  165.000000  165.000000   \n",
       "mean    52.515152    0.563636    1.351515  129.315152  241.896970    0.139394   \n",
       "std      9.377325    0.497444    0.961491   15.810928   53.220391    0.347412   \n",
       "min     29.000000    0.000000    0.000000   94.000000  126.000000    0.000000   \n",
       "25%     45.000000    0.000000    1.000000  120.000000  209.000000    0.000000   \n",
       "50%     52.000000    1.000000    2.000000  130.000000  235.000000    0.000000   \n",
       "75%     59.000000    1.000000    2.000000  140.000000  265.000000    0.000000   \n",
       "max     76.000000    1.000000    3.000000  180.000000  564.000000    1.000000   \n",
       "\n",
       "          restecg     thalach       exang     oldpeak       slope          ca  \\\n",
       "count  165.000000  165.000000  165.000000  165.000000  165.000000  165.000000   \n",
       "mean     0.593939  158.424242    0.139394    0.589091    1.593939    0.363636   \n",
       "std      0.504818   19.159520    0.347412    0.780089    0.593635    0.848894   \n",
       "min      0.000000   96.000000    0.000000    0.000000    0.000000    0.000000   \n",
       "25%      0.000000  149.000000    0.000000    0.000000    1.000000    0.000000   \n",
       "50%      1.000000  161.000000    0.000000    0.200000    2.000000    0.000000   \n",
       "75%      1.000000  172.000000    0.000000    1.000000    2.000000    0.000000   \n",
       "max      2.000000  202.000000    1.000000    4.200000    2.000000    4.000000   \n",
       "\n",
       "             thal  target  \n",
       "count  165.000000   165.0  \n",
       "mean     2.121212     1.0  \n",
       "std      0.465752     0.0  \n",
       "min      0.000000     1.0  \n",
       "25%      2.000000     1.0  \n",
       "50%      2.000000     1.0  \n",
       "75%      2.000000     1.0  \n",
       "max      3.000000     1.0  "
      ]
     },
     "execution_count": 54,
     "metadata": {},
     "output_type": "execute_result"
    }
   ],
   "source": [
    "data[data['target'] == 1].describe()"
   ]
  },
  {
   "cell_type": "code",
   "execution_count": 55,
   "metadata": {},
   "outputs": [
    {
     "data": {
      "text/plain": [
       "8.964069060918124"
      ]
     },
     "execution_count": 55,
     "metadata": {},
     "output_type": "execute_result"
    }
   ],
   "source": [
    "data['age'].std()"
   ]
  },
  {
   "cell_type": "code",
   "execution_count": 56,
   "metadata": {},
   "outputs": [
    {
     "data": {
      "text/plain": [
       "(2.20610174258312, 6.096928560447177)"
      ]
     },
     "execution_count": 56,
     "metadata": {},
     "output_type": "execute_result"
    }
   ],
   "source": [
    "def is_within_ci(data, col):\n",
    "    a = 0.05\n",
    "    c = 0.0\n",
    "    c1 = 0.0\n",
    "    x1 = data[data['target'] == 1][col]\n",
    "    x2 = data[data['target'] == 0][col]\n",
    "    n1 = len(x1)\n",
    "    n2 = len(x2)\n",
    "    m1, s1 = x1.mean(), x1.std()\n",
    "    m2, s2 = x2.mean(), x2.std()\n",
    "    SE = np.sqrt(s1**2 / n1 + s2**2 / n2)\n",
    "    conf_int = (m2-m1 - SE*norm.ppf(1-a/2) , m2-m1 + SE*norm.ppf(1-a/2))\n",
    "    comp = sms.CompareMeans(sms.DescrStatsW(x2),sms.DescrStatsW(x1))\n",
    "    conf_int1 = comp.tconfint_diff()\n",
    "    \n",
    "    return conf_int\n",
    "\n",
    "is_within_ci(data,'age')"
   ]
  },
  {
   "cell_type": "code",
   "execution_count": 57,
   "metadata": {
    "scrolled": true
   },
   "outputs": [
    {
     "name": "stdout",
     "output_type": "stream",
     "text": [
      "==========\n",
      "col age\n",
      "healthy 56.666666666666664\n",
      "sick 52.515151515151516\n",
      "(2.20610174258312, 6.096928560447177)\n",
      "==========\n",
      "col trestbps\n",
      "healthy 134.3985507246377\n",
      "sick 129.3151515151515\n",
      "(1.1355575846807615, 9.031240834291587)\n",
      "==========\n",
      "col chol\n",
      "healthy 250.57246376811594\n",
      "sick 241.8969696969697\n",
      "(-2.892532620825957, 20.243520763118422)\n",
      "==========\n",
      "col thalach\n",
      "healthy 139.07246376811594\n",
      "sick 158.42424242424244\n",
      "(-24.11190418153853, -14.591653130714466)\n",
      "==========\n",
      "col oldpeak\n",
      "healthy 1.5717391304347832\n",
      "sick 0.589090909090909\n",
      "(0.7347501801873136, 1.2305462625004346)\n"
     ]
    }
   ],
   "source": [
    "for col in numerical_columns:\n",
    "        print('==========')\n",
    "        print('col', col )\n",
    "        print('healthy', data[data['target'] == 0][col].mean())\n",
    "        print('sick', data[data['target'] == 1][col].mean())\n",
    "        print(is_within_ci(data, col))"
   ]
  },
  {
   "cell_type": "markdown",
   "metadata": {},
   "source": [
    "#### Question 2.B\n",
    "\n",
    "Draw histograms for each numerical feature. Inspect the observed distributions and then use MLE to plot, on the same figures, fits of the distributions."
   ]
  },
  {
   "cell_type": "code",
   "execution_count": 58,
   "metadata": {},
   "outputs": [
    {
     "name": "stderr",
     "output_type": "stream",
     "text": [
      "C:\\Users\\danielm\\AppData\\Local\\Continuum\\anaconda3_7\\lib\\site-packages\\ipykernel_launcher.py:8: DeprecationWarning: scipy.arange is deprecated and will be removed in SciPy 2.0.0, use numpy.arange instead\n",
      "  \n"
     ]
    },
    {
     "data": {
      "image/png": "[encoded data removed]",
      "text/plain": [
       "<Figure size 432x288 with 1 Axes>"
      ]
     },
     "metadata": {
      "needs_background": "light"
     },
     "output_type": "display_data"
    },
    {
     "name": "stderr",
     "output_type": "stream",
     "text": [
      "C:\\Users\\danielm\\AppData\\Local\\Continuum\\anaconda3_7\\lib\\site-packages\\ipykernel_launcher.py:8: DeprecationWarning: scipy.arange is deprecated and will be removed in SciPy 2.0.0, use numpy.arange instead\n",
      "  \n",
      "C:\\Users\\danielm\\AppData\\Local\\Continuum\\anaconda3_7\\lib\\site-packages\\scipy\\optimize\\minpack.py:175: RuntimeWarning: The iteration is not making good progress, as measured by the \n",
      "  improvement from the last ten iterations.\n",
      "  warnings.warn(msg, RuntimeWarning)\n"
     ]
    },
    {
     "data": {
      "image/png": "[encoded data removed]",
      "text/plain": [
       "<Figure size 432x288 with 1 Axes>"
      ]
     },
     "metadata": {
      "needs_background": "light"
     },
     "output_type": "display_data"
    },
    {
     "name": "stderr",
     "output_type": "stream",
     "text": [
      "C:\\Users\\danielm\\AppData\\Local\\Continuum\\anaconda3_7\\lib\\site-packages\\ipykernel_launcher.py:8: DeprecationWarning: scipy.arange is deprecated and will be removed in SciPy 2.0.0, use numpy.arange instead\n",
      "  \n",
      "C:\\Users\\danielm\\AppData\\Local\\Continuum\\anaconda3_7\\lib\\site-packages\\scipy\\stats\\_continuous_distns.py:621: RuntimeWarning: invalid value encountered in sqrt\n",
      "  sk = 2*(b-a)*np.sqrt(a + b + 1) / (a + b + 2) / np.sqrt(a*b)\n",
      "C:\\Users\\danielm\\AppData\\Local\\Continuum\\anaconda3_7\\lib\\site-packages\\scipy\\optimize\\minpack.py:175: RuntimeWarning: The iteration is not making good progress, as measured by the \n",
      "  improvement from the last ten iterations.\n",
      "  warnings.warn(msg, RuntimeWarning)\n"
     ]
    },
    {
     "data": {
      "image/png": "[encoded data removed]",
      "text/plain": [
       "<Figure size 432x288 with 1 Axes>"
      ]
     },
     "metadata": {
      "needs_background": "light"
     },
     "output_type": "display_data"
    },
    {
     "name": "stderr",
     "output_type": "stream",
     "text": [
      "C:\\Users\\danielm\\AppData\\Local\\Continuum\\anaconda3_7\\lib\\site-packages\\ipykernel_launcher.py:8: DeprecationWarning: scipy.arange is deprecated and will be removed in SciPy 2.0.0, use numpy.arange instead\n",
      "  \n"
     ]
    },
    {
     "data": {
      "image/png": "[encoded data removed]",
      "text/plain": [
       "<Figure size 432x288 with 1 Axes>"
      ]
     },
     "metadata": {
      "needs_background": "light"
     },
     "output_type": "display_data"
    },
    {
     "name": "stderr",
     "output_type": "stream",
     "text": [
      "C:\\Users\\danielm\\AppData\\Local\\Continuum\\anaconda3_7\\lib\\site-packages\\ipykernel_launcher.py:8: DeprecationWarning: scipy.arange is deprecated and will be removed in SciPy 2.0.0, use numpy.arange instead\n",
      "  \n",
      "C:\\Users\\danielm\\AppData\\Local\\Continuum\\anaconda3_7\\lib\\site-packages\\scipy\\stats\\_continuous_distns.py:621: RuntimeWarning: invalid value encountered in sqrt\n",
      "  sk = 2*(b-a)*np.sqrt(a + b + 1) / (a + b + 2) / np.sqrt(a*b)\n"
     ]
    },
    {
     "data": {
      "image/png": "[encoded data removed]",
      "text/plain": [
       "<Figure size 432x288 with 1 Axes>"
      ]
     },
     "metadata": {
      "needs_background": "light"
     },
     "output_type": "display_data"
    }
   ],
   "source": [
    "import matplotlib.pyplot as plt\n",
    "import scipy\n",
    "import scipy.stats\n",
    "\n",
    "dist_names = ['gamma', 'beta', 'norm']\n",
    "for col in numerical_columns:\n",
    "    size = 303\n",
    "    x = scipy.arange(size)\n",
    "    y = data[col]\n",
    "    h = plt.hist(y)\n",
    "    plt.title('feature: %s' % col)\n",
    "    for dist_name in dist_names:\n",
    "        dist = getattr(scipy.stats, dist_name)\n",
    "        param = dist.fit(y)\n",
    "        pdf_fitted = dist.pdf(x, *param[:-2], loc=param[-2], scale=param[-1]) * size\n",
    "        plt.plot(pdf_fitted, label=dist_name)\n",
    "    plt.legend(loc='upper right')\n",
    "    plt.show()  \n"
   ]
  },
  {
   "cell_type": "markdown",
   "metadata": {},
   "source": [
    "#### Q2.C\n",
    "For each pair of numerical feature, calculate correlations and indicate whether you find them significant. For select pairs, with significant correlations, draw joint plot with marginal histograms (see Seaborn joint plot) and find bivariate normal fits. Then use the example code below to draw plots of the bivariate pdfs (you may edit the code as you see fit)."
   ]
  },
  {
   "cell_type": "code",
   "execution_count": 59,
   "metadata": {},
   "outputs": [
    {
     "name": "stdout",
     "output_type": "stream",
     "text": [
      "[[('chol', 'thalach'), -0.017785490817039954], [('trestbps', 'thalach'), -0.04037807115112705], [('chol', 'oldpeak'), 0.060660570504369855], [('trestbps', 'chol'), 0.11528201415539978], [('trestbps', 'oldpeak'), 0.19422012521807216], [('age', 'chol'), 0.20890859159075742], [('age', 'oldpeak'), 0.21847710612643484], [('age', 'trestbps'), 0.256794232630441], [('thalach', 'oldpeak'), -0.33006039658407565], [('age', 'thalach'), -0.40167124456098513]]\n",
      "[[('trestbps', 'thalach'), -0.030046127777654794], [('chol', 'oldpeak'), 0.056352801075827595], [('chol', 'thalach'), -0.056728482136683134], [('trestbps', 'chol'), 0.1212643989971812], [('trestbps', 'oldpeak'), 0.14971649548776053], [('age', 'chol'), 0.18858595370234046], [('age', 'trestbps'), 0.2605957148412386], [('age', 'oldpeak'), 0.28264044554197887], [('age', 'thalach'), -0.40397100260048757], [('thalach', 'oldpeak'), -0.4189181346651152]]\n",
      "[[('trestbps', 'thalach'), -0.021216176750762303], [('chol', 'thalach'), -0.03817998784893938], [('chol', 'oldpeak'), 0.04333492137095699], [('trestbps', 'chol'), 0.08236372869148562], [('trestbps', 'oldpeak'), 0.10646813202663696], [('age', 'chol'), 0.13018970815641648], [('age', 'trestbps'), 0.1838115983599489], [('age', 'oldpeak'), 0.20475391646894245], [('age', 'thalach'), -0.28367903656004106], [('thalach', 'oldpeak'), -0.29627179833728895]]\n"
     ]
    }
   ],
   "source": [
    "import itertools\n",
    "\n",
    "pearson = []\n",
    "spearman = []\n",
    "kendle = []\n",
    "\n",
    "for pair in itertools.combinations(numerical_columns, 2):\n",
    "    kendle.append([pair,stats.kendalltau(data[pair[0]], data[pair[1]])[0]])\n",
    "    spearman.append([pair, stats.spearmanr(data[pair[0]], data[pair[1]])[0]])\n",
    "    pearson.append([pair,np.corrcoef(data[pair[0]], data[pair[1]])[0][1]])\n",
    "\n",
    "pearson.sort(key = lambda x: abs(x[1]))\n",
    "spearman.sort(key = lambda x: abs(x[1]))\n",
    "kendle.sort(key = lambda x: abs(x[1]))\n",
    "\n",
    "print(pearson)\n",
    "print(spearman)\n",
    "print(kendle)\n",
    "\n"
   ]
  },
  {
   "cell_type": "markdown",
   "metadata": {},
   "source": [
    "Seem like age has the strongest coorelation with any other feature. Which is not exteremely suprising, but its also nice that the numbers are supporting it.\n",
    "seems like all 3 correlations are supporting very similar correlation results.\n",
    "\n",
    "Lets observe at the pair('age', 'thalach') which means correaltion of age and the maximum heart eate achived.\n",
    "Even none medically trained people knows that the older you get the maximum heart rate you can reach reduces. This knowledge is supported by the negative correlation observed in the numbers above. \n"
   ]
  },
  {
   "cell_type": "code",
   "execution_count": 60,
   "metadata": {},
   "outputs": [
    {
     "data": {
      "text/plain": [
       "<seaborn.axisgrid.JointGrid at 0x1e46528d390>"
      ]
     },
     "execution_count": 60,
     "metadata": {},
     "output_type": "execute_result"
    },
    {
     "data": {
      "image/png": "[encoded data removed]",
      "text/plain": [
       "<Figure size 432x432 with 3 Axes>"
      ]
     },
     "metadata": {
      "needs_background": "light"
     },
     "output_type": "display_data"
    }
   ],
   "source": [
    "sns.jointplot(data['age'],data['thalach'])"
   ]
  },
  {
   "cell_type": "markdown",
   "metadata": {},
   "source": [
    "('age', 'thalach')"
   ]
  },
  {
   "cell_type": "code",
   "execution_count": 61,
   "metadata": {},
   "outputs": [
    {
     "data": {
      "image/png": "[encoded data removed]",
      "text/plain": [
       "<Figure size 432x288 with 1 Axes>"
      ]
     },
     "metadata": {
      "needs_background": "light"
     },
     "output_type": "display_data"
    }
   ],
   "source": [
    "# Example code for bivariate pdfs\n",
    "from scipy.stats import multivariate_normal as mn\n",
    "import numpy as np\n",
    "import matplotlib.pyplot as plt\n",
    "%matplotlib inline\n",
    "\n",
    "def plot_2d_Gaussian_pdf(means, cov):\n",
    "    n = 100\n",
    "    x1 = np.linspace(means[0] - 3 * np.sqrt(cov[0][0]), means[0] + 3 * np.sqrt(cov[0][0]), n)\n",
    "    x2 = np.linspace(means[1] - 3 * np.sqrt(cov[1][1]), means[1] + 3 * np.sqrt(cov[1][1]), n)\n",
    "    x1_v, x2_v = np.meshgrid(x1, x2)\n",
    "    Xgrid = np.vstack([x1_v.ravel(), x2_v.ravel()]).T\n",
    "    Y = mn.pdf(Xgrid, means, cov)\n",
    "    fig, ax = plt.subplots()\n",
    "    ax.pcolorfast(x1, x2, Y.reshape(x1_v.shape), alpha=0.5, cmap='Blues')\n",
    "    ax.contour(x1_v, x2_v, Y.reshape(x1_v.shape),\n",
    "               levels=[0.05, 0.1, 0.15, 0.2], alpha=0.3, colors='b')\n",
    "    ax.axis('equal')\n",
    "    ax.grid(alpha=0.2)\n",
    "    plt.show()\n",
    "    \n",
    "means = [3, 2]\n",
    "cov = [[1, 0.5], [0.5, 0.8]]\n",
    "plot_2d_Gaussian_pdf(means, cov)"
   ]
  },
  {
   "cell_type": "code",
   "execution_count": 62,
   "metadata": {},
   "outputs": [
    {
     "name": "stderr",
     "output_type": "stream",
     "text": [
      "C:\\Users\\danielm\\AppData\\Local\\Continuum\\anaconda3_7\\lib\\site-packages\\ipykernel_launcher.py:17: UserWarning: No contour levels were found within the data range.\n"
     ]
    },
    {
     "data": {
      "image/png": "[encoded data removed]",
      "text/plain": [
       "<Figure size 432x288 with 1 Axes>"
      ]
     },
     "metadata": {
      "needs_background": "light"
     },
     "output_type": "display_data"
    }
   ],
   "source": [
    "\n",
    "chosen_features = np.array(list(zip(data['age'],data['thalach'])))\n",
    "mean = np.mean(chosen_features, axis=0)\n",
    "cov = np.cov(chosen_features, rowvar=0)\n",
    "plot_2d_Gaussian_pdf(mean, cov)\n"
   ]
  },
  {
   "cell_type": "markdown",
   "metadata": {},
   "source": [
    "#### Q2.D\n",
    "\n",
    "Are there pairs that are significantly correlated in males but not in females? The opposite? How about healthy vs disease? Can you graphically represent this?"
   ]
  },
  {
   "cell_type": "code",
   "execution_count": 63,
   "metadata": {},
   "outputs": [
    {
     "name": "stdout",
     "output_type": "stream",
     "text": [
      "[('chol', 'oldpeak'), 0.10551251281764665]\n",
      "[('chol', 'thalach'), -0.11522622813998133]\n",
      "[('trestbps', 'thalach'), -0.12517552995777445]\n",
      "[('trestbps', 'chol'), 0.19839425535822725]\n",
      "[('age', 'chol'), 0.21673254686818547]\n",
      "[('trestbps', 'oldpeak'), 0.2730344827779164]\n",
      "[('age', 'oldpeak'), 0.281869581190032]\n",
      "[('age', 'trestbps'), 0.30113237757767164]\n",
      "[('thalach', 'oldpeak'), -0.3365173657794275]\n",
      "[('age', 'thalach'), -0.37498821604579025]\n",
      "=======\n",
      "[('trestbps', 'thalach'), -0.00970578718751161]\n",
      "[('chol', 'thalach'), -0.05159335610108076]\n",
      "[('chol', 'oldpeak'), 0.05969690283423958]\n",
      "[('trestbps', 'chol'), 0.06760035954183834]\n",
      "[('trestbps', 'oldpeak'), 0.10021004141050817]\n",
      "[('age', 'chol'), 0.1603519521643918]\n",
      "[('age', 'trestbps'), 0.23898591564208324]\n",
      "[('age', 'oldpeak'), 0.30222070111133015]\n",
      "[('age', 'thalach'), -0.4223001974530681]\n",
      "[('thalach', 'oldpeak'), -0.447901522247016]\n"
     ]
    }
   ],
   "source": [
    "pearson_male = []\n",
    "spearman_male = []\n",
    "kendle_male = []\n",
    "\n",
    "pearson_female = []\n",
    "spearman_female = []\n",
    "kendle_female = []\n",
    "\n",
    "male_data = data[data['sex'] == 1]\n",
    "female_data = data[data['sex'] == 0]\n",
    "\n",
    "for pair in itertools.combinations(numerical_columns, 2):\n",
    "    kendle_male.append([pair,stats.kendalltau(male_data[pair[0]], male_data[pair[1]])[0]])\n",
    "    spearman_male.append([pair, stats.spearmanr(male_data[pair[0]], male_data[pair[1]])[0]])\n",
    "    pearson_male.append([pair,np.corrcoef(male_data[pair[0]], male_data[pair[1]])[0][1]])\n",
    "\n",
    "pearson_male.sort(key = lambda x: abs(x[1]))\n",
    "spearman_male.sort(key = lambda x: abs(x[1]))\n",
    "kendle_male.sort(key = lambda x: abs(x[1]))\n",
    "\n",
    "for pair in itertools.combinations(numerical_columns, 2):\n",
    "    kendle_female.append([pair,stats.kendalltau(female_data[pair[0]], female_data[pair[1]])[0]])\n",
    "    spearman_female.append([pair, stats.spearmanr(female_data[pair[0]], female_data[pair[1]])[0]])\n",
    "    pearson_female.append([pair,np.corrcoef(female_data[pair[0]], female_data[pair[1]])[0][1]])\n",
    "\n",
    "pearson_female.sort(key = lambda x: abs(x[1]))\n",
    "spearman_female.sort(key = lambda x: abs(x[1]))\n",
    "kendle_female.sort(key = lambda x: abs(x[1]))\n",
    "\n",
    "for i in range(len(spearman_female)):\n",
    "    print(spearman_female[i])\n",
    "\n",
    "print('=======')\n",
    "for i in range(len(spearman_male)):\n",
    "    print(spearman_male[i])\n",
    "\n"
   ]
  },
  {
   "cell_type": "markdown",
   "metadata": {},
   "source": [
    "I couldn't find any ground breaking differences in the order or corrs between male and female. \n",
    "Clearly there is a is difference in the magnitude of correlation between male and female.\n",
    "For instance it seems like the relationship between age and cholesterol in male is weaker than in female. maybe that's because male are starting to experience high cholesterol at a much younger age than female , and so the correlation is not so strong.\n",
    "\n",
    "Lets look at healthy vs. sick"
   ]
  },
  {
   "cell_type": "code",
   "execution_count": 64,
   "metadata": {},
   "outputs": [],
   "source": [
    "pearson_healthy = []\n",
    "pearson_sick = []\n",
    "\n",
    "healthy_data = data[data['target'] == 0]\n",
    "sick_data = data[data['target'] == 1]\n",
    "\n",
    "for pair in itertools.combinations(numerical_columns, 2):\n",
    "    pearson_healthy.append([pair,np.corrcoef(healthy_data[pair[0]], healthy_data[pair[1]])[0][1]])\n",
    "    pearson_sick.append([pair,np.corrcoef(sick_data[pair[0]], sick_data[pair[1]])[0][1]])\n",
    "\n",
    "pearson_healthy.sort(key = lambda x: abs(x[1]))\n",
    "pearson_sick.sort(key = lambda x: abs(x[1]))"
   ]
  },
  {
   "cell_type": "markdown",
   "metadata": {},
   "source": [
    "The pair 'age', 'thalach' has a big correaltion difference between healthy and sick people."
   ]
  },
  {
   "cell_type": "code",
   "execution_count": 65,
   "metadata": {},
   "outputs": [
    {
     "name": "stderr",
     "output_type": "stream",
     "text": [
      "C:\\Users\\danielm\\AppData\\Local\\Continuum\\anaconda3_7\\lib\\site-packages\\ipykernel_launcher.py:1: SettingWithCopyWarning: \n",
      "A value is trying to be set on a copy of a slice from a DataFrame.\n",
      "Try using .loc[row_indexer,col_indexer] = value instead\n",
      "\n",
      "See the caveats in the documentation: https://pandas.pydata.org/pandas-docs/stable/user_guide/indexing.html#returning-a-view-versus-a-copy\n",
      "  \"\"\"Entry point for launching an IPython kernel.\n",
      "C:\\Users\\danielm\\AppData\\Local\\Continuum\\anaconda3_7\\lib\\site-packages\\ipykernel_launcher.py:2: SettingWithCopyWarning: \n",
      "A value is trying to be set on a copy of a slice from a DataFrame.\n",
      "Try using .loc[row_indexer,col_indexer] = value instead\n",
      "\n",
      "See the caveats in the documentation: https://pandas.pydata.org/pandas-docs/stable/user_guide/indexing.html#returning-a-view-versus-a-copy\n",
      "  \n",
      "C:\\Users\\danielm\\AppData\\Local\\Continuum\\anaconda3_7\\lib\\site-packages\\ipykernel_launcher.py:3: SettingWithCopyWarning: \n",
      "A value is trying to be set on a copy of a slice from a DataFrame.\n",
      "Try using .loc[row_indexer,col_indexer] = value instead\n",
      "\n",
      "See the caveats in the documentation: https://pandas.pydata.org/pandas-docs/stable/user_guide/indexing.html#returning-a-view-versus-a-copy\n",
      "  This is separate from the ipykernel package so we can avoid doing imports until\n",
      "C:\\Users\\danielm\\AppData\\Local\\Continuum\\anaconda3_7\\lib\\site-packages\\ipykernel_launcher.py:4: SettingWithCopyWarning: \n",
      "A value is trying to be set on a copy of a slice from a DataFrame.\n",
      "Try using .loc[row_indexer,col_indexer] = value instead\n",
      "\n",
      "See the caveats in the documentation: https://pandas.pydata.org/pandas-docs/stable/user_guide/indexing.html#returning-a-view-versus-a-copy\n",
      "  after removing the cwd from sys.path.\n"
     ]
    },
    {
     "data": {
      "text/plain": [
       "<seaborn.axisgrid.JointGrid at 0x1e4674ed7b8>"
      ]
     },
     "execution_count": 65,
     "metadata": {},
     "output_type": "execute_result"
    },
    {
     "data": {
      "image/png": "[encoded data removed]",
      "text/plain": [
       "<Figure size 432x432 with 3 Axes>"
      ]
     },
     "metadata": {
      "needs_background": "light"
     },
     "output_type": "display_data"
    },
    {
     "data": {
      "image/png": "[encoded data removed]",
      "text/plain": [
       "<Figure size 432x432 with 3 Axes>"
      ]
     },
     "metadata": {
      "needs_background": "light"
     },
     "output_type": "display_data"
    }
   ],
   "source": [
    "healthy_data['age_healthy'] = healthy_data['age']\n",
    "healthy_data['thalach_healthy']= healthy_data['thalach']\n",
    "sick_data['age_sick'] = sick_data['age']\n",
    "sick_data['thalach_sick'] = sick_data['thalach']\n",
    "\n",
    "\n",
    "sns.jointplot(healthy_data['age_healthy'] ,healthy_data['thalach_healthy'])\n",
    "sns.jointplot(sick_data['age_sick'],sick_data['thalach_sick'])\n"
   ]
  },
  {
   "cell_type": "markdown",
   "metadata": {},
   "source": [
    "it is very apperent from the join graph that age has a stronger correlation with the reduction of max heart rate with regarding sick people"
   ]
  },
  {
   "cell_type": "markdown",
   "metadata": {},
   "source": [
    "#### Q2.E\n",
    "\n",
    "For each numerical feature, except age, plot the distribution for this feature against bins of age. In each bin provide a split violin plot, with different colors for healthy and disease."
   ]
  },
  {
   "cell_type": "code",
   "execution_count": 66,
   "metadata": {},
   "outputs": [
    {
     "data": {
      "text/html": [
       "<div>\n",
       "<style scoped>\n",
       "    .dataframe tbody tr th:only-of-type {\n",
       "        vertical-align: middle;\n",
       "    }\n",
       "\n",
       "    .dataframe tbody tr th {\n",
       "        vertical-align: top;\n",
       "    }\n",
       "\n",
       "    .dataframe thead th {\n",
       "        text-align: right;\n",
       "    }\n",
       "</style>\n",
       "<table border=\"1\" class=\"dataframe\">\n",
       "  <thead>\n",
       "    <tr style=\"text-align: right;\">\n",
       "      <th></th>\n",
       "      <th>age</th>\n",
       "      <th>sex</th>\n",
       "      <th>cp</th>\n",
       "      <th>trestbps</th>\n",
       "      <th>chol</th>\n",
       "      <th>fbs</th>\n",
       "      <th>restecg</th>\n",
       "      <th>thalach</th>\n",
       "      <th>exang</th>\n",
       "      <th>oldpeak</th>\n",
       "      <th>slope</th>\n",
       "      <th>ca</th>\n",
       "      <th>thal</th>\n",
       "      <th>target</th>\n",
       "      <th>target_words</th>\n",
       "    </tr>\n",
       "  </thead>\n",
       "  <tbody>\n",
       "    <tr>\n",
       "      <th>165</th>\n",
       "      <td>67.0</td>\n",
       "      <td>1.0</td>\n",
       "      <td>0.0</td>\n",
       "      <td>160.0</td>\n",
       "      <td>286.0</td>\n",
       "      <td>0.0</td>\n",
       "      <td>0.0</td>\n",
       "      <td>108.0</td>\n",
       "      <td>1</td>\n",
       "      <td>1.5</td>\n",
       "      <td>1</td>\n",
       "      <td>3</td>\n",
       "      <td>2</td>\n",
       "      <td>0</td>\n",
       "      <td>healthy</td>\n",
       "    </tr>\n",
       "    <tr>\n",
       "      <th>166</th>\n",
       "      <td>67.0</td>\n",
       "      <td>1.0</td>\n",
       "      <td>0.0</td>\n",
       "      <td>120.0</td>\n",
       "      <td>229.0</td>\n",
       "      <td>0.0</td>\n",
       "      <td>0.0</td>\n",
       "      <td>129.0</td>\n",
       "      <td>1</td>\n",
       "      <td>2.6</td>\n",
       "      <td>1</td>\n",
       "      <td>2</td>\n",
       "      <td>3</td>\n",
       "      <td>0</td>\n",
       "      <td>healthy</td>\n",
       "    </tr>\n",
       "    <tr>\n",
       "      <th>167</th>\n",
       "      <td>62.0</td>\n",
       "      <td>0.0</td>\n",
       "      <td>0.0</td>\n",
       "      <td>140.0</td>\n",
       "      <td>240.0</td>\n",
       "      <td>0.0</td>\n",
       "      <td>0.0</td>\n",
       "      <td>160.0</td>\n",
       "      <td>0</td>\n",
       "      <td>3.6</td>\n",
       "      <td>0</td>\n",
       "      <td>2</td>\n",
       "      <td>2</td>\n",
       "      <td>0</td>\n",
       "      <td>healthy</td>\n",
       "    </tr>\n",
       "    <tr>\n",
       "      <th>168</th>\n",
       "      <td>63.0</td>\n",
       "      <td>1.0</td>\n",
       "      <td>0.0</td>\n",
       "      <td>130.0</td>\n",
       "      <td>254.0</td>\n",
       "      <td>0.0</td>\n",
       "      <td>0.0</td>\n",
       "      <td>147.0</td>\n",
       "      <td>0</td>\n",
       "      <td>1.4</td>\n",
       "      <td>1</td>\n",
       "      <td>1</td>\n",
       "      <td>3</td>\n",
       "      <td>0</td>\n",
       "      <td>healthy</td>\n",
       "    </tr>\n",
       "    <tr>\n",
       "      <th>169</th>\n",
       "      <td>53.0</td>\n",
       "      <td>1.0</td>\n",
       "      <td>0.0</td>\n",
       "      <td>140.0</td>\n",
       "      <td>203.0</td>\n",
       "      <td>1.0</td>\n",
       "      <td>0.0</td>\n",
       "      <td>155.0</td>\n",
       "      <td>1</td>\n",
       "      <td>3.1</td>\n",
       "      <td>0</td>\n",
       "      <td>0</td>\n",
       "      <td>3</td>\n",
       "      <td>0</td>\n",
       "      <td>healthy</td>\n",
       "    </tr>\n",
       "  </tbody>\n",
       "</table>\n",
       "</div>"
      ],
      "text/plain": [
       "      age  sex   cp  trestbps   chol  fbs  restecg  thalach  exang  oldpeak  \\\n",
       "165  67.0  1.0  0.0     160.0  286.0  0.0      0.0    108.0      1      1.5   \n",
       "166  67.0  1.0  0.0     120.0  229.0  0.0      0.0    129.0      1      2.6   \n",
       "167  62.0  0.0  0.0     140.0  240.0  0.0      0.0    160.0      0      3.6   \n",
       "168  63.0  1.0  0.0     130.0  254.0  0.0      0.0    147.0      0      1.4   \n",
       "169  53.0  1.0  0.0     140.0  203.0  1.0      0.0    155.0      1      3.1   \n",
       "\n",
       "     slope  ca  thal  target target_words  \n",
       "165      1   3     2       0      healthy  \n",
       "166      1   2     3       0      healthy  \n",
       "167      0   2     2       0      healthy  \n",
       "168      1   1     3       0      healthy  \n",
       "169      0   0     3       0      healthy  "
      ]
     },
     "execution_count": 66,
     "metadata": {},
     "output_type": "execute_result"
    }
   ],
   "source": [
    "def healthy_rating(row):\n",
    "    if row['target'] == 0:\n",
    "        return 'healthy'\n",
    "    else:\n",
    "        return 'sick'\n",
    "\n",
    "\n",
    "data['target_words'] = data.apply(healthy_rating, axis=1)\n",
    "data[data['target_words'] == 'healthy'].head()"
   ]
  },
  {
   "cell_type": "code",
   "execution_count": 67,
   "metadata": {},
   "outputs": [
    {
     "data": {
      "image/png": "[encoded data removed]",
      "text/plain": [
       "<Figure size 582.936x360 with 1 Axes>"
      ]
     },
     "metadata": {
      "needs_background": "light"
     },
     "output_type": "display_data"
    },
    {
     "data": {
      "image/png": "[encoded data removed]",
      "text/plain": [
       "<Figure size 582.936x360 with 1 Axes>"
      ]
     },
     "metadata": {
      "needs_background": "light"
     },
     "output_type": "display_data"
    },
    {
     "data": {
      "image/png": "[encoded data removed]",
      "text/plain": [
       "<Figure size 582.936x360 with 1 Axes>"
      ]
     },
     "metadata": {
      "needs_background": "light"
     },
     "output_type": "display_data"
    },
    {
     "data": {
      "image/png": "[encoded data removed]",
      "text/plain": [
       "<Figure size 582.936x360 with 1 Axes>"
      ]
     },
     "metadata": {
      "needs_background": "light"
     },
     "output_type": "display_data"
    }
   ],
   "source": [
    "age_vals, age_bins = np.histogram(data['age'])\n",
    "data['age_bin'] = pd.cut(data['age'], bins=age_bins, labels=list(map(int, age_bins[:-1])))\n",
    "for col in numerical_columns:\n",
    "    if col != 'age':\n",
    "        sns.catplot(x=\"age_bin\", y=col, hue=\"target_words\", kind=\"violin\", split=True, data=data,aspect=11.7/8.27);\n"
   ]
  },
  {
   "cell_type": "markdown",
   "metadata": {},
   "source": [
    "### Question 3 - Heavy Tailed distributions (10 points)"
   ]
  },
  {
   "cell_type": "markdown",
   "metadata": {},
   "source": [
    "Recall the definition of Heavy Tailed distribtion from the lectures.\n",
    "\n",
    "*A distribution is said to have a heavy right tail if its tail probabilities vanish slower than any exponential*\n",
    "$$ \\forall t>0, \\lim_{x\\to\\infty} e^{tx}P(X>x)=\\infty $$"
   ]
  },
  {
   "cell_type": "markdown",
   "metadata": {},
   "source": [
    "#### 3.A\n",
    "Does the standard normal distribution have a heavy right tail? prove your answer."
   ]
  },
  {
   "cell_type": "markdown",
   "metadata": {},
   "source": [
    "we know that $\\lim\\limits_{x \\to \\inf}\\phi(x) = 1$\n",
    "\n",
    "$\\lim\\limits_{x \\to \\infty}e^{tx}(1-\\phi(x)) = \\lim\\limits_{x \\to \\infty}\\frac{(1-\\phi(x))}{e^{-tx}}$\n",
    "\n",
    "$\\lim\\limits_{x \\to \\infty}\\frac{\\frac{d}{dx}(1-\\phi(x))}{\\frac{d}{dx}(e^{tx})} = \\lim\\limits_{x \\to \\infty}\\frac{-\\phi'(x)}{-te^{-tx}}$ using lhopital rule.\n",
    "\n",
    "we know that $\\phi'(x)$ is the standard normal pdf $f(x) = \\frac{1}{\\sqrt{(2\\pi)}}e^{-\\frac{1}{2}x^2}$\n",
    "\n",
    "so the limit now looks like:\n",
    "\n",
    "$\\lim\\limits_{x \\to \\infty}\\frac{-\\phi'(x)}{-te^{-tx}} = \\lim\\limits_{x \\to \\infty}\\frac{\\frac{1}{\\sqrt{(2\\pi)}}e^{-\\frac{1}{2}x^2}}{te^{-tx}}=  \\lim\\limits_{x \\to \\infty}\\frac{1}{t\\sqrt{2\\pi}}e^{tx-\\frac{1}{2}x^2}=0$\n",
    "\n",
    "\n",
    "meaning, standard normal does not have a heavy right tail.\n"
   ]
  },
  {
   "cell_type": "markdown",
   "metadata": {},
   "source": [
    "#### 3.B\n",
    "Does the standard log-normal distribution have a heavy right tail? prove your answer."
   ]
  },
  {
   "cell_type": "markdown",
   "metadata": {},
   "source": [
    "$\\lim\\limits_{x \\to \\infty}\\frac{\\frac{d}{dx}(1-\\phi(x))}{\\frac{d}{dx}(e^{tx})} = \\lim\\limits_{x \\to \\infty}\\frac{-\\phi'(x)}{-te^{-tx}}$ using lhopital rule.\n",
    "\n",
    "we know that $\\phi'(x)$ is the standard lognormal pdf $f(x) = \\frac{1}{x\\sqrt{(2\\pi)}}e^{-\\frac{1}{2}(ln(x))^2}$\n",
    "\n",
    "so the limit now looks like:\n",
    "\n",
    "$\\lim\\limits_{x \\to \\infty}\\frac{-\\phi'(x)}{-te^{-tx}} = \\lim\\limits_{x \\to \\infty}\\frac{e^{-\\frac{1}{2}(ln(x))^2}}{tx\\sqrt{2\\pi}e^{-tx}}= \\frac{e^{tx-\\frac{1}{2}ln(x)^2}}{tx\\sqrt{2\\pi}}$\n",
    "\n",
    "using lhopital again $\\lim\\limits_{x \\to \\infty}\\frac{\\frac{d}{dx}(e^{tx-\\frac{1}{2}ln(x)^2})}{\\frac{d}{dx}(tx\\sqrt{2\\pi})}= \\frac{(t-\\frac{ln(x)}{x})e^{tx-\\frac{1}{2}ln(x)^2}}{t\\sqrt{2\\pi}} = \\frac{te^\\infty}{t\\sqrt{2\\pi}} = \\infty$\n",
    "\n",
    "we used $\\lim\\limits_{x \\to \\infty}\\frac{1}{2x}(lnx)^2 = 0$\n",
    "\n",
    "we used $\\lim\\limits_{x \\to \\infty}t-\\frac{lnx}{x} = t$\n",
    "\n",
    "meaning, it standard log normal have a heavy right tail.\n"
   ]
  },
  {
   "cell_type": "markdown",
   "metadata": {},
   "source": [
    "### Question 4 - CLT for Markov chains (20 points)"
   ]
  },
  {
   "cell_type": "markdown",
   "metadata": {},
   "source": [
    "In this exercise you will construct trajectories of Markovian dice rolling results in the following way.<br>\n",
    "The first roll, $X_0$, is $U(1...6)$, i.e. $P(X_0=i)=\\pi_0(i)=1/6, \\forall i\\in{\\{1,..,6\\}}$<br>\n",
    "After i rolls are determined the $i+1^{st}, X_{i+1},$ is drawn according to the row that corresponds to the value of $X_i$ in the matrix $T$ below. <br>\n",
    "In other words, $T$ is the transition matrix of a Markov chain and the initial distribution is uniform.\n",
    "\n",
    "\\begin{equation*}\n",
    "T = \n",
    "\\begin{pmatrix}\n",
    "0.4 & 0.2 & 0.1 & 0 & 0.1 & 0.2 \\\\\n",
    "0.2 & 0.4 & 0.2 & 0.1 & 0 & 0.1 \\\\\n",
    "0.1 & 0.2 & 0.4 & 0.2 & 0.1 & 0 \\\\\n",
    "0 & 0.1 & 0.2 & 0.4 & 0.2 & 0.1 \\\\\n",
    "0.1 & 0 & 0.1 & 0.2 & 0.4 & 0.2 \\\\\n",
    "0.2 & 0.1 & 0 & 0.1 & 0.2 & 0.4\n",
    "\\end{pmatrix}\n",
    "\\end{equation*}"
   ]
  },
  {
   "cell_type": "markdown",
   "metadata": {},
   "source": [
    "#### 4.A\n",
    "Construct 1000 trajectories, each of length 30.\n",
    "1. What do you expect the average value of all 30 numbers in a trajectory to be?\n",
    "2. Compute the average value of each such trajectory. Draw a histogram of the 1000 numbers you received, using 20 bins.\n",
    "3. What does the distribution look like? What are the empirical mean and the std?"
   ]
  },
  {
   "cell_type": "code",
   "execution_count": 68,
   "metadata": {},
   "outputs": [],
   "source": [
    "import numpy as np\n",
    "from matplotlib import pyplot as plt \n",
    "T = np.array([[0.4,0.2,0.1,0,0.1,0.2],[0.2,0.4,0.2,0.1,0,0.1],[0.1,0.2,0.4,0.2,0.1,0],[0,0.1,0.2,0.4,0.2,0.1],[0.1,0,0.1,0.2,0.4,0.2],[0.2,0.1,0,0.1,0.2,0.4]])\n",
    "#print(T)"
   ]
  },
  {
   "cell_type": "code",
   "execution_count": 69,
   "metadata": {},
   "outputs": [
    {
     "name": "stdout",
     "output_type": "stream",
     "text": [
      "[0.2 0.4 0.2 0.1 0.  0.1]\n"
     ]
    }
   ],
   "source": [
    "test = np.array([[1,2,3],[4,5,6]])\n",
    "#print(test)\n",
    "print(T[1,:])"
   ]
  },
  {
   "cell_type": "code",
   "execution_count": 70,
   "metadata": {},
   "outputs": [],
   "source": [
    "def getTrajectories(num_of_trajectories,length_of_each_traj):\n",
    "    results = []\n",
    "    for i in range(num_of_trajectories):\n",
    "        traj = []\n",
    "        first_choice = np.random.randint(1,7)\n",
    "        traj.append(first_choice)\n",
    "        t = np.zeros(6)\n",
    "        t[first_choice-1] = 1\n",
    "        res = t\n",
    "        choice = first_choice\n",
    "        for i in range(length_of_each_traj):\n",
    "            #res = np.matmul(res,T)\n",
    "            choice = np.random.choice(np.arange(1, 7), p=T[choice-1,:])\n",
    "            traj.append(choice)\n",
    "        results.append(traj)\n",
    "    return np.array(results)"
   ]
  },
  {
   "cell_type": "code",
   "execution_count": 71,
   "metadata": {},
   "outputs": [
    {
     "data": {
      "image/png": "[encoded data removed]",
      "text/plain": [
       "<Figure size 432x288 with 1 Axes>"
      ]
     },
     "metadata": {
      "needs_background": "light"
     },
     "output_type": "display_data"
    },
    {
     "name": "stdout",
     "output_type": "stream",
     "text": [
      "0.46482479775918006\n",
      "3.4895806451612903\n"
     ]
    }
   ],
   "source": [
    "q4a = getTrajectories(1000,30)\n",
    "q4a_average = q4a.mean(axis=1)\n",
    "_,q4a_bins,_= plt.hist(q4a_average, bins = 20) \n",
    "plt.title(\"histogram\") \n",
    "plt.show()\n",
    "print(np.std(q4a_average))\n",
    "print(np.mean(q4a_average))"
   ]
  },
  {
   "cell_type": "markdown",
   "metadata": {},
   "source": [
    "##### 4.B\n",
    "Construct 1000 trajectories, each of length 500.\n",
    "1. What do you expect the average value of all 500 numbers in a trajectory to be?\n",
    "2. Compute the average value of each such trajectory. Draw a histogram of the 1000 numbers you received, using 20 bins.\n",
    "3. What does the distribution look like? What are the empirical mean and the std?"
   ]
  },
  {
   "cell_type": "code",
   "execution_count": 72,
   "metadata": {},
   "outputs": [
    {
     "data": {
      "image/png": "[encoded data removed]",
      "text/plain": [
       "<Figure size 432x288 with 1 Axes>"
      ]
     },
     "metadata": {
      "needs_background": "light"
     },
     "output_type": "display_data"
    },
    {
     "name": "stdout",
     "output_type": "stream",
     "text": [
      "0.11550480802050572\n",
      "3.499754491017964\n"
     ]
    }
   ],
   "source": [
    "q4b = getTrajectories(1000,500)\n",
    "q4b_average = q4b.mean(axis=1)\n",
    "_,q4b_bins,_=plt.hist(q4b_average, bins = 20) \n",
    "plt.title(\"histogram\") \n",
    "plt.show()\n",
    "print(np.std(q4b_average))\n",
    "print(np.mean(q4b_average))"
   ]
  },
  {
   "cell_type": "markdown",
   "metadata": {},
   "source": [
    "#### 4.C\n",
    "Draw normal fit curves on your two histograms."
   ]
  },
  {
   "cell_type": "code",
   "execution_count": 73,
   "metadata": {},
   "outputs": [
    {
     "data": {
      "text/plain": [
       "[<matplotlib.lines.Line2D at 0x1e463c2b1d0>]"
      ]
     },
     "execution_count": 73,
     "metadata": {},
     "output_type": "execute_result"
    },
    {
     "data": {
      "image/png": "[encoded data removed]",
      "text/plain": [
       "<Figure size 864x360 with 2 Axes>"
      ]
     },
     "metadata": {
      "needs_background": "light"
     },
     "output_type": "display_data"
    }
   ],
   "source": [
    "import numpy as np\n",
    "import matplotlib.pyplot as plt\n",
    "from scipy.stats import norm\n",
    "# create plot\n",
    "fig, ax1 = plt.subplots(figsize=(12, 5))\n",
    "# Plot between -10 and 10 with .001 steps.\n",
    "x_axis = np.arange(0, 7, 0.001)\n",
    "#print(x_axis)\n",
    "# Mean = 0, SD = 2.\n",
    "ax1.hist(q4a_average, bins=20, color=\"blue\", edgecolor='black', linewidth=1.2)\n",
    "ax2 = ax1.twinx()\n",
    "ax2.plot(x_axis, norm.pdf(x_axis,np.mean(q4a_average),np.std(q4a_average)))"
   ]
  },
  {
   "cell_type": "code",
   "execution_count": 74,
   "metadata": {},
   "outputs": [
    {
     "data": {
      "text/plain": [
       "[<matplotlib.lines.Line2D at 0x1e465202cf8>]"
      ]
     },
     "execution_count": 74,
     "metadata": {},
     "output_type": "execute_result"
    },
    {
     "data": {
      "image/png": "[encoded data removed]",
      "text/plain": [
       "<Figure size 864x360 with 2 Axes>"
      ]
     },
     "metadata": {
      "needs_background": "light"
     },
     "output_type": "display_data"
    }
   ],
   "source": [
    "import numpy as np\n",
    "import matplotlib.pyplot as plt\n",
    "from scipy.stats import norm\n",
    "# create plot\n",
    "fig, ax1 = plt.subplots(figsize=(12, 5))\n",
    "# Plot between -10 and 10 with .001 steps.\n",
    "x_axis = np.arange(0, 7, 0.001)\n",
    "#print(x_axis)\n",
    "# Mean = 0, SD = 2.\n",
    "ax1.hist(q4b_average, bins=20, color=\"blue\", edgecolor='black', linewidth=1.2)\n",
    "ax2 = ax1.twinx()\n",
    "ax2.plot(x_axis, norm.pdf(x_axis,np.mean(q4b_average),np.std(q4b_average)))"
   ]
  },
  {
   "cell_type": "markdown",
   "metadata": {},
   "source": [
    "#### 4.D\n",
    "Write a python code to calculate $Cov(X_0,X_i)$ for $i=1,..,500$ based on $\\pi_0$ and $T$. \n",
    "\n",
    "Compute the values for our case."
   ]
  },
  {
   "cell_type": "code",
   "execution_count": 75,
   "metadata": {},
   "outputs": [
    {
     "data": {
      "text/plain": [
       "{'Cov(X_0,X_1': 1.1166666666666671,\n",
       " 'Cov(X_0,X_2': 0.5166666666666639,\n",
       " 'Cov(X_0,X_3': 0.2526666666666664,\n",
       " 'Cov(X_0,X_4': 0.12546666666666617,\n",
       " 'Cov(X_0,X_5': 0.0625866666666699,\n",
       " 'Cov(X_0,X_6': 0.031266666666668996,\n",
       " 'Cov(X_0,X_7': 0.01562826666666517,\n",
       " 'Cov(X_0,X_8': 0.007813146666668658,\n",
       " 'Cov(X_0,X_9': 0.003906378666664878,\n",
       " 'Cov(X_0,X_10': 0.0019531506666634613,\n",
       " 'Cov(X_0,X_11': 0.0009765676266688672,\n",
       " 'Cov(X_0,X_12': 0.0004882822746665738,\n",
       " 'Cov(X_0,X_13': 0.0002441408298636816,\n",
       " 'Cov(X_0,X_14': 0.00012207035346278872,\n",
       " 'Cov(X_0,X_15': 6.103516444255774e-05,\n",
       " 'Cov(X_0,X_16': 3.051757976635372e-05,\n",
       " 'Cov(X_0,X_17': 1.525878938934966e-05,\n",
       " 'Cov(X_0,X_18': 7.629394595198846e-06,\n",
       " 'Cov(X_0,X_19': 3.8146972816122116e-06,\n",
       " 'Cov(X_0,X_20': 1.9073486363652137e-06,\n",
       " 'Cov(X_0,X_21': 9.536743217353205e-07,\n",
       " 'Cov(X_0,X_22': 4.768371599794818e-07,\n",
       " 'Cov(X_0,X_23': 2.3841858087791934e-07,\n",
       " 'Cov(X_0,X_24': 1.1920928955078125e-07,\n",
       " 'Cov(X_0,X_25': 5.960464477539063e-08,\n",
       " 'Cov(X_0,X_26': 2.9802320611338473e-08,\n",
       " 'Cov(X_0,X_27': 1.4901161193847656e-08,\n",
       " 'Cov(X_0,X_28': 7.450580596923828e-09,\n",
       " 'Cov(X_0,X_29': 3.725293851175593e-09,\n",
       " 'Cov(X_0,X_30': 1.8626469255877964e-09,\n",
       " 'Cov(X_0,X_31': 9.313225746154785e-10,\n",
       " 'Cov(X_0,X_32': 4.656648400214181e-10,\n",
       " 'Cov(X_0,X_33': 2.3283419636754843e-10,\n",
       " 'Cov(X_0,X_34': 1.1641176911325601e-10,\n",
       " 'Cov(X_0,X_35': 5.820766091346741e-11,\n",
       " 'Cov(X_0,X_36': 2.9103830456733704e-11,\n",
       " 'Cov(X_0,X_37': 1.4551915228366852e-11,\n",
       " 'Cov(X_0,X_38': 7.272404900504625e-12,\n",
       " 'Cov(X_0,X_39': 3.6362024502523127e-12,\n",
       " 'Cov(X_0,X_40': 1.815436689867056e-12,\n",
       " 'Cov(X_0,X_41': 9.094947017729282e-13,\n",
       " 'Cov(X_0,X_42': 4.4941828036826337e-13,\n",
       " 'Cov(X_0,X_43': 2.255973186038318e-13,\n",
       " 'Cov(X_0,X_44': 1.1191048088221578e-13,\n",
       " 'Cov(X_0,X_45': 6.039613253960852e-14,\n",
       " 'Cov(X_0,X_46': 2.6645352591003757e-14,\n",
       " 'Cov(X_0,X_47': 1.4210854715202004e-14,\n",
       " 'Cov(X_0,X_48': 8.881784197001252e-15,\n",
       " 'Cov(X_0,X_49': 1.7763568394002505e-15,\n",
       " 'Cov(X_0,X_50': 5.329070518200751e-15,\n",
       " 'Cov(X_0,X_51': -1.7763568394002505e-15,\n",
       " 'Cov(X_0,X_52': 5.329070518200751e-15,\n",
       " 'Cov(X_0,X_53': 5.329070518200751e-15,\n",
       " 'Cov(X_0,X_54': -1.7763568394002505e-15,\n",
       " 'Cov(X_0,X_55': -1.7763568394002505e-15,\n",
       " 'Cov(X_0,X_56': -1.7763568394002505e-15,\n",
       " 'Cov(X_0,X_57': -1.7763568394002505e-15,\n",
       " 'Cov(X_0,X_58': -1.7763568394002505e-15,\n",
       " 'Cov(X_0,X_59': -1.7763568394002505e-15,\n",
       " 'Cov(X_0,X_60': -5.329070518200751e-15,\n",
       " 'Cov(X_0,X_61': -1.7763568394002505e-15,\n",
       " 'Cov(X_0,X_62': -1.7763568394002505e-15,\n",
       " 'Cov(X_0,X_63': -3.552713678800501e-15,\n",
       " 'Cov(X_0,X_64': -3.552713678800501e-15,\n",
       " 'Cov(X_0,X_65': -3.552713678800501e-15,\n",
       " 'Cov(X_0,X_66': -3.552713678800501e-15,\n",
       " 'Cov(X_0,X_67': -5.329070518200751e-15,\n",
       " 'Cov(X_0,X_68': -1.7763568394002505e-15,\n",
       " 'Cov(X_0,X_69': -1.7763568394002505e-15,\n",
       " 'Cov(X_0,X_70': -1.7763568394002505e-15,\n",
       " 'Cov(X_0,X_71': -5.329070518200751e-15,\n",
       " 'Cov(X_0,X_72': -1.7763568394002505e-15,\n",
       " 'Cov(X_0,X_73': -3.552713678800501e-15,\n",
       " 'Cov(X_0,X_74': 0.0,\n",
       " 'Cov(X_0,X_75': 0.0,\n",
       " 'Cov(X_0,X_76': 0.0,\n",
       " 'Cov(X_0,X_77': 1.7763568394002505e-15,\n",
       " 'Cov(X_0,X_78': 1.7763568394002505e-15,\n",
       " 'Cov(X_0,X_79': 1.7763568394002505e-15,\n",
       " 'Cov(X_0,X_80': 0.0,\n",
       " 'Cov(X_0,X_81': 0.0,\n",
       " 'Cov(X_0,X_82': 3.552713678800501e-15,\n",
       " 'Cov(X_0,X_83': 1.7763568394002505e-15,\n",
       " 'Cov(X_0,X_84': 0.0,\n",
       " 'Cov(X_0,X_85': 0.0,\n",
       " 'Cov(X_0,X_86': 1.7763568394002505e-15,\n",
       " 'Cov(X_0,X_87': 0.0,\n",
       " 'Cov(X_0,X_88': 0.0,\n",
       " 'Cov(X_0,X_89': 0.0,\n",
       " 'Cov(X_0,X_90': 3.552713678800501e-15,\n",
       " 'Cov(X_0,X_91': 0.0,\n",
       " 'Cov(X_0,X_92': 3.552713678800501e-15,\n",
       " 'Cov(X_0,X_93': 0.0,\n",
       " 'Cov(X_0,X_94': 1.7763568394002505e-15,\n",
       " 'Cov(X_0,X_95': 1.7763568394002505e-15,\n",
       " 'Cov(X_0,X_96': 0.0,\n",
       " 'Cov(X_0,X_97': 0.0,\n",
       " 'Cov(X_0,X_98': 0.0,\n",
       " 'Cov(X_0,X_99': 0.0,\n",
       " 'Cov(X_0,X_100': 0.0,\n",
       " 'Cov(X_0,X_101': 0.0,\n",
       " 'Cov(X_0,X_102': 7.105427357601002e-15,\n",
       " 'Cov(X_0,X_103': 1.7763568394002505e-15,\n",
       " 'Cov(X_0,X_104': 7.105427357601002e-15,\n",
       " 'Cov(X_0,X_105': 1.7763568394002505e-15,\n",
       " 'Cov(X_0,X_106': 1.7763568394002505e-15,\n",
       " 'Cov(X_0,X_107': 5.329070518200751e-15,\n",
       " 'Cov(X_0,X_108': 1.7763568394002505e-15,\n",
       " 'Cov(X_0,X_109': 1.7763568394002505e-15,\n",
       " 'Cov(X_0,X_110': 3.552713678800501e-15,\n",
       " 'Cov(X_0,X_111': 1.7763568394002505e-15,\n",
       " 'Cov(X_0,X_112': 3.552713678800501e-15,\n",
       " 'Cov(X_0,X_113': 1.7763568394002505e-15,\n",
       " 'Cov(X_0,X_114': 5.329070518200751e-15,\n",
       " 'Cov(X_0,X_115': 1.7763568394002505e-15,\n",
       " 'Cov(X_0,X_116': 5.329070518200751e-15,\n",
       " 'Cov(X_0,X_117': 1.7763568394002505e-15,\n",
       " 'Cov(X_0,X_118': 3.552713678800501e-15,\n",
       " 'Cov(X_0,X_119': 3.552713678800501e-15,\n",
       " 'Cov(X_0,X_120': 3.552713678800501e-15,\n",
       " 'Cov(X_0,X_121': 3.552713678800501e-15,\n",
       " 'Cov(X_0,X_122': 0.0,\n",
       " 'Cov(X_0,X_123': 1.7763568394002505e-15,\n",
       " 'Cov(X_0,X_124': -1.7763568394002505e-15,\n",
       " 'Cov(X_0,X_125': -1.7763568394002505e-15,\n",
       " 'Cov(X_0,X_126': -3.552713678800501e-15,\n",
       " 'Cov(X_0,X_127': -3.552713678800501e-15,\n",
       " 'Cov(X_0,X_128': -1.7763568394002505e-15,\n",
       " 'Cov(X_0,X_129': -1.7763568394002505e-15,\n",
       " 'Cov(X_0,X_130': -1.7763568394002505e-15,\n",
       " 'Cov(X_0,X_131': -1.7763568394002505e-15,\n",
       " 'Cov(X_0,X_132': 1.7763568394002505e-15,\n",
       " 'Cov(X_0,X_133': 0.0,\n",
       " 'Cov(X_0,X_134': 0.0,\n",
       " 'Cov(X_0,X_135': 0.0,\n",
       " 'Cov(X_0,X_136': 0.0,\n",
       " 'Cov(X_0,X_137': 0.0,\n",
       " 'Cov(X_0,X_138': 0.0,\n",
       " 'Cov(X_0,X_139': 0.0,\n",
       " 'Cov(X_0,X_140': 0.0,\n",
       " 'Cov(X_0,X_141': 0.0,\n",
       " 'Cov(X_0,X_142': -1.7763568394002505e-15,\n",
       " 'Cov(X_0,X_143': -1.7763568394002505e-15,\n",
       " 'Cov(X_0,X_144': 0.0,\n",
       " 'Cov(X_0,X_145': 3.552713678800501e-15,\n",
       " 'Cov(X_0,X_146': 3.552713678800501e-15,\n",
       " 'Cov(X_0,X_147': 0.0,\n",
       " 'Cov(X_0,X_148': 0.0,\n",
       " 'Cov(X_0,X_149': 1.7763568394002505e-15,\n",
       " 'Cov(X_0,X_150': -1.7763568394002505e-15,\n",
       " 'Cov(X_0,X_151': -1.7763568394002505e-15,\n",
       " 'Cov(X_0,X_152': 0.0,\n",
       " 'Cov(X_0,X_153': 0.0,\n",
       " 'Cov(X_0,X_154': 0.0,\n",
       " 'Cov(X_0,X_155': 0.0,\n",
       " 'Cov(X_0,X_156': -3.552713678800501e-15,\n",
       " 'Cov(X_0,X_157': 0.0,\n",
       " 'Cov(X_0,X_158': 1.7763568394002505e-15,\n",
       " 'Cov(X_0,X_159': -1.7763568394002505e-15,\n",
       " 'Cov(X_0,X_160': 0.0,\n",
       " 'Cov(X_0,X_161': -1.7763568394002505e-15,\n",
       " 'Cov(X_0,X_162': 0.0,\n",
       " 'Cov(X_0,X_163': 1.7763568394002505e-15,\n",
       " 'Cov(X_0,X_164': 3.552713678800501e-15,\n",
       " 'Cov(X_0,X_165': 3.552713678800501e-15,\n",
       " 'Cov(X_0,X_166': 3.552713678800501e-15,\n",
       " 'Cov(X_0,X_167': 1.7763568394002505e-15,\n",
       " 'Cov(X_0,X_168': 1.7763568394002505e-15,\n",
       " 'Cov(X_0,X_169': 1.7763568394002505e-15,\n",
       " 'Cov(X_0,X_170': 1.7763568394002505e-15,\n",
       " 'Cov(X_0,X_171': 1.7763568394002505e-15,\n",
       " 'Cov(X_0,X_172': 1.7763568394002505e-15,\n",
       " 'Cov(X_0,X_173': 3.552713678800501e-15,\n",
       " 'Cov(X_0,X_174': 3.552713678800501e-15,\n",
       " 'Cov(X_0,X_175': 5.329070518200751e-15,\n",
       " 'Cov(X_0,X_176': 1.7763568394002505e-15,\n",
       " 'Cov(X_0,X_177': 5.329070518200751e-15,\n",
       " 'Cov(X_0,X_178': 5.329070518200751e-15,\n",
       " 'Cov(X_0,X_179': 5.329070518200751e-15,\n",
       " 'Cov(X_0,X_180': 5.329070518200751e-15,\n",
       " 'Cov(X_0,X_181': 1.7763568394002505e-15,\n",
       " 'Cov(X_0,X_182': 3.552713678800501e-15,\n",
       " 'Cov(X_0,X_183': 3.552713678800501e-15,\n",
       " 'Cov(X_0,X_184': 0.0,\n",
       " 'Cov(X_0,X_185': 0.0,\n",
       " 'Cov(X_0,X_186': 0.0,\n",
       " 'Cov(X_0,X_187': 1.7763568394002505e-15,\n",
       " 'Cov(X_0,X_188': -1.7763568394002505e-15,\n",
       " 'Cov(X_0,X_189': -1.7763568394002505e-15,\n",
       " 'Cov(X_0,X_190': -3.552713678800501e-15,\n",
       " 'Cov(X_0,X_191': -3.552713678800501e-15,\n",
       " 'Cov(X_0,X_192': -3.552713678800501e-15,\n",
       " 'Cov(X_0,X_193': -3.552713678800501e-15,\n",
       " 'Cov(X_0,X_194': 1.7763568394002505e-15,\n",
       " 'Cov(X_0,X_195': 3.552713678800501e-15,\n",
       " 'Cov(X_0,X_196': 1.7763568394002505e-15,\n",
       " 'Cov(X_0,X_197': 1.7763568394002505e-15,\n",
       " 'Cov(X_0,X_198': 0.0,\n",
       " 'Cov(X_0,X_199': 0.0,\n",
       " 'Cov(X_0,X_200': 0.0,\n",
       " 'Cov(X_0,X_201': 0.0,\n",
       " 'Cov(X_0,X_202': 0.0,\n",
       " 'Cov(X_0,X_203': -1.7763568394002505e-15,\n",
       " 'Cov(X_0,X_204': -1.7763568394002505e-15,\n",
       " 'Cov(X_0,X_205': 0.0,\n",
       " 'Cov(X_0,X_206': 0.0,\n",
       " 'Cov(X_0,X_207': -1.7763568394002505e-15,\n",
       " 'Cov(X_0,X_208': 3.552713678800501e-15,\n",
       " 'Cov(X_0,X_209': -3.552713678800501e-15,\n",
       " 'Cov(X_0,X_210': 0.0,\n",
       " 'Cov(X_0,X_211': 0.0,\n",
       " 'Cov(X_0,X_212': 0.0,\n",
       " 'Cov(X_0,X_213': 0.0,\n",
       " 'Cov(X_0,X_214': -1.7763568394002505e-15,\n",
       " 'Cov(X_0,X_215': -1.7763568394002505e-15,\n",
       " 'Cov(X_0,X_216': -1.7763568394002505e-15,\n",
       " 'Cov(X_0,X_217': -3.552713678800501e-15,\n",
       " 'Cov(X_0,X_218': 0.0,\n",
       " 'Cov(X_0,X_219': 0.0,\n",
       " 'Cov(X_0,X_220': 0.0,\n",
       " 'Cov(X_0,X_221': -1.7763568394002505e-15,\n",
       " 'Cov(X_0,X_222': 0.0,\n",
       " 'Cov(X_0,X_223': 0.0,\n",
       " 'Cov(X_0,X_224': 5.329070518200751e-15,\n",
       " 'Cov(X_0,X_225': 1.7763568394002505e-15,\n",
       " 'Cov(X_0,X_226': 5.329070518200751e-15,\n",
       " 'Cov(X_0,X_227': 1.7763568394002505e-15,\n",
       " 'Cov(X_0,X_228': 1.7763568394002505e-15,\n",
       " 'Cov(X_0,X_229': 3.552713678800501e-15,\n",
       " 'Cov(X_0,X_230': 1.7763568394002505e-15,\n",
       " 'Cov(X_0,X_231': 1.7763568394002505e-15,\n",
       " 'Cov(X_0,X_232': 5.329070518200751e-15,\n",
       " 'Cov(X_0,X_233': 1.7763568394002505e-15,\n",
       " 'Cov(X_0,X_234': 3.552713678800501e-15,\n",
       " 'Cov(X_0,X_235': 3.552713678800501e-15,\n",
       " 'Cov(X_0,X_236': 3.552713678800501e-15,\n",
       " 'Cov(X_0,X_237': 3.552713678800501e-15,\n",
       " 'Cov(X_0,X_238': 5.329070518200751e-15,\n",
       " 'Cov(X_0,X_239': 0.0,\n",
       " 'Cov(X_0,X_240': 1.7763568394002505e-15,\n",
       " 'Cov(X_0,X_241': 3.552713678800501e-15,\n",
       " 'Cov(X_0,X_242': 1.7763568394002505e-15,\n",
       " 'Cov(X_0,X_243': 1.7763568394002505e-15,\n",
       " 'Cov(X_0,X_244': 1.7763568394002505e-15,\n",
       " 'Cov(X_0,X_245': 3.552713678800501e-15,\n",
       " 'Cov(X_0,X_246': 3.552713678800501e-15,\n",
       " 'Cov(X_0,X_247': 3.552713678800501e-15,\n",
       " 'Cov(X_0,X_248': 1.7763568394002505e-15,\n",
       " 'Cov(X_0,X_249': 0.0,\n",
       " 'Cov(X_0,X_250': 1.7763568394002505e-15,\n",
       " 'Cov(X_0,X_251': 7.105427357601002e-15,\n",
       " 'Cov(X_0,X_252': 7.105427357601002e-15,\n",
       " 'Cov(X_0,X_253': 3.552713678800501e-15,\n",
       " 'Cov(X_0,X_254': 1.7763568394002505e-15,\n",
       " 'Cov(X_0,X_255': 1.7763568394002505e-15,\n",
       " 'Cov(X_0,X_256': 0.0,\n",
       " 'Cov(X_0,X_257': -3.552713678800501e-15,\n",
       " 'Cov(X_0,X_258': 0.0,\n",
       " 'Cov(X_0,X_259': -1.7763568394002505e-15,\n",
       " 'Cov(X_0,X_260': -1.7763568394002505e-15,\n",
       " 'Cov(X_0,X_261': 0.0,\n",
       " 'Cov(X_0,X_262': 0.0,\n",
       " 'Cov(X_0,X_263': -3.552713678800501e-15,\n",
       " 'Cov(X_0,X_264': 0.0,\n",
       " 'Cov(X_0,X_265': -3.552713678800501e-15,\n",
       " 'Cov(X_0,X_266': 1.7763568394002505e-15,\n",
       " 'Cov(X_0,X_267': -1.7763568394002505e-15,\n",
       " 'Cov(X_0,X_268': -1.7763568394002505e-15,\n",
       " 'Cov(X_0,X_269': -1.7763568394002505e-15,\n",
       " 'Cov(X_0,X_270': -1.7763568394002505e-15,\n",
       " 'Cov(X_0,X_271': -3.552713678800501e-15,\n",
       " 'Cov(X_0,X_272': -3.552713678800501e-15,\n",
       " 'Cov(X_0,X_273': -3.552713678800501e-15,\n",
       " 'Cov(X_0,X_274': -3.552713678800501e-15,\n",
       " 'Cov(X_0,X_275': 0.0,\n",
       " 'Cov(X_0,X_276': -3.552713678800501e-15,\n",
       " 'Cov(X_0,X_277': -1.7763568394002505e-15,\n",
       " 'Cov(X_0,X_278': -1.7763568394002505e-15,\n",
       " 'Cov(X_0,X_279': -1.7763568394002505e-15,\n",
       " 'Cov(X_0,X_280': 0.0,\n",
       " 'Cov(X_0,X_281': 1.7763568394002505e-15,\n",
       " 'Cov(X_0,X_282': 1.7763568394002505e-15,\n",
       " 'Cov(X_0,X_283': 0.0,\n",
       " 'Cov(X_0,X_284': 3.552713678800501e-15,\n",
       " 'Cov(X_0,X_285': 0.0,\n",
       " 'Cov(X_0,X_286': 1.7763568394002505e-15,\n",
       " 'Cov(X_0,X_287': 0.0,\n",
       " 'Cov(X_0,X_288': 1.7763568394002505e-15,\n",
       " 'Cov(X_0,X_289': 1.7763568394002505e-15,\n",
       " 'Cov(X_0,X_290': 3.552713678800501e-15,\n",
       " 'Cov(X_0,X_291': 1.7763568394002505e-15,\n",
       " 'Cov(X_0,X_292': 0.0,\n",
       " 'Cov(X_0,X_293': 0.0,\n",
       " 'Cov(X_0,X_294': 0.0,\n",
       " 'Cov(X_0,X_295': 0.0,\n",
       " 'Cov(X_0,X_296': 0.0,\n",
       " 'Cov(X_0,X_297': 1.7763568394002505e-15,\n",
       " 'Cov(X_0,X_298': -1.7763568394002505e-15,\n",
       " 'Cov(X_0,X_299': 1.7763568394002505e-15,\n",
       " 'Cov(X_0,X_300': 3.552713678800501e-15,\n",
       " 'Cov(X_0,X_301': 0.0,\n",
       " 'Cov(X_0,X_302': 1.7763568394002505e-15,\n",
       " 'Cov(X_0,X_303': 1.7763568394002505e-15,\n",
       " 'Cov(X_0,X_304': 1.7763568394002505e-15,\n",
       " 'Cov(X_0,X_305': 1.7763568394002505e-15,\n",
       " 'Cov(X_0,X_306': 1.7763568394002505e-15,\n",
       " 'Cov(X_0,X_307': 1.7763568394002505e-15,\n",
       " 'Cov(X_0,X_308': 1.7763568394002505e-15,\n",
       " 'Cov(X_0,X_309': 0.0,\n",
       " 'Cov(X_0,X_310': 1.7763568394002505e-15,\n",
       " 'Cov(X_0,X_311': 7.105427357601002e-15,\n",
       " 'Cov(X_0,X_312': 7.105427357601002e-15,\n",
       " 'Cov(X_0,X_313': 1.7763568394002505e-15,\n",
       " 'Cov(X_0,X_314': 5.329070518200751e-15,\n",
       " 'Cov(X_0,X_315': 5.329070518200751e-15,\n",
       " 'Cov(X_0,X_316': 5.329070518200751e-15,\n",
       " 'Cov(X_0,X_317': 1.7763568394002505e-15,\n",
       " 'Cov(X_0,X_318': 3.552713678800501e-15,\n",
       " 'Cov(X_0,X_319': 3.552713678800501e-15,\n",
       " 'Cov(X_0,X_320': -3.552713678800501e-15,\n",
       " 'Cov(X_0,X_321': 3.552713678800501e-15,\n",
       " 'Cov(X_0,X_322': 1.7763568394002505e-15,\n",
       " 'Cov(X_0,X_323': 0.0,\n",
       " 'Cov(X_0,X_324': 0.0,\n",
       " 'Cov(X_0,X_325': 0.0,\n",
       " 'Cov(X_0,X_326': -3.552713678800501e-15,\n",
       " 'Cov(X_0,X_327': -3.552713678800501e-15,\n",
       " 'Cov(X_0,X_328': 0.0,\n",
       " 'Cov(X_0,X_329': 0.0,\n",
       " 'Cov(X_0,X_330': -3.552713678800501e-15,\n",
       " 'Cov(X_0,X_331': -3.552713678800501e-15,\n",
       " 'Cov(X_0,X_332': -1.7763568394002505e-15,\n",
       " 'Cov(X_0,X_333': -1.7763568394002505e-15,\n",
       " 'Cov(X_0,X_334': -5.329070518200751e-15,\n",
       " 'Cov(X_0,X_335': -3.552713678800501e-15,\n",
       " 'Cov(X_0,X_336': 0.0,\n",
       " 'Cov(X_0,X_337': 0.0,\n",
       " 'Cov(X_0,X_338': 0.0,\n",
       " 'Cov(X_0,X_339': -3.552713678800501e-15,\n",
       " 'Cov(X_0,X_340': -1.7763568394002505e-15,\n",
       " 'Cov(X_0,X_341': 0.0,\n",
       " 'Cov(X_0,X_342': 1.7763568394002505e-15,\n",
       " 'Cov(X_0,X_343': 3.552713678800501e-15,\n",
       " 'Cov(X_0,X_344': 3.552713678800501e-15,\n",
       " 'Cov(X_0,X_345': 3.552713678800501e-15,\n",
       " 'Cov(X_0,X_346': 5.329070518200751e-15,\n",
       " 'Cov(X_0,X_347': 1.7763568394002505e-15,\n",
       " 'Cov(X_0,X_348': 1.7763568394002505e-15,\n",
       " 'Cov(X_0,X_349': 1.7763568394002505e-15,\n",
       " 'Cov(X_0,X_350': 5.329070518200751e-15,\n",
       " 'Cov(X_0,X_351': 1.7763568394002505e-15,\n",
       " 'Cov(X_0,X_352': 1.7763568394002505e-15,\n",
       " 'Cov(X_0,X_353': 1.7763568394002505e-15,\n",
       " 'Cov(X_0,X_354': 1.7763568394002505e-15,\n",
       " 'Cov(X_0,X_355': 0.0,\n",
       " 'Cov(X_0,X_356': 0.0,\n",
       " 'Cov(X_0,X_357': 0.0,\n",
       " 'Cov(X_0,X_358': 0.0,\n",
       " 'Cov(X_0,X_359': 0.0,\n",
       " 'Cov(X_0,X_360': 0.0,\n",
       " 'Cov(X_0,X_361': -1.7763568394002505e-15,\n",
       " 'Cov(X_0,X_362': -1.7763568394002505e-15,\n",
       " 'Cov(X_0,X_363': -1.7763568394002505e-15,\n",
       " 'Cov(X_0,X_364': -3.552713678800501e-15,\n",
       " 'Cov(X_0,X_365': -1.7763568394002505e-15,\n",
       " 'Cov(X_0,X_366': 0.0,\n",
       " 'Cov(X_0,X_367': -3.552713678800501e-15,\n",
       " 'Cov(X_0,X_368': 3.552713678800501e-15,\n",
       " 'Cov(X_0,X_369': 1.7763568394002505e-15,\n",
       " 'Cov(X_0,X_370': 3.552713678800501e-15,\n",
       " 'Cov(X_0,X_371': 3.552713678800501e-15,\n",
       " 'Cov(X_0,X_372': 5.329070518200751e-15,\n",
       " 'Cov(X_0,X_373': 1.7763568394002505e-15,\n",
       " 'Cov(X_0,X_374': 1.7763568394002505e-15,\n",
       " 'Cov(X_0,X_375': 1.7763568394002505e-15,\n",
       " 'Cov(X_0,X_376': 3.552713678800501e-15,\n",
       " 'Cov(X_0,X_377': 3.552713678800501e-15,\n",
       " 'Cov(X_0,X_378': 3.552713678800501e-15,\n",
       " 'Cov(X_0,X_379': 3.552713678800501e-15,\n",
       " 'Cov(X_0,X_380': 3.552713678800501e-15,\n",
       " 'Cov(X_0,X_381': 3.552713678800501e-15,\n",
       " 'Cov(X_0,X_382': 1.7763568394002505e-15,\n",
       " 'Cov(X_0,X_383': 1.7763568394002505e-15,\n",
       " 'Cov(X_0,X_384': 3.552713678800501e-15,\n",
       " 'Cov(X_0,X_385': 0.0,\n",
       " 'Cov(X_0,X_386': 5.329070518200751e-15,\n",
       " 'Cov(X_0,X_387': 5.329070518200751e-15,\n",
       " 'Cov(X_0,X_388': 5.329070518200751e-15,\n",
       " 'Cov(X_0,X_389': 1.7763568394002505e-15,\n",
       " 'Cov(X_0,X_390': 3.552713678800501e-15,\n",
       " 'Cov(X_0,X_391': 3.552713678800501e-15,\n",
       " 'Cov(X_0,X_392': 0.0,\n",
       " 'Cov(X_0,X_393': 0.0,\n",
       " 'Cov(X_0,X_394': -1.7763568394002505e-15,\n",
       " 'Cov(X_0,X_395': -3.552713678800501e-15,\n",
       " 'Cov(X_0,X_396': 0.0,\n",
       " 'Cov(X_0,X_397': -3.552713678800501e-15,\n",
       " 'Cov(X_0,X_398': -3.552713678800501e-15,\n",
       " 'Cov(X_0,X_399': -3.552713678800501e-15,\n",
       " 'Cov(X_0,X_400': 1.7763568394002505e-15,\n",
       " 'Cov(X_0,X_401': -1.7763568394002505e-15,\n",
       " 'Cov(X_0,X_402': 0.0,\n",
       " 'Cov(X_0,X_403': 0.0,\n",
       " 'Cov(X_0,X_404': 0.0,\n",
       " 'Cov(X_0,X_405': -3.552713678800501e-15,\n",
       " 'Cov(X_0,X_406': -1.7763568394002505e-15,\n",
       " 'Cov(X_0,X_407': -3.552713678800501e-15,\n",
       " 'Cov(X_0,X_408': -1.7763568394002505e-15,\n",
       " 'Cov(X_0,X_409': -1.7763568394002505e-15,\n",
       " 'Cov(X_0,X_410': 0.0,\n",
       " 'Cov(X_0,X_411': 0.0,\n",
       " 'Cov(X_0,X_412': 1.7763568394002505e-15,\n",
       " 'Cov(X_0,X_413': 1.7763568394002505e-15,\n",
       " 'Cov(X_0,X_414': 1.7763568394002505e-15,\n",
       " 'Cov(X_0,X_415': 1.7763568394002505e-15,\n",
       " 'Cov(X_0,X_416': 3.552713678800501e-15,\n",
       " 'Cov(X_0,X_417': 1.7763568394002505e-15,\n",
       " 'Cov(X_0,X_418': 0.0,\n",
       " 'Cov(X_0,X_419': 0.0,\n",
       " 'Cov(X_0,X_420': 1.7763568394002505e-15,\n",
       " 'Cov(X_0,X_421': 1.7763568394002505e-15,\n",
       " 'Cov(X_0,X_422': -1.7763568394002505e-15,\n",
       " 'Cov(X_0,X_423': -1.7763568394002505e-15,\n",
       " 'Cov(X_0,X_424': -1.7763568394002505e-15,\n",
       " 'Cov(X_0,X_425': -1.7763568394002505e-15,\n",
       " 'Cov(X_0,X_426': -1.7763568394002505e-15,\n",
       " 'Cov(X_0,X_427': 0.0,\n",
       " 'Cov(X_0,X_428': 0.0,\n",
       " 'Cov(X_0,X_429': 0.0,\n",
       " 'Cov(X_0,X_430': 7.105427357601002e-15,\n",
       " 'Cov(X_0,X_431': 0.0,\n",
       " 'Cov(X_0,X_432': 3.552713678800501e-15,\n",
       " 'Cov(X_0,X_433': 3.552713678800501e-15,\n",
       " 'Cov(X_0,X_434': 3.552713678800501e-15,\n",
       " 'Cov(X_0,X_435': 1.7763568394002505e-15,\n",
       " 'Cov(X_0,X_436': 1.7763568394002505e-15,\n",
       " 'Cov(X_0,X_437': 3.552713678800501e-15,\n",
       " 'Cov(X_0,X_438': 7.105427357601002e-15,\n",
       " 'Cov(X_0,X_439': 3.552713678800501e-15,\n",
       " 'Cov(X_0,X_440': 3.552713678800501e-15,\n",
       " 'Cov(X_0,X_441': 3.552713678800501e-15,\n",
       " 'Cov(X_0,X_442': 3.552713678800501e-15,\n",
       " 'Cov(X_0,X_443': 1.7763568394002505e-15,\n",
       " 'Cov(X_0,X_444': 1.7763568394002505e-15,\n",
       " 'Cov(X_0,X_445': 3.552713678800501e-15,\n",
       " 'Cov(X_0,X_446': 7.105427357601002e-15,\n",
       " 'Cov(X_0,X_447': 3.552713678800501e-15,\n",
       " 'Cov(X_0,X_448': 3.552713678800501e-15,\n",
       " 'Cov(X_0,X_449': 3.552713678800501e-15,\n",
       " 'Cov(X_0,X_450': 3.552713678800501e-15,\n",
       " 'Cov(X_0,X_451': 1.7763568394002505e-15,\n",
       " 'Cov(X_0,X_452': 0.0,\n",
       " 'Cov(X_0,X_453': 3.552713678800501e-15,\n",
       " 'Cov(X_0,X_454': 0.0,\n",
       " 'Cov(X_0,X_455': -1.7763568394002505e-15,\n",
       " 'Cov(X_0,X_456': 1.7763568394002505e-15,\n",
       " 'Cov(X_0,X_457': -1.7763568394002505e-15,\n",
       " 'Cov(X_0,X_458': 0.0,\n",
       " 'Cov(X_0,X_459': -3.552713678800501e-15,\n",
       " 'Cov(X_0,X_460': -1.7763568394002505e-15,\n",
       " 'Cov(X_0,X_461': -3.552713678800501e-15,\n",
       " 'Cov(X_0,X_462': -1.7763568394002505e-15,\n",
       " 'Cov(X_0,X_463': 1.7763568394002505e-15,\n",
       " 'Cov(X_0,X_464': -1.7763568394002505e-15,\n",
       " 'Cov(X_0,X_465': -1.7763568394002505e-15,\n",
       " 'Cov(X_0,X_466': -1.7763568394002505e-15,\n",
       " 'Cov(X_0,X_467': -3.552713678800501e-15,\n",
       " 'Cov(X_0,X_468': -3.552713678800501e-15,\n",
       " 'Cov(X_0,X_469': -3.552713678800501e-15,\n",
       " 'Cov(X_0,X_470': -1.7763568394002505e-15,\n",
       " 'Cov(X_0,X_471': -1.7763568394002505e-15,\n",
       " 'Cov(X_0,X_472': 0.0,\n",
       " 'Cov(X_0,X_473': -5.329070518200751e-15,\n",
       " 'Cov(X_0,X_474': -1.7763568394002505e-15,\n",
       " 'Cov(X_0,X_475': -1.7763568394002505e-15,\n",
       " 'Cov(X_0,X_476': -1.7763568394002505e-15,\n",
       " 'Cov(X_0,X_477': -3.552713678800501e-15,\n",
       " 'Cov(X_0,X_478': -1.7763568394002505e-15,\n",
       " 'Cov(X_0,X_479': -3.552713678800501e-15,\n",
       " 'Cov(X_0,X_480': -1.7763568394002505e-15,\n",
       " 'Cov(X_0,X_481': -1.7763568394002505e-15,\n",
       " 'Cov(X_0,X_482': 0.0,\n",
       " 'Cov(X_0,X_483': 0.0,\n",
       " 'Cov(X_0,X_484': 0.0,\n",
       " 'Cov(X_0,X_485': -1.7763568394002505e-15,\n",
       " 'Cov(X_0,X_486': 3.552713678800501e-15,\n",
       " 'Cov(X_0,X_487': -1.7763568394002505e-15,\n",
       " 'Cov(X_0,X_488': 3.552713678800501e-15,\n",
       " 'Cov(X_0,X_489': 0.0,\n",
       " 'Cov(X_0,X_490': 3.552713678800501e-15,\n",
       " 'Cov(X_0,X_491': 1.7763568394002505e-15,\n",
       " 'Cov(X_0,X_492': 3.552713678800501e-15,\n",
       " 'Cov(X_0,X_493': 1.7763568394002505e-15,\n",
       " 'Cov(X_0,X_494': 0.0,\n",
       " 'Cov(X_0,X_495': 0.0,\n",
       " 'Cov(X_0,X_496': 3.552713678800501e-15,\n",
       " 'Cov(X_0,X_497': 3.552713678800501e-15,\n",
       " 'Cov(X_0,X_498': 1.7763568394002505e-15,\n",
       " 'Cov(X_0,X_499': 1.7763568394002505e-15,\n",
       " 'Cov(X_0,X_500': 3.552713678800501e-15}"
      ]
     },
     "execution_count": 75,
     "metadata": {},
     "output_type": "execute_result"
    }
   ],
   "source": [
    "from numpy.linalg import matrix_power\n",
    "def calc_cov_X_0(T,mean):\n",
    "    res = {}\n",
    "    for k in range(1,501):\n",
    "        e_xy = 0\n",
    "        T_power = np.transpose(matrix_power(T,k))\n",
    "        \n",
    "        for i in range(0,6):\n",
    "            for j in range(0,6):\n",
    "                e_xy += (i+1)*(j+1)*T_power[j][i]\n",
    "        e_xy/=T_power.sum()\n",
    "        res['Cov(X_0,X_{0}'.format(k)] = e_xy  - mean**2\n",
    "    return res\n",
    "calc_cov_X_0(T,3.5)\n",
    "                \n",
    "    \n",
    "    "
   ]
  },
  {
   "cell_type": "markdown",
   "metadata": {},
   "source": [
    "#### 4.E - Bonus\n",
    "Let $\\bar{X_n}$ be the sample average for a single trajectory of length $n$.\n",
    "1. Show that \n",
    "$$E(\\bar{X_n}) =E(X_0)$$\n",
    "What is it in our case ($\\pi_0$ and $T$ as defined above)?\n",
    "2. Show that \n",
    "$$Var(\\bar{X_n}) = \\frac{1}{n}\\sigma_0^2 + \\frac{2}{n^2}\\sum_{d=1}^{n-1}(n-d)Cov(X_0, X_d)$$\n",
    "Calculate it for our case.\n",
    "3. Formulate the CLT for Markov Chains.\n",
    "4. Graphically show that the CLT holds for n=500 in our case."
   ]
  },
  {
   "cell_type": "markdown",
   "metadata": {},
   "source": [
    "### Question 5 - Sampling of Kendall correlation (15 points)"
   ]
  },
  {
   "cell_type": "markdown",
   "metadata": {},
   "source": [
    "Recall that the Naive time complexity of computing Kendall correlation is $O(n^2)$. We will investigate a sampling approach to approximate Kendall correlations efficiently. "
   ]
  },
  {
   "cell_type": "markdown",
   "metadata": {},
   "source": [
    "#### 5.A\n",
    "Draw a sample of 10M samples from a bivariate distribution $(X,Y)\\sim \\mathcal{N}(\\bf{0},S)$ with the covariance matrix $S=\\begin{pmatrix} 2 & 3\\\\ 3 & 5 \\end{pmatrix}$. <br>\n",
    "Calculate the Kendall correlation $\\tau(X,Y)$.\n",
    "How long did this calculation take?"
   ]
  },
  {
   "cell_type": "code",
   "execution_count": 76,
   "metadata": {},
   "outputs": [
    {
     "data": {
      "image/png": "[encoded data removed]",
      "text/plain": [
       "<Figure size 432x288 with 1 Axes>"
      ]
     },
     "metadata": {
      "needs_background": "light"
     },
     "output_type": "display_data"
    },
    {
     "name": "stdout",
     "output_type": "stream",
     "text": [
      "kendal calc maeasure time: 8.263055086135864\n",
      "kendal result:  0.7951797452175347\n"
     ]
    }
   ],
   "source": [
    "first_gaussian = stats.norm.rvs(loc=0, scale=1, size=10)\n",
    "first_gaussian\n",
    "mean = [0, 0]\n",
    "cov = [[2, 3], [3, 5]]  # diagonal covariance\n",
    "x, y = np.random.multivariate_normal(mean, cov, 10000000).T\n",
    "plt.plot(x, y, 'x')\n",
    "plt.axis('equal')\n",
    "plt.show()\n",
    "start = time.time()\n",
    "real_corr = stats.kendalltau(x, y)[0]\n",
    "end = time.time()\n",
    "\n",
    "print('kendal calc maeasure time:', end - start)\n",
    "print('kendal result: ', real_corr)\n"
   ]
  },
  {
   "cell_type": "markdown",
   "metadata": {},
   "source": [
    "#### 5.B\n",
    "Sample 1,000 points from the data and calculate the Kendall correlation $\\tau(U,V)$. "
   ]
  },
  {
   "cell_type": "code",
   "execution_count": 77,
   "metadata": {},
   "outputs": [],
   "source": [
    "params = np.random.multivariate_normal(mean, cov, 10000000)\n"
   ]
  },
  {
   "cell_type": "code",
   "execution_count": 78,
   "metadata": {},
   "outputs": [
    {
     "data": {
      "text/plain": [
       "0.8041721721721722"
      ]
     },
     "execution_count": 78,
     "metadata": {},
     "output_type": "execute_result"
    }
   ],
   "source": [
    "def sample_n_corr(n):\n",
    "    samples_n = params[np.random.choice(params.shape[0], n, replace=False)]\n",
    "    x, y= samples_n.T\n",
    "    corr = stats.kendalltau(x, y)[0]\n",
    "    return corr\n",
    "sample_n_corr(1000)"
   ]
  },
  {
   "cell_type": "markdown",
   "metadata": {},
   "source": [
    "#### 5.C\n",
    "Repeat Section 5.B 1000 times and plot a histogram of the calculated $\\tau(U,V)$ values. Indicate the true $\\tau(X,Y)$ (calculated on the entire 10M samples) on the histogram. What are the empirical mean and stadard deviation of the calculated $\\tau(U,V)$ values?"
   ]
  },
  {
   "cell_type": "code",
   "execution_count": 79,
   "metadata": {},
   "outputs": [],
   "source": [
    "def many_samples(n,rounds=1000, verbose=True):\n",
    "    kebdall_results = []\n",
    "    for i in range(rounds):\n",
    "        if i % 100 == 0 and verbose:\n",
    "            print('n: ', n,'round: ', i)\n",
    "        kebdall_results.append(sample_n_corr(n))\n",
    "    return kebdall_results\n"
   ]
  },
  {
   "cell_type": "code",
   "execution_count": 80,
   "metadata": {},
   "outputs": [
    {
     "name": "stdout",
     "output_type": "stream",
     "text": [
      "n:  1000 round:  0\n"
     ]
    },
    {
     "ename": "KeyboardInterrupt",
     "evalue": "",
     "output_type": "error",
     "traceback": [
      "\u001b[1;31m---------------------------------------------------------------------------\u001b[0m",
      "\u001b[1;31mKeyboardInterrupt\u001b[0m                         Traceback (most recent call last)",
      "\u001b[1;32m<ipython-input-80-c7d8893347b7>\u001b[0m in \u001b[0;36m<module>\u001b[1;34m\u001b[0m\n\u001b[1;32m----> 1\u001b[1;33m \u001b[0mkebdall_results\u001b[0m\u001b[1;33m=\u001b[0m \u001b[0mmany_samples\u001b[0m\u001b[1;33m(\u001b[0m\u001b[1;36m1000\u001b[0m\u001b[1;33m,\u001b[0m \u001b[1;36m1000\u001b[0m\u001b[1;33m)\u001b[0m\u001b[1;33m\u001b[0m\u001b[1;33m\u001b[0m\u001b[0m\n\u001b[0m\u001b[0;32m      2\u001b[0m \u001b[0mmean\u001b[0m \u001b[1;33m=\u001b[0m \u001b[0mnp\u001b[0m\u001b[1;33m.\u001b[0m\u001b[0mmean\u001b[0m\u001b[1;33m(\u001b[0m\u001b[0mkebdall_results\u001b[0m\u001b[1;33m)\u001b[0m\u001b[1;33m\u001b[0m\u001b[1;33m\u001b[0m\u001b[0m\n\u001b[0;32m      3\u001b[0m \u001b[0mstd\u001b[0m \u001b[1;33m=\u001b[0m \u001b[0mnp\u001b[0m\u001b[1;33m.\u001b[0m\u001b[0mstd\u001b[0m\u001b[1;33m(\u001b[0m\u001b[0mkebdall_results\u001b[0m\u001b[1;33m)\u001b[0m\u001b[1;33m\u001b[0m\u001b[1;33m\u001b[0m\u001b[0m\n\u001b[0;32m      4\u001b[0m \u001b[0mplt\u001b[0m\u001b[1;33m.\u001b[0m\u001b[0mhist\u001b[0m\u001b[1;33m(\u001b[0m\u001b[0mkebdall_results\u001b[0m\u001b[1;33m)\u001b[0m\u001b[1;33m\u001b[0m\u001b[1;33m\u001b[0m\u001b[0m\n\u001b[0;32m      5\u001b[0m \u001b[0mplt\u001b[0m\u001b[1;33m.\u001b[0m\u001b[0maxvline\u001b[0m\u001b[1;33m(\u001b[0m\u001b[0mreal_corr\u001b[0m\u001b[1;33m,\u001b[0m \u001b[0mcolor\u001b[0m\u001b[1;33m=\u001b[0m\u001b[1;34m'k'\u001b[0m\u001b[1;33m,\u001b[0m \u001b[0mlinestyle\u001b[0m\u001b[1;33m=\u001b[0m\u001b[1;34m'dashed'\u001b[0m\u001b[1;33m,\u001b[0m \u001b[0mlinewidth\u001b[0m\u001b[1;33m=\u001b[0m\u001b[1;36m1\u001b[0m\u001b[1;33m)\u001b[0m\u001b[1;33m\u001b[0m\u001b[1;33m\u001b[0m\u001b[0m\n",
      "\u001b[1;32m<ipython-input-79-00e9dcbf28b3>\u001b[0m in \u001b[0;36mmany_samples\u001b[1;34m(n, rounds, verbose)\u001b[0m\n\u001b[0;32m      4\u001b[0m         \u001b[1;32mif\u001b[0m \u001b[0mi\u001b[0m \u001b[1;33m%\u001b[0m \u001b[1;36m100\u001b[0m \u001b[1;33m==\u001b[0m \u001b[1;36m0\u001b[0m \u001b[1;32mand\u001b[0m \u001b[0mverbose\u001b[0m\u001b[1;33m:\u001b[0m\u001b[1;33m\u001b[0m\u001b[1;33m\u001b[0m\u001b[0m\n\u001b[0;32m      5\u001b[0m             \u001b[0mprint\u001b[0m\u001b[1;33m(\u001b[0m\u001b[1;34m'n: '\u001b[0m\u001b[1;33m,\u001b[0m \u001b[0mn\u001b[0m\u001b[1;33m,\u001b[0m\u001b[1;34m'round: '\u001b[0m\u001b[1;33m,\u001b[0m \u001b[0mi\u001b[0m\u001b[1;33m)\u001b[0m\u001b[1;33m\u001b[0m\u001b[1;33m\u001b[0m\u001b[0m\n\u001b[1;32m----> 6\u001b[1;33m         \u001b[0mkebdall_results\u001b[0m\u001b[1;33m.\u001b[0m\u001b[0mappend\u001b[0m\u001b[1;33m(\u001b[0m\u001b[0msample_n_corr\u001b[0m\u001b[1;33m(\u001b[0m\u001b[0mn\u001b[0m\u001b[1;33m)\u001b[0m\u001b[1;33m)\u001b[0m\u001b[1;33m\u001b[0m\u001b[1;33m\u001b[0m\u001b[0m\n\u001b[0m\u001b[0;32m      7\u001b[0m     \u001b[1;32mreturn\u001b[0m \u001b[0mkebdall_results\u001b[0m\u001b[1;33m\u001b[0m\u001b[1;33m\u001b[0m\u001b[0m\n",
      "\u001b[1;32m<ipython-input-78-39d3a57c9ac3>\u001b[0m in \u001b[0;36msample_n_corr\u001b[1;34m(n)\u001b[0m\n\u001b[0;32m      1\u001b[0m \u001b[1;32mdef\u001b[0m \u001b[0msample_n_corr\u001b[0m\u001b[1;33m(\u001b[0m\u001b[0mn\u001b[0m\u001b[1;33m)\u001b[0m\u001b[1;33m:\u001b[0m\u001b[1;33m\u001b[0m\u001b[1;33m\u001b[0m\u001b[0m\n\u001b[1;32m----> 2\u001b[1;33m     \u001b[0msamples_n\u001b[0m \u001b[1;33m=\u001b[0m \u001b[0mparams\u001b[0m\u001b[1;33m[\u001b[0m\u001b[0mnp\u001b[0m\u001b[1;33m.\u001b[0m\u001b[0mrandom\u001b[0m\u001b[1;33m.\u001b[0m\u001b[0mchoice\u001b[0m\u001b[1;33m(\u001b[0m\u001b[0mparams\u001b[0m\u001b[1;33m.\u001b[0m\u001b[0mshape\u001b[0m\u001b[1;33m[\u001b[0m\u001b[1;36m0\u001b[0m\u001b[1;33m]\u001b[0m\u001b[1;33m,\u001b[0m \u001b[0mn\u001b[0m\u001b[1;33m,\u001b[0m \u001b[0mreplace\u001b[0m\u001b[1;33m=\u001b[0m\u001b[1;32mFalse\u001b[0m\u001b[1;33m)\u001b[0m\u001b[1;33m]\u001b[0m\u001b[1;33m\u001b[0m\u001b[1;33m\u001b[0m\u001b[0m\n\u001b[0m\u001b[0;32m      3\u001b[0m     \u001b[0mx\u001b[0m\u001b[1;33m,\u001b[0m \u001b[0my\u001b[0m\u001b[1;33m=\u001b[0m \u001b[0msamples_n\u001b[0m\u001b[1;33m.\u001b[0m\u001b[0mT\u001b[0m\u001b[1;33m\u001b[0m\u001b[1;33m\u001b[0m\u001b[0m\n\u001b[0;32m      4\u001b[0m     \u001b[0mcorr\u001b[0m \u001b[1;33m=\u001b[0m \u001b[0mstats\u001b[0m\u001b[1;33m.\u001b[0m\u001b[0mkendalltau\u001b[0m\u001b[1;33m(\u001b[0m\u001b[0mx\u001b[0m\u001b[1;33m,\u001b[0m \u001b[0my\u001b[0m\u001b[1;33m)\u001b[0m\u001b[1;33m[\u001b[0m\u001b[1;36m0\u001b[0m\u001b[1;33m]\u001b[0m\u001b[1;33m\u001b[0m\u001b[1;33m\u001b[0m\u001b[0m\n\u001b[0;32m      5\u001b[0m     \u001b[1;32mreturn\u001b[0m \u001b[0mcorr\u001b[0m\u001b[1;33m\u001b[0m\u001b[1;33m\u001b[0m\u001b[0m\n",
      "\u001b[1;31mKeyboardInterrupt\u001b[0m: "
     ]
    }
   ],
   "source": [
    "kebdall_results= many_samples(1000, 1000)\n",
    "mean = np.mean(kebdall_results)\n",
    "std = np.std(kebdall_results)\n",
    "plt.hist(kebdall_results)\n",
    "plt.axvline(real_corr, color='k', linestyle='dashed', linewidth=1)\n",
    "print('mean: ', mean)\n",
    "print('std: ', std)"
   ]
  },
  {
   "cell_type": "markdown",
   "metadata": {},
   "source": [
    "#### 5.D\n",
    "Repeat Section 5.C for samples of $m={10, 50, 100, 500, 1000, 5000}$ points. <br>\n",
    "What is the naive time complexity of each calculation? <br>\n",
    "Compare the empirical time complexity and the standard deviation of the calucated values to the size of the sample."
   ]
  },
  {
   "cell_type": "code",
   "execution_count": null,
   "metadata": {},
   "outputs": [],
   "source": [
    "def D_5(): \n",
    "    sample_size = [10,50,100,500,1000,5000]\n",
    "    experiment_results = []\n",
    "    rounds = 1000\n",
    "    for size in sample_size:\n",
    "        print('Calc for size: ', size)\n",
    "        start = time.time()\n",
    "        kendall_results = many_samples(size, rounds = rounds, verbose = True)\n",
    "        time_complexity = time.time() - start\n",
    "        experiment_results.append({'kendall_results': kendall_results, \n",
    "                                   'size': size,\n",
    "                                   'time_complexity': time_complexity,\n",
    "                                   'std': np.std(kendall_results)})\n",
    "    return experiment_results\n"
   ]
  },
  {
   "cell_type": "code",
   "execution_count": null,
   "metadata": {},
   "outputs": [],
   "source": [
    "experiment_results = D_5()"
   ]
  },
  {
   "cell_type": "markdown",
   "metadata": {},
   "source": [
    "The naive time complexity of kendall is $O(n^2)$ since we are counting concordant pairs, and we need to go throught each possible pair i\n"
   ]
  },
  {
   "cell_type": "code",
   "execution_count": null,
   "metadata": {},
   "outputs": [],
   "source": [
    "np.var(experiment_results[0]['kendall_results']) - np.var(experiment_results[4]['kendall_results'])\n"
   ]
  },
  {
   "cell_type": "code",
   "execution_count": null,
   "metadata": {},
   "outputs": [],
   "source": [
    "# list(map(lambda x : [x['size'], x['time_complexity']],experiment_results))\n",
    "X = []\n",
    "Y = []\n",
    "Z = []\n",
    "for res in experiment_results:\n",
    "    X.append(res['size'])\n",
    "    Y.append(np.std(res['kendall_results']))\n",
    "    Z.append(res['time_complexity'])\n",
    "    print('size: ', res['size'],           'time: ', res['time_complexity'], \n",
    "          'std: ',  np.std(res['kendall_results']))\n",
    "\n",
    "plt.plot(X,Y)\n",
    "plt.xlabel('size')\n",
    "plt.ylabel('std')\n"
   ]
  },
  {
   "cell_type": "code",
   "execution_count": null,
   "metadata": {},
   "outputs": [],
   "source": [
    "plt.plot(X,Z)\n",
    "plt.xlabel('size')\n",
    "plt.ylabel('time')\n"
   ]
  },
  {
   "cell_type": "markdown",
   "metadata": {},
   "source": [
    "Accorindg to the graph we can see that the time is growing pretty slowly even though the naive kenall correlation implemenation is $O(n^2)$. This suggests that the library that we used is implementing the Kendall with some sort over the variance in order to count the concardant pairs. "
   ]
  },
  {
   "cell_type": "code",
   "execution_count": null,
   "metadata": {},
   "outputs": [],
   "source": []
  },
  {
   "cell_type": "markdown",
   "metadata": {},
   "source": [
    "#### 5.E\n",
    "A coleague found an old dataset which she believes originated from the same popuation as the data in Section 5.A. The dataset is avaialble as \"Kendall_data.csv\". \n",
    "\n",
    "Using Kendall correlation and your answer to Section 5.D, how much confidence do you have in rejecting your coleague's claim? Explain your answer and show your calculation."
   ]
  },
  {
   "cell_type": "code",
   "execution_count": 16,
   "metadata": {},
   "outputs": [
    {
     "data": {
      "text/plain": [
       "0.955954196572594"
      ]
     },
     "execution_count": 16,
     "metadata": {},
     "output_type": "execute_result"
    }
   ],
   "source": [
    "import scipy.stats\n",
    "from scipy.stats import norm\n",
    "# import matplotlib.pyplot as plt\n",
    "\n",
    "x = 51\n",
    "0.4 * norm.cdf(x, loc = 30, scale= 5) + 0.3 * norm.cdf(x, loc = 35, scale= 7) + 0.3 * norm.cdf(x, loc = 40, scale= 10)\n",
    "# print(norm.cdf(60, 225,55) * 18000)\n",
    "\n"
   ]
  },
  {
   "cell_type": "code",
   "execution_count": 20,
   "metadata": {},
   "outputs": [
    {
     "name": "stdout",
     "output_type": "stream",
     "text": [
      "-4.120738745040511\n",
      "1.8882974290145123e-05\n"
     ]
    }
   ],
   "source": [
    "import math\n",
    "N = 40\n",
    "B = 15\n",
    "T = 160\n",
    "meu = (B*(N+1)) /2\n",
    "sigma = math.sqrt((B*(N-B)*(N+1))/12)\n",
    "Z_T = ((T-meu)/sigma)\n",
    "print(Z_T)\n",
    "\n",
    "print(norm.cdf(Z_T))"
   ]
  },
  {
   "cell_type": "code",
   "execution_count": 21,
   "metadata": {},
   "outputs": [
    {
     "name": "stdout",
     "output_type": "stream",
     "text": [
      "-5.223853432921399\n",
      "8.761875204686125e-08\n"
     ]
    }
   ],
   "source": [
    "import math\n",
    "N = 90\n",
    "B = 15\n",
    "T = 200\n",
    "meu = (B*(N+1)) /2\n",
    "sigma = math.sqrt((B*(N-B)*(N+1))/12)\n",
    "Z_T = ((T-meu)/sigma)\n",
    "print(Z_T)\n",
    "print(norm.cdf(Z_T))"
   ]
  },
  {
   "cell_type": "code",
   "execution_count": 26,
   "metadata": {},
   "outputs": [
    {
     "data": {
      "text/plain": [
       "1.7806390622295662"
      ]
     },
     "execution_count": 26,
     "metadata": {},
     "output_type": "execute_result"
    }
   ],
   "source": [
    "import math\n",
    "\n",
    "\n",
    "-1 * ((1/4) * math.log(1/4,2) + 6/16 * math.log(6/16,2) + 1/4* math.log(1/4,2) + 1/16 * math.log(1/16, 2))\n",
    "\n",
    "\n",
    "\n"
   ]
  }
 ],
 "metadata": {
  "kernelspec": {
   "display_name": "Python 3",
   "language": "python",
   "name": "python3"
  },
  "language_info": {
   "codemirror_mode": {
    "name": "ipython",
    "version": 3
   },
   "file_extension": ".py",
   "mimetype": "text/x-python",
   "name": "python",
   "nbconvert_exporter": "python",
   "pygments_lexer": "ipython3",
   "version": "3.6.4"
  }
 },
 "nbformat": 4,
 "nbformat_minor": 2
}
