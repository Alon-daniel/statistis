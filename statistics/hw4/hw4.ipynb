{
 "cells": [
  {
   "cell_type": "code",
   "execution_count": null,
   "metadata": {},
   "outputs": [],
   "source": [
    "!pip install tqdm"
   ]
  },
  {
   "cell_type": "code",
   "execution_count": 77,
   "metadata": {},
   "outputs": [
    {
     "name": "stderr",
     "output_type": "stream",
     "text": [
      "100%|██████████| 1000000/1000000 [00:00<00:00, 3096311.64it/s]\n"
     ]
    }
   ],
   "source": [
    "import pandas as pd \n",
    "import numpy as np\n",
    "from scipy import stats\n",
    "from scipy.stats import ranksums\n",
    "from tqdm import tqdm\n",
    "np.random.seed(12345678)\n",
    "filename = 'AMI_GSE66360_series_matrix.csv'\n"
   ]
  },
  {
   "cell_type": "code",
   "execution_count": 66,
   "metadata": {},
   "outputs": [
    {
     "name": "stdout",
     "output_type": "stream",
     "text": [
      "(54675, 100)\n",
      "[['Class' 'H' 'H' 'H' 'H' 'H' 'H' 'H' 'H' 'H' 'H' 'H' 'H' 'H' 'M' 'M' 'M'\n",
      "  'M' 'M' 'M' 'M' 'M' 'M' 'M' 'M' 'M' 'M' 'M' 'M' 'M' 'M' 'M' 'M' 'M' 'M'\n",
      "  'H' 'H' 'H' 'H' 'H' 'H' 'H' 'H' 'H' 'H' 'H' 'H' 'H' 'H' 'H' 'H' 'H' 'H'\n",
      "  'H' 'H' 'H' 'H' 'H' 'H' 'M' 'M' 'M' 'M' 'M' 'M' 'M' 'M' 'M' 'M' 'M' 'M'\n",
      "  'M' 'M' 'M' 'H' 'H' 'H' 'H' 'H' 'H' 'H' 'H' 'H' 'H' 'H' 'H' 'H' 'M' 'M'\n",
      "  'M' 'M' 'M' 'M' 'M' 'M' 'M' 'M' 'M' 'M' 'M']]\n"
     ]
    },
    {
     "data": {
      "text/plain": [
       "'Class'"
      ]
     },
     "execution_count": 66,
     "metadata": {},
     "output_type": "execute_result"
    }
   ],
   "source": [
    "\n",
    "\n",
    "labels = pd.read_csv(filename,skiprows=58,nrows=1).to_numpy()\n",
    "data = pd.read_csv(filename,skiprows=60) \n",
    "print(data.shape)\n",
    "print(labels)\n",
    "data.head()\n",
    "#a.1 - 54674 genes are profiled\n",
    "#a.2 - 99 samples total\n",
    "#a.3 - 2 classes, Healthy - Myocradial\n",
    "\n"
   ]
  },
  {
   "cell_type": "code",
   "execution_count": 6,
   "metadata": {},
   "outputs": [
    {
     "data": {
      "text/plain": [
       "{'Class': 1, 'H': 50, 'M': 49}"
      ]
     },
     "execution_count": 6,
     "metadata": {},
     "output_type": "execute_result"
    }
   ],
   "source": [
    "unique, counts = np.unique(labels, return_counts=True)\n",
    "dict(zip(unique, counts))\n",
    "#a.3 - 50 H , 49 - M"
   ]
  },
  {
   "cell_type": "code",
   "execution_count": 7,
   "metadata": {},
   "outputs": [
    {
     "data": {
      "text/plain": [
       "(54628, 100)"
      ]
     },
     "execution_count": 7,
     "metadata": {},
     "output_type": "execute_result"
    }
   ],
   "source": [
    "data.dropna().shape\n",
    "#a.4 - 54628"
   ]
  },
  {
   "cell_type": "code",
   "execution_count": 9,
   "metadata": {},
   "outputs": [],
   "source": [
    "#a.5\n",
    "data_np = data.dropna().to_numpy()\n",
    "#print(data_np.shape)\n",
    "results = pd.read_csv(filename,skiprows=58,nrows=1).to_numpy()\n",
    "rand_genes_idx = np.random.randint(low=0,high=data_np.shape[0]-1, size=20)\n",
    "#print(rand_idx)"
   ]
  },
  {
   "cell_type": "markdown",
   "metadata": {},
   "source": [
    "B.1 - 2450"
   ]
  },
  {
   "cell_type": "code",
   "execution_count": 10,
   "metadata": {},
   "outputs": [
    {
     "name": "stdout",
     "output_type": "stream",
     "text": [
      "2450.0\n"
     ]
    }
   ],
   "source": [
    "x = ((99+1)/2 * 49)\n",
    "print(x)"
   ]
  },
  {
   "cell_type": "markdown",
   "metadata": {},
   "source": [
    "B.2 - maximal value is the sum of 51 to 99 where the gene represent H/M solely, meaning: 3675"
   ]
  },
  {
   "cell_type": "code",
   "execution_count": 40,
   "metadata": {},
   "outputs": [
    {
     "name": "stdout",
     "output_type": "stream",
     "text": [
      "3675\n"
     ]
    }
   ],
   "source": [
    "sum = 0\n",
    "for i in range(51,100):\n",
    "    sum += i\n",
    "print(sum)"
   ]
  },
  {
   "cell_type": "markdown",
   "metadata": {},
   "source": [
    "B.3 - under the null model, we equal probability for every configuration, and 49 samples that contain M, we need to choose 49 from 99 samples, meaning $P[RS(g))=c] = \\dfrac{1}{{99 \\choose 49}}$"
   ]
  },
  {
   "cell_type": "markdown",
   "metadata": {},
   "source": [
    "B.4\n",
    "\n",
    "$P[RS(g))=c-1] = \\dfrac{1}{{99 \\choose 49}}$ it has the same probability as B.3 since having the rank lowered by 1 meaning we swapped 2 ranks, the 51th and the 50th, so there is only one option, and we have the same as B.3\n",
    " \n",
    " $P[RS(g))=c-2] = \\dfrac{1}{{99 \\choose 49}} + \\dfrac{1}{{99 \\choose 49}}$ we have two permutations that can yield a c-2 result, is by switching 51th rank with 49th or switchin 50th rank with 52th rank.\n",
    " "
   ]
  },
  {
   "cell_type": "code",
   "execution_count": null,
   "metadata": {},
   "outputs": [],
   "source": []
  },
  {
   "cell_type": "code",
   "execution_count": 117,
   "metadata": {},
   "outputs": [
    {
     "data": {
      "text/html": [
       "<div>\n",
       "<style scoped>\n",
       "    .dataframe tbody tr th:only-of-type {\n",
       "        vertical-align: middle;\n",
       "    }\n",
       "\n",
       "    .dataframe tbody tr th {\n",
       "        vertical-align: top;\n",
       "    }\n",
       "\n",
       "    .dataframe thead th {\n",
       "        text-align: right;\n",
       "    }\n",
       "</style>\n",
       "<table border=\"1\" class=\"dataframe\">\n",
       "  <thead>\n",
       "    <tr style=\"text-align: right;\">\n",
       "      <th></th>\n",
       "      <th>ID_REF</th>\n",
       "      <th>GSM1620819</th>\n",
       "      <th>GSM1620820</th>\n",
       "      <th>GSM1620821</th>\n",
       "      <th>GSM1620822</th>\n",
       "      <th>GSM1620823</th>\n",
       "      <th>GSM1620824</th>\n",
       "      <th>GSM1620825</th>\n",
       "      <th>GSM1620826</th>\n",
       "      <th>GSM1620827</th>\n",
       "      <th>...</th>\n",
       "      <th>GSM1620908</th>\n",
       "      <th>GSM1620909</th>\n",
       "      <th>GSM1620910</th>\n",
       "      <th>GSM1620911</th>\n",
       "      <th>GSM1620912</th>\n",
       "      <th>GSM1620913</th>\n",
       "      <th>GSM1620914</th>\n",
       "      <th>GSM1620915</th>\n",
       "      <th>GSM1620916</th>\n",
       "      <th>GSM1620917</th>\n",
       "    </tr>\n",
       "  </thead>\n",
       "  <tbody>\n",
       "    <tr>\n",
       "      <th>0</th>\n",
       "      <td>1007_s_at</td>\n",
       "      <td>5.866378</td>\n",
       "      <td>4.948736</td>\n",
       "      <td>5.148384</td>\n",
       "      <td>5.064419</td>\n",
       "      <td>5.017833</td>\n",
       "      <td>5.116154</td>\n",
       "      <td>5.431328</td>\n",
       "      <td>5.235271</td>\n",
       "      <td>5.773528</td>\n",
       "      <td>...</td>\n",
       "      <td>5.419482</td>\n",
       "      <td>5.057716</td>\n",
       "      <td>5.996493</td>\n",
       "      <td>5.343133</td>\n",
       "      <td>5.558892</td>\n",
       "      <td>6.472517</td>\n",
       "      <td>5.678816</td>\n",
       "      <td>5.653286</td>\n",
       "      <td>6.013841</td>\n",
       "      <td>5.465334</td>\n",
       "    </tr>\n",
       "    <tr>\n",
       "      <th>1</th>\n",
       "      <td>1053_at</td>\n",
       "      <td>8.225790</td>\n",
       "      <td>7.525865</td>\n",
       "      <td>7.764637</td>\n",
       "      <td>7.198461</td>\n",
       "      <td>7.831450</td>\n",
       "      <td>7.203592</td>\n",
       "      <td>7.694551</td>\n",
       "      <td>7.760259</td>\n",
       "      <td>8.279814</td>\n",
       "      <td>...</td>\n",
       "      <td>7.226348</td>\n",
       "      <td>7.105538</td>\n",
       "      <td>5.354105</td>\n",
       "      <td>8.271500</td>\n",
       "      <td>5.963346</td>\n",
       "      <td>8.261422</td>\n",
       "      <td>6.925753</td>\n",
       "      <td>7.918424</td>\n",
       "      <td>7.442701</td>\n",
       "      <td>9.225221</td>\n",
       "    </tr>\n",
       "    <tr>\n",
       "      <th>2</th>\n",
       "      <td>117_at</td>\n",
       "      <td>6.179732</td>\n",
       "      <td>6.628137</td>\n",
       "      <td>5.859151</td>\n",
       "      <td>5.974135</td>\n",
       "      <td>6.793079</td>\n",
       "      <td>6.435229</td>\n",
       "      <td>6.320546</td>\n",
       "      <td>6.483590</td>\n",
       "      <td>6.387779</td>\n",
       "      <td>...</td>\n",
       "      <td>6.789501</td>\n",
       "      <td>7.441940</td>\n",
       "      <td>7.026929</td>\n",
       "      <td>6.003973</td>\n",
       "      <td>7.474326</td>\n",
       "      <td>6.367759</td>\n",
       "      <td>6.835756</td>\n",
       "      <td>7.577035</td>\n",
       "      <td>7.147417</td>\n",
       "      <td>6.481128</td>\n",
       "    </tr>\n",
       "    <tr>\n",
       "      <th>3</th>\n",
       "      <td>121_at</td>\n",
       "      <td>6.179478</td>\n",
       "      <td>6.582889</td>\n",
       "      <td>6.602135</td>\n",
       "      <td>6.545905</td>\n",
       "      <td>5.911542</td>\n",
       "      <td>6.285420</td>\n",
       "      <td>6.562316</td>\n",
       "      <td>6.345888</td>\n",
       "      <td>6.272806</td>\n",
       "      <td>...</td>\n",
       "      <td>6.513437</td>\n",
       "      <td>6.317523</td>\n",
       "      <td>7.413453</td>\n",
       "      <td>6.809103</td>\n",
       "      <td>5.949091</td>\n",
       "      <td>6.440978</td>\n",
       "      <td>6.955883</td>\n",
       "      <td>6.499215</td>\n",
       "      <td>6.587065</td>\n",
       "      <td>6.897591</td>\n",
       "    </tr>\n",
       "    <tr>\n",
       "      <th>4</th>\n",
       "      <td>1255_g_at</td>\n",
       "      <td>2.792048</td>\n",
       "      <td>2.695714</td>\n",
       "      <td>2.580181</td>\n",
       "      <td>2.712124</td>\n",
       "      <td>2.723687</td>\n",
       "      <td>2.706684</td>\n",
       "      <td>2.674747</td>\n",
       "      <td>2.635150</td>\n",
       "      <td>2.696649</td>\n",
       "      <td>...</td>\n",
       "      <td>2.924658</td>\n",
       "      <td>2.714103</td>\n",
       "      <td>3.635945</td>\n",
       "      <td>2.710944</td>\n",
       "      <td>2.979381</td>\n",
       "      <td>3.730139</td>\n",
       "      <td>2.914868</td>\n",
       "      <td>3.013901</td>\n",
       "      <td>2.729320</td>\n",
       "      <td>3.151449</td>\n",
       "    </tr>\n",
       "  </tbody>\n",
       "</table>\n",
       "<p>5 rows × 100 columns</p>\n",
       "</div>"
      ],
      "text/plain": [
       "      ID_REF  GSM1620819  GSM1620820  GSM1620821  GSM1620822  GSM1620823  \\\n",
       "0  1007_s_at    5.866378    4.948736    5.148384    5.064419    5.017833   \n",
       "1    1053_at    8.225790    7.525865    7.764637    7.198461    7.831450   \n",
       "2     117_at    6.179732    6.628137    5.859151    5.974135    6.793079   \n",
       "3     121_at    6.179478    6.582889    6.602135    6.545905    5.911542   \n",
       "4  1255_g_at    2.792048    2.695714    2.580181    2.712124    2.723687   \n",
       "\n",
       "   GSM1620824  GSM1620825  GSM1620826  GSM1620827  ...  GSM1620908  \\\n",
       "0    5.116154    5.431328    5.235271    5.773528  ...    5.419482   \n",
       "1    7.203592    7.694551    7.760259    8.279814  ...    7.226348   \n",
       "2    6.435229    6.320546    6.483590    6.387779  ...    6.789501   \n",
       "3    6.285420    6.562316    6.345888    6.272806  ...    6.513437   \n",
       "4    2.706684    2.674747    2.635150    2.696649  ...    2.924658   \n",
       "\n",
       "   GSM1620909  GSM1620910  GSM1620911  GSM1620912  GSM1620913  GSM1620914  \\\n",
       "0    5.057716    5.996493    5.343133    5.558892    6.472517    5.678816   \n",
       "1    7.105538    5.354105    8.271500    5.963346    8.261422    6.925753   \n",
       "2    7.441940    7.026929    6.003973    7.474326    6.367759    6.835756   \n",
       "3    6.317523    7.413453    6.809103    5.949091    6.440978    6.955883   \n",
       "4    2.714103    3.635945    2.710944    2.979381    3.730139    2.914868   \n",
       "\n",
       "   GSM1620915  GSM1620916  GSM1620917  \n",
       "0    5.653286    6.013841    5.465334  \n",
       "1    7.918424    7.442701    9.225221  \n",
       "2    7.577035    7.147417    6.481128  \n",
       "3    6.499215    6.587065    6.897591  \n",
       "4    3.013901    2.729320    3.151449  \n",
       "\n",
       "[5 rows x 100 columns]"
      ]
     },
     "execution_count": 117,
     "metadata": {},
     "output_type": "execute_result"
    }
   ],
   "source": [
    "data.head()"
   ]
  },
  {
   "cell_type": "markdown",
   "metadata": {},
   "source": [
    "### Question C"
   ]
  },
  {
   "cell_type": "markdown",
   "metadata": {},
   "source": [
    "we'll find all the genes with one-sided wrs and ttest below 0.07\n",
    "For these genes we'll decide whether they are over or under expressed in M label samples according to the sum of their rank. Low rank == underexpresed, high rank == overexpressed\n",
    "Their number will just be lower than , then simple using ttest and wrs directly should be ok because they will be ranked up at the list when we sort it in an asc order. \n"
   ]
  },
  {
   "cell_type": "code",
   "execution_count": 131,
   "metadata": {},
   "outputs": [
    {
     "name": "stderr",
     "output_type": "stream",
     "text": [
      "100%|██████████| 54675/54675 [01:34<00:00, 579.07it/s]\n"
     ]
    }
   ],
   "source": [
    "\n",
    "labels_boolean = []\n",
    "# Skipping the first item which is just class keyword\n",
    "for l in labels[0][1:]:\n",
    "    if l =='H':\n",
    "        labels_boolean.append(False)\n",
    "    else:\n",
    "        labels_boolean.append(True)\n",
    "\n",
    "\n",
    "# print(labels_boolean)\n",
    "# print(np.bitwise_not(labels_boolean))\n",
    "\n",
    "ttest_underexpressed = []\n",
    "wrs_underexpressed = [] \n",
    "\n",
    "for gene in tqdm(range(data.shape[0])):\n",
    "#   Testing underexpressed\n",
    "    M_labels = data.iloc[gene,1:][labels_boolean]\n",
    "    H_labels = data.iloc[gene,1:][np.bitwise_not(labels_boolean)]\n",
    "    one_sided_ttest = stats.ttest_ind(M_labels,H_labels)[1] /2 \n",
    "    one_sided_wrs = ranksums(M_labels,H_labels)[1] /2 \n",
    "\n",
    "    over_under = list(zip(data.iloc[gene,1:], labels_boolean))\n",
    "    over_under.sort(key = lambda x: x[0])\n",
    "    expression_level = 0\n",
    "    for i in range(len(over_under)):\n",
    "        if over_under[i][1]:\n",
    "            expression_level += i\n",
    "            \n",
    "    if one_sided_ttest < 0.07:\n",
    "        ttest_underexpressed.append({'gene_index': gene,'gene_name':  data.iloc[gene,0], 'ttest_value': one_sided_ttest, 'expression_level': expression_level})\n",
    "    if one_sided_wrs < 0.07:\n",
    "        wrs_underexpressed.append({'gene_index': gene,'gene_name':  data.iloc[gene,0], 'wrs_value': one_sided_wrs, 'expression_level': expression_level})\n",
    "        \n"
   ]
  },
  {
   "cell_type": "code",
   "execution_count": 138,
   "metadata": {},
   "outputs": [
    {
     "name": "stdout",
     "output_type": "stream",
     "text": [
      "number of over expressed genes in ttest:  8430\n",
      "number of under expressed genes in ttest:  8726\n",
      "================\n",
      "number of over expressed genes in wrs:  10800\n",
      "number of under expressed genes in wrs:  10675\n"
     ]
    }
   ],
   "source": [
    "over_expressed_genes_ttest = 0\n",
    "for res in ttest_underexpressed:\n",
    "    if res['expression_level'] > 2525:\n",
    "        over_expressed_genes_ttest += 1\n",
    "\n",
    "print('number of over expressed genes in ttest: ', over_expressed_genes_ttest)\n",
    "print('number of under expressed genes in ttest: ', len(ttest_underexpressed) - over_expressed_genes_ttest)\n",
    "print('================')        \n",
    "over_expressed_genes_wrs = 0\n",
    "for res in wrs_underexpressed:\n",
    "    if res['expression_level'] > 2525:\n",
    "        over_expressed_genes_wrs += 1\n",
    "\n",
    "print('number of over expressed genes in wrs: ',over_expressed_genes_wrs)\n",
    "print('number of under expressed genes in wrs: ',len(wrs_underexpressed) - over_expressed_genes_wrs)"
   ]
  },
  {
   "cell_type": "markdown",
   "metadata": {},
   "source": [
    "### Question D\n",
    "\n"
   ]
  },
  {
   "cell_type": "code",
   "execution_count": null,
   "metadata": {},
   "outputs": [],
   "source": []
  },
  {
   "cell_type": "code",
   "execution_count": null,
   "metadata": {},
   "outputs": [],
   "source": []
  }
 ],
 "metadata": {
  "kernelspec": {
   "display_name": "Python 3",
   "language": "python",
   "name": "python3"
  },
  "language_info": {
   "codemirror_mode": {
    "name": "ipython",
    "version": 3
   },
   "file_extension": ".py",
   "mimetype": "text/x-python",
   "name": "python",
   "nbconvert_exporter": "python",
   "pygments_lexer": "ipython3",
   "version": "3.6.4"
  }
 },
 "nbformat": 4,
 "nbformat_minor": 5
}
