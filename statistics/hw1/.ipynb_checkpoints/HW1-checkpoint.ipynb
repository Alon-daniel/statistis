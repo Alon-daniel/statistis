{
 "cells": [
  {
   "cell_type": "markdown",
   "metadata": {},
   "source": [
    "### IDs:\n",
    "Insert yours IDs to the cell below"
   ]
  },
  {
   "cell_type": "markdown",
   "metadata": {},
   "source": [
    "ID #1: 201639663\n",
    "\n",
    "ID #2:038198149\n"
   ]
  },
  {
   "cell_type": "markdown",
   "metadata": {},
   "source": [
    "## Read the following instructions carefully:\n",
    "\n",
    "1. This jupyter notebook contains all the step by step instructions needed for this exercise.\n",
    "1. You are free to add cells.\n",
    "1. Write your functions and your answers in this jupyter notebook only.\n",
    "1. Answers to theoretical questions should be written in **markdown cells (with $\\LaTeX$ support)**.\n",
    "1. Submit this jupyter notebook only using your ID as a filename. Not to use ZIP or RAR. For example, your Moodle submission file name should look like this (two id numbers): `123456789_987654321.ipynb`."
   ]
  },
  {
   "cell_type": "markdown",
   "metadata": {},
   "source": [
    "### Question 1 - Defective products"
   ]
  },
  {
   "cell_type": "markdown",
   "metadata": {},
   "source": [
    "In a manufacturing pipeline products are 3% defective. We are interested in examining a defective product to see what goes wrong on the belt. We need to ask the facility manager to send us a set of independent samples for examination."
   ]
  },
  {
   "cell_type": "markdown",
   "metadata": {},
   "source": [
    "#### 1.A\n",
    "\n",
    "How many independent samples should we ask for in order to have a 85% probability of having at least one defective product in the batch sent? You should write a function."
   ]
  },
  {
   "cell_type": "code",
   "execution_count": 4,
   "metadata": {},
   "outputs": [],
   "source": [
    "from scipy import stats\n",
    "import pandas as pd\n",
    "import numpy as np\n",
    "import matplotlib.pyplot as plt\n",
    "from scipy.stats import binom, nbinom"
   ]
  },
  {
   "cell_type": "code",
   "execution_count": 6,
   "metadata": {},
   "outputs": [
    {
     "data": {
      "text/plain": [
       "63"
      ]
     },
     "execution_count": 6,
     "metadata": {},
     "output_type": "execute_result"
    }
   ],
   "source": [
    "def find_n(p, confidence):  \n",
    "    n = 1\n",
    "    while binom.pmf(0, n, 0.03) > 1 - confidence:\n",
    "        n+=1\n",
    "    return n\n",
    "\n",
    "find_n(0.03, 0.85)"
   ]
  },
  {
   "cell_type": "markdown",
   "metadata": {},
   "source": [
    "#### 1.B\n",
    "Answer this part again with the following changes: products are 4% defective and we want a 95% probability of at least one defective product in the batch."
   ]
  },
  {
   "cell_type": "code",
   "execution_count": 7,
   "metadata": {},
   "outputs": [
    {
     "name": "stdout",
     "output_type": "stream",
     "text": [
      "99\n"
     ]
    }
   ],
   "source": [
    "print(find_n(0.04, 0.95))"
   ]
  },
  {
   "cell_type": "markdown",
   "metadata": {},
   "source": [
    "#### 1.C \n",
    "\n",
    "Consider the following cases and calculate how many independent samples are required: \n",
    "\n",
    "1. Products are 10% defective and we want a 90% probability of at least 5 defective products in the batch.\n",
    "1. Products are 30% defective and we want a 90% probability of at least 15 defective products in the batch.\n",
    "\n",
    "Explain the difference between the two results. You should use mathematical reasoning based on the properties of distributions you saw in class and visualizations in your answer."
   ]
  },
  {
   "cell_type": "code",
   "execution_count": 9,
   "metadata": {},
   "outputs": [
    {
     "name": "stdout",
     "output_type": "stream",
     "text": [
      "size of batch: 78 prob: 0.9006056767326884\n",
      "size of batch: 64 prob: 0.9025706028157261\n"
     ]
    }
   ],
   "source": [
    "def ONE_C(p, r, confidence):\n",
    "    X = nbinom(r,p, loc=r)\n",
    "    i = np.arange(0,100)\n",
    "    p_X_i = X.cdf(i)\n",
    "    valid_idx = np.where(p_X_i >= 0.9)[0][0]\n",
    "    print('size of batch: ' + str(valid_idx) + ' prob: ' + str(p_X_i[valid_idx]))\n",
    "    \n",
    "\n",
    "\n",
    "ONE_C(0.1, 5, 0.9)\n",
    "ONE_C(0.3,15,0.9)"
   ]
  },
  {
   "cell_type": "markdown",
   "metadata": {},
   "source": [
    "### Question 2 - Rent distributions in Randomistan"
   ]
  },
  {
   "cell_type": "markdown",
   "metadata": {},
   "source": [
    "The state of Randomistan conducted a survey to study the distribution of rent paid in two neighboring towns, Stochastic Heights and Random Grove, to be denoted SH and RG.<br> \n",
    "\n",
    "Here are some findings of the survey:\n",
    "* The population of SH and RG is 16,000 and 22,000 respectively. <br>\n",
    "* The mean rent in SH and RG is 6300RCU and 4200RCU respectively.\n",
    "* The median rent is 4600RCU in both towns.\n",
    "* The IQR of the rent is smaller in SH than in RG.\n",
    "\n",
    "All data generated in this question needs to be consistent with these findings."
   ]
  },
  {
   "cell_type": "markdown",
   "metadata": {},
   "source": [
    "#### 2.A\n",
    "Draw histograms that describe 2 different scenarii of possible distributions of rent in the two towns.\u000b",
    "Your histograms should:<br>\n",
    "* Use bins of 100RCU each.\n",
    "* Have at least 10 non zero bins."
   ]
  },
  {
   "cell_type": "code",
   "execution_count": 17,
   "metadata": {},
   "outputs": [
    {
     "name": "stdout",
     "output_type": "stream",
     "text": [
      "rg mean: 4200.0\n",
      "sh mean: 6300.0\n",
      "rg iqr: 7000.0\n",
      "sh iqr: 6000.0\n",
      "variance sh: 12202000.0\n"
     ]
    },
    {
     "data": {
      "image/png": "[encoded data removed]",
      "text/plain": [
       "<Figure size 432x288 with 1 Axes>"
      ]
     },
     "metadata": {
      "needs_background": "light"
     },
     "output_type": "display_data"
    }
   ],
   "source": [
    "from matplotlib import pyplot\n",
    "from mpl_toolkits.mplot3d import Axes3D\n",
    "import random\n",
    "import matplotlib.pyplot as plt\n",
    "from scipy.stats import iqr\n",
    "\n",
    "# SH_MEAN = 6300\n",
    "sh_base=  [1000, 2500, 3500, 4000, 4600, 7400, 8000, 9500, 11000, 11500]\n",
    "sh_full = np.repeat(sh_base, 1600)\n",
    "plt.hist(sh_full, bins = np.linspace(1000, 12000, num=120 )) \n",
    "plt.title('question 1.A histgoram of SH and RG rent distribution')\n",
    "plt.xlabel('rent')\n",
    "plt.ylabel('population')\n",
    "rg_base = np.linspace(1000, 10000, num=10 )\n",
    "rg_base[5] = 3100\n",
    "rg_base[4] = 2100\n",
    "rg_base[3] = 1100\n",
    "rg_base[2] = 1100\n",
    "rg_base[2] = 690\n",
    "rg_base[1] = 10\n",
    "rg_full = np.repeat(rg_base, 2200)\n",
    "plt.hist(rg_full, bins = np.linspace(0, 10000, num=100)) \n",
    "print('rg mean: ' + str(np.mean(rg_base)))\n",
    "print('sh mean: ' + str(np.mean(sh_full)))\n",
    "print('rg iqr: ' + str(iqr(rg_full)))\n",
    "print('sh iqr: ' + str(iqr(sh_full)))\n",
    "print('variance sh: ' + str(np.var(sh_full)))"
   ]
  },
  {
   "cell_type": "markdown",
   "metadata": {},
   "source": [
    "#### 2.B\n",
    "Draw a histogram of a third scenario with the same properties. <br>\n",
    "In addition, in this scenario the rent in SH should have a higher variance than the rent in RG."
   ]
  },
  {
   "cell_type": "code",
   "execution_count": 19,
   "metadata": {},
   "outputs": [
    {
     "name": "stdout",
     "output_type": "stream",
     "text": [
      "variance sh new: 18144500.0\n",
      "variance rg: 13430620.0\n",
      "sh new mean: 6300.0\n",
      "sh new iqr: 6000.0\n"
     ]
    },
    {
     "data": {
      "image/png": "[encoded data removed]",
      "text/plain": [
       "<Figure size 432x288 with 1 Axes>"
      ]
     },
     "metadata": {
      "needs_background": "light"
     },
     "output_type": "display_data"
    }
   ],
   "source": [
    "sh_base_big_var=  [1000, 1500, 2000, 4000, 4600, 7400, 8000, 9500, 11000, 14500]\n",
    "sh_full_big_var = np.repeat(sh_base, 1600)\n",
    "plt.hist(sh_full_big_var, bins = np.linspace(0, 15000, num=150)) \n",
    "plt.title('question 1.B histgoram of SH with higher variance than RG')\n",
    "plt.xlabel('rent')\n",
    "plt.ylabel('population')\n",
    "print('variance sh new: ' + str(np.var(sh_base_big_var)))\n",
    "print('variance rg: ' + str(np.var(rg_full)))\n",
    "print('sh new mean: ' + str(np.mean(sh_full_big_var)))\n",
    "print('sh new iqr: ' + str(iqr(sh_full_big_var)))"
   ]
  },
  {
   "cell_type": "markdown",
   "metadata": {},
   "source": [
    "The survey also examined the per household income (PHI) in these two places.<br>\n",
    "\n",
    "It found that:<br>\n",
    "* The mean of PHI in SH is 12500 and in RG is 8500.\n",
    "* The median is 12000 in SH and 8000 in RG.\n",
    "* The covariance of the rent and the PHI was observed to be as in the formula below with $\\alpha=97\\%$ and $\\alpha=89\\%$ in SH and in RG respectively.<br><br>\n",
    "$$Cov(rent, PHI) = \\alpha * \\sqrt{Var(rent)} * \\sqrt{Var(PHI)}$$\n",
    "\n",
    "#### 2.C\n",
    "Produce rent and PHI data for the two cities, that is consistent with these findings. The covariances in your data can deviate by up to 1% from the numbers given $\\alpha$."
   ]
  },
  {
   "cell_type": "code",
   "execution_count": 41,
   "metadata": {},
   "outputs": [
    {
     "name": "stdout",
     "output_type": "stream",
     "text": [
      "[12000, 13000]\n",
      "mean phi: 12500.0\n",
      "var phi: 250000.0\n",
      "my cov: 1640102.5064066504\n",
      "their cov: 1642174.4768750975\n",
      "0.001263317664812683\n"
     ]
    }
   ],
   "source": [
    "import math\n",
    "\n",
    "sh_new_base=  [2500, 2500, 3500, 4000, 4600, 7400, 8000, 11000, 11000, 11000]\n",
    "sh_new_full = np.repeat(sh_new_base, 1600)\n",
    "\n",
    "sh_phi_base = [12000, 13000]\n",
    "print(sh_phi_base)\n",
    "sh_phi_full = np.repeat(sh_phi_base, 8000)\n",
    "print('mean phi: '+ str(np.mean(sh_phi_full)))\n",
    "print('var phi: '+ str(np.var(sh_phi_full)))\n",
    "sh_alpha = 0.97\n",
    "real_cov = np.cov(sh_phi_full, sh_full)[0][1]\n",
    "their_cov = sh_alpha * math.sqrt(np.var(sh_phi_full)) * math.sqrt(np.var(sh_new_full))\n",
    "print('my cov: ' +  str(real_cov))\n",
    "print('their cov: ' + str(their_cov))\n",
    "diff = real_cov - their_cov\n",
    "print(abs(diff / real_cov))"
   ]
  },
  {
   "cell_type": "code",
   "execution_count": 45,
   "metadata": {},
   "outputs": [
    {
     "name": "stdout",
     "output_type": "stream",
     "text": [
      "[8000, 9000]\n",
      "mean rg phi: 8500.0\n",
      "var rg phi: 250000.0\n",
      "my cov: 1610073.1851447793\n",
      "their cov: 1630827.558480663\n",
      "0.012890329164768661\n"
     ]
    }
   ],
   "source": [
    "rg_phi_base = [8000, 9000]\n",
    "print(rg_phi_base)\n",
    "rg_phi_full = np.repeat(rg_phi_base, 11000)\n",
    "print('mean rg phi: '+ str(np.mean(rg_phi_base)))\n",
    "print('var rg phi: '+ str(np.var(rg_phi_full)))\n",
    "rg_alpha = 0.89\n",
    "\n",
    "rg_real_cov = np.cov(rg_phi_full, rg_full)[0][1]\n",
    "rg_their_cov = rg_alpha * math.sqrt(np.var(rg_phi_full)) * math.sqrt(np.var(rg_full))\n",
    "\n",
    "print('my cov: ' +  str(rg_real_cov))\n",
    "print('their cov: ' + str(rg_their_cov))\n",
    "diff = rg_real_cov - rg_their_cov\n",
    "print(abs(diff / rg_real_cov))"
   ]
  },
  {
   "cell_type": "markdown",
   "metadata": {},
   "source": [
    "#### 2.D\n",
    "Produce two heatmaps that describe these two bivariate joint distributions. Make sure you carefully consider the selected binning resolution."
   ]
  },
  {
   "cell_type": "code",
   "execution_count": null,
   "metadata": {},
   "outputs": [],
   "source": []
  },
  {
   "cell_type": "markdown",
   "metadata": {},
   "source": [
    "### Question 3 - Covariance and independence"
   ]
  },
  {
   "cell_type": "markdown",
   "metadata": {},
   "source": [
    "What is the variance of the sum X +Y + Z of three random variables in terms of the variances of X, Y and Z and the covariances between each pair of random variables? What happens if X,Y,Z are pairwise independent? If X,Y,Z are pairwise independent, are they necessarily collectively independent? Prove your answer."
   ]
  },
  {
   "cell_type": "markdown",
   "metadata": {},
   "source": []
  },
  {
   "cell_type": "markdown",
   "metadata": {},
   "source": [
    "### Question 4 - Convolutions"
   ]
  },
  {
   "cell_type": "markdown",
   "metadata": {},
   "source": [
    "#### 4.A\n",
    "Write a program, `Q = NFoldConv(P , n)`, that takes as input:\n",
    "* A distribution, P, of a random variable that takes finitely many integer values\n",
    "* An integer n\n",
    "\n",
    "and produces the distribution, Q, of the sum of n independent repeats of random variables, each of which has the distribution P."
   ]
  },
  {
   "cell_type": "code",
   "execution_count": 2,
   "metadata": {},
   "outputs": [
    {
     "data": {
      "text/plain": [
       "[(3.0,\n",
       "  4.0,\n",
       "  5.0,\n",
       "  6.0,\n",
       "  7.0,\n",
       "  8.0,\n",
       "  9.0,\n",
       "  10.0,\n",
       "  11.0,\n",
       "  12.0,\n",
       "  13.0,\n",
       "  14.0,\n",
       "  15.0,\n",
       "  16.0,\n",
       "  17.0,\n",
       "  18.0),\n",
       " (0.004629629629629629,\n",
       "  0.013888888888888888,\n",
       "  0.027777777777777776,\n",
       "  0.046296296296296294,\n",
       "  0.06944444444444445,\n",
       "  0.09722222222222218,\n",
       "  0.11574074074074067,\n",
       "  0.12499999999999992,\n",
       "  0.12499999999999992,\n",
       "  0.11574074074074067,\n",
       "  0.09722222222222218,\n",
       "  0.06944444444444445,\n",
       "  0.046296296296296294,\n",
       "  0.027777777777777776,\n",
       "  0.013888888888888888,\n",
       "  0.004629629629629629)]"
      ]
     },
     "execution_count": 2,
     "metadata": {},
     "output_type": "execute_result"
    }
   ],
   "source": [
    "from itertools import product\n",
    "P = np.array([[1, 2, 3, 4, 5, 6],[1/6, 1/6, 1/6, 1/6, 1/6, 1/6]]  )\n",
    "# print(P)\n",
    "def NFoldConv_bad(P, n):\n",
    "    probs = dict(zip(P[0], P[1]))\n",
    "    current_P = P\n",
    "    current_probs = probs\n",
    "    print('after all sum')\n",
    "    new_sums = []\n",
    "    new_probs = []\n",
    "    for l in all_sums:\n",
    "        new_probs_dedup = {}                    \n",
    "        sum_prob = probs[l[0]]\n",
    "        current_sum = sum(l)\n",
    "        for v in l[1:]:\n",
    "            sum_prob*=probs[v]\n",
    "        if current_sum in new_probs_dedup:\n",
    "            new_probs_dedup[current_sum] += sum_prob\n",
    "        else:\n",
    "            new_probs_dedup[current_sum] = sum_prob   \n",
    "    vals, probs = zip(*new_probs_dedup.items())         \n",
    "    return [vals, probs]                      \n",
    "                        \n",
    "       \n",
    "NFoldConv(P, 3)\n",
    "    "
   ]
  },
  {
   "cell_type": "code",
   "execution_count": 10,
   "metadata": {},
   "outputs": [
    {
     "name": "stdout",
     "output_type": "stream",
     "text": [
      "[(1.0, 0.16666666666666666), (2.0, 0.16666666666666666), (3.0, 0.16666666666666666), (4.0, 0.16666666666666666), (5.0, 0.16666666666666666), (6.0, 0.16666666666666666)]\n"
     ]
    }
   ],
   "source": [
    "from itertools import product\n",
    "from scipy import stats\n",
    "import pandas as pd\n",
    "import numpy as np\n",
    "import matplotlib.pyplot as plt\n",
    "from scipy.stats import binom, nbinom\n",
    "\n",
    "P = np.array([[1, 2, 3, 4, 5, 6],[1/6, 1/6, 1/6, 1/6, 1/6, 1/6]]  )\n",
    "\n",
    "def NFoldConv(P, n):\n",
    "    probs = dict(zip(P[0], P[1]))\n",
    "    current_probs = probs\n",
    "                    \n",
    "    while n > 1:\n",
    "        all_sums = list(product(current_probs.keys(), P[0]))\n",
    "        new_probs = {}\n",
    "        for s in all_sums:\n",
    "            new_k = s[0] + s[1]\n",
    "            if new_k in new_probs:\n",
    "                    new_probs[new_k] += current_probs[s[0]] * probs[s[1]]\n",
    "            else:\n",
    "                new_probs[new_k] = current_probs[s[0]] * probs[s[1]]\n",
    "        current_probs = new_probs\n",
    "        n-=1\n",
    "    return current_probs\n",
    "res = NFoldConv(P, 2)  \n",
    "print(list(zip(P[0], P[1])))"
   ]
  },
  {
   "cell_type": "markdown",
   "metadata": {},
   "source": [
    "#### 4.B\n",
    "Compute the distribution of the sum of the results of rolling a fair octahedron 17 times.\n",
    "\n",
    "<img src=\"https://upload.wikimedia.org/wikipedia/commons/2/27/Octahedron.jpg\" width=\"200\">\n",
    "\n"
   ]
  },
  {
   "cell_type": "code",
   "execution_count": 38,
   "metadata": {},
   "outputs": [
    {
     "data": {
      "text/plain": [
       "{17: 4.440892098500626e-16,\n",
       " 18: 7.549516567451064e-15,\n",
       " 19: 6.794564910705958e-14,\n",
       " 20: 4.303224443447107e-13,\n",
       " 21: 2.1516122217235534e-12,\n",
       " 22: 9.036771331238924e-12,\n",
       " 23: 3.313482821454272e-11,\n",
       " 24: 1.088715784192118e-10,\n",
       " 25: 3.2660718574106795e-10,\n",
       " 26: 9.07134811711785e-10,\n",
       " 27: 2.3577291230481023e-09,\n",
       " 28: 5.782673007104222e-09,\n",
       " 29: 1.3473395732432891e-08,\n",
       " 30: 2.998400727705075e-08,\n",
       " 31: 6.401734875538523e-08,\n",
       " 32: 1.3161584089260714e-07,\n",
       " 33: 2.613809253482202e-07,\n",
       " 34: 5.027422242953605e-07,\n",
       " 35: 9.38663699212583e-07,\n",
       " 36: 1.7045993589981379e-06,\n",
       " 37: 3.015970226893927e-06,\n",
       " 38: 5.206881849684208e-06,\n",
       " 39: 8.783168114145923e-06,\n",
       " 40: 1.449303744882613e-05,\n",
       " 41: 2.3418493098503745e-05,\n",
       " 42: 3.7090165106334894e-05,\n",
       " 43: 5.762708941681183e-05,\n",
       " 44: 8.790117605705916e-05,\n",
       " 45: 0.00013172354057466862,\n",
       " 46: 0.0001940465160554794,\n",
       " 47: 0.000281171099826949,\n",
       " 48: 0.00040094502474907756,\n",
       " 49: 0.0005629319236253316,\n",
       " 50: 0.0007785276598544222,\n",
       " 51: 0.0010609964316725673,\n",
       " 52: 0.0014253974040241424,\n",
       " 53: 0.0018883730784566843,\n",
       " 54: 0.002467774003582779,\n",
       " 55: 0.0031821012120212266,\n",
       " 56: 0.004049758126849046,\n",
       " 57: 0.005088117430610772,\n",
       " 58: 0.006312424925249083,\n",
       " 59: 0.007734580675745839,\n",
       " 60: 0.009361856250110101,\n",
       " 61: 0.011195623843158309,\n",
       " 62: 0.013230186524219256,\n",
       " 63: 0.015451806826463077,\n",
       " 64: 0.017838031700777357,\n",
       " 65: 0.02035740428456334,\n",
       " 66: 0.022969636481963374,\n",
       " 67: 0.025626291369178045,\n",
       " 68: 0.028271992206021945,\n",
       " 69: 0.030846137527832607,\n",
       " 70: 0.033285062338742843,\n",
       " 71: 0.03552454726152865,\n",
       " 72: 0.03750254422783916,\n",
       " 73: 0.03916196231819313,\n",
       " 74: 0.0404533435000225,\n",
       " 75: 0.041337257154996365,\n",
       " 76: 0.04178625514552792,\n",
       " 77: 0.04178625514552792,\n",
       " 78: 0.041337257154996365,\n",
       " 79: 0.0404533435000225,\n",
       " 80: 0.03916196231819313,\n",
       " 81: 0.03750254422783916,\n",
       " 82: 0.03552454726152865,\n",
       " 83: 0.033285062338742843,\n",
       " 84: 0.030846137527832607,\n",
       " 85: 0.028271992206021945,\n",
       " 86: 0.025626291369178045,\n",
       " 87: 0.022969636481963374,\n",
       " 88: 0.02035740428456334,\n",
       " 89: 0.017838031700777357,\n",
       " 90: 0.015451806826463077,\n",
       " 91: 0.013230186524219256,\n",
       " 92: 0.011195623843158309,\n",
       " 93: 0.009361856250110101,\n",
       " 94: 0.007734580675745839,\n",
       " 95: 0.006312424925249083,\n",
       " 96: 0.005088117430610772,\n",
       " 97: 0.004049758126849046,\n",
       " 98: 0.0031821012120212266,\n",
       " 99: 0.002467774003582779,\n",
       " 100: 0.0018883730784566843,\n",
       " 101: 0.0014253974040241424,\n",
       " 102: 0.0010609964316725673,\n",
       " 103: 0.0007785276598544222,\n",
       " 104: 0.0005629319236253316,\n",
       " 105: 0.00040094502474907756,\n",
       " 106: 0.000281171099826949,\n",
       " 107: 0.0001940465160554794,\n",
       " 108: 0.00013172354057466862,\n",
       " 109: 8.790117605705916e-05,\n",
       " 110: 5.762708941681183e-05,\n",
       " 111: 3.7090165106334894e-05,\n",
       " 112: 2.3418493098503745e-05,\n",
       " 113: 1.449303744882613e-05,\n",
       " 114: 8.783168114145923e-06,\n",
       " 115: 5.206881849684208e-06,\n",
       " 116: 3.015970226893927e-06,\n",
       " 117: 1.7045993589981379e-06,\n",
       " 118: 9.38663699212583e-07,\n",
       " 119: 5.027422242953605e-07,\n",
       " 120: 2.613809253482202e-07,\n",
       " 121: 1.3161584089260714e-07,\n",
       " 122: 6.401734875538523e-08,\n",
       " 123: 2.998400727705075e-08,\n",
       " 124: 1.3473395732432891e-08,\n",
       " 125: 5.782673007104222e-09,\n",
       " 126: 2.3577291230481023e-09,\n",
       " 127: 9.07134811711785e-10,\n",
       " 128: 3.2660718574106795e-10,\n",
       " 129: 1.088715784192118e-10,\n",
       " 130: 3.313482821454272e-11,\n",
       " 131: 9.036771331238924e-12,\n",
       " 132: 2.1516122217235534e-12,\n",
       " 133: 4.303224443447107e-13,\n",
       " 134: 6.794564910705958e-14,\n",
       " 135: 7.549516567451064e-15,\n",
       " 136: 4.440892098500626e-16}"
      ]
     },
     "execution_count": 38,
     "metadata": {},
     "output_type": "execute_result"
    }
   ],
   "source": [
    "P = [np.arange(9)[1:], np.full((8), 1/8)]\n",
    "P\n",
    "aa = NFoldConv(P, 17)\n",
    "aa"
   ]
  },
  {
   "cell_type": "markdown",
   "metadata": {},
   "source": [
    "#### 4.C\n",
    "Assume that the price of a stock changes in any given day according to (in NIS):\n",
    "\n",
    "$$P=\\begin{pmatrix}\n",
    "-1 & 0 & 1 & 2 & 3 \\\\\n",
    "0.3 & 0.15 & 0.15 & 0.15 & 0.25\n",
    "\\end{pmatrix}$$\n",
    "\n",
    "1. What is the distribution of the change in stock after 2 consecutive days of (independent) changes? After 5 consecutive days? "
   ]
  },
  {
   "cell_type": "code",
   "execution_count": 41,
   "metadata": {},
   "outputs": [
    {
     "data": {
      "text/plain": [
       "{-5: 0.00243,\n",
       " -4: 0.006075,\n",
       " -3: 0.012149999999999998,\n",
       " -2: 0.021262499999999997,\n",
       " -1: 0.038221874999999995,\n",
       " 0: 0.053738437499999986,\n",
       " 1: 0.07074843749999998,\n",
       " 2: 0.08720156249999998,\n",
       " 3: 0.10407656249999997,\n",
       " 4: 0.10719843749999998,\n",
       " 5: 0.10638843749999999,\n",
       " 6: 0.09968906249999998,\n",
       " 7: 0.08860781249999998,\n",
       " 8: 0.0683578125,\n",
       " 9: 0.0517078125,\n",
       " 10: 0.0363571875,\n",
       " 11: 0.0233671875,\n",
       " 12: 0.0120703125,\n",
       " 13: 0.0064453125,\n",
       " 14: 0.0029296875,\n",
       " 15: 0.0009765625}"
      ]
     },
     "execution_count": 41,
     "metadata": {},
     "output_type": "execute_result"
    }
   ],
   "source": [
    "P = [[-1,0, 1, 2, 3], [0.3, 0.15, 0.15, 0.15, 0.25]]\n",
    "two_days = NFoldConv(P, 2)\n",
    "two_days\n",
    "five_days = NFoldConv(P, 5)\n",
    "five_days"
   ]
  },
  {
   "cell_type": "code",
   "execution_count": null,
   "metadata": {},
   "outputs": [],
   "source": []
  },
  {
   "cell_type": "markdown",
   "metadata": {},
   "source": [
    "2. What is the probability that the stock has gained strictly more than 7NIS after 5 days? Has lost strictly more than 4NIS? Explain your answers.\n",
    "\n",
    "In order to calculate the probability of sctrictly more than 7NIS after 5 days all we should do is look at the pmf of 1 - P(7), which is 1 minus the probabilty of gaining less than 7. \n",
    "Using the response from NFoldConv, we will just sum up the probbilities  for all values that are abovec 7\n",
    "\n",
    "For stritly  lost more than 4NIS will just need the pmf(4)"
   ]
  },
  {
   "cell_type": "code",
   "execution_count": 80,
   "metadata": {},
   "outputs": [
    {
     "name": "stdout",
     "output_type": "stream",
     "text": [
      "prob for over 7: 0.202211875\n",
      "prob for less than 4: 0.00243\n"
     ]
    }
   ],
   "source": [
    "# keys = list(five_days.keys())\n",
    "# valid_keys = np.array(keys) > 7\n",
    "# print(valid_keys)\n",
    "# valid_keys\n",
    "# [five_days.get(key) for key in valid_keys]\n",
    "\n",
    "arr = np.array(list(five_days.keys()))\n",
    "\n",
    "filter_arr = arr > 7\n",
    "\n",
    "bigger_than_7 = arr[filter_arr]\n",
    "\n",
    "print('prob for over 7: ' + str(sum([five_days.get(key) for key in bigger_than_7])))\n",
    "\n",
    "\n",
    "filter_arr = arr < -4\n",
    "\n",
    "lower_than_4 = arr[filter_arr]\n",
    "\n",
    "print('prob for less than 4: ' + str(sum([five_days.get(key) for key in lower_than_4])))\n",
    "\n"
   ]
  },
  {
   "cell_type": "code",
   "execution_count": null,
   "metadata": {},
   "outputs": [],
   "source": []
  }
 ],
 "metadata": {
  "kernelspec": {
   "display_name": "Python 3",
   "language": "python",
   "name": "python3"
  },
  "language_info": {
   "codemirror_mode": {
    "name": "ipython",
    "version": 3
   },
   "file_extension": ".py",
   "mimetype": "text/x-python",
   "name": "python",
   "nbconvert_exporter": "python",
   "pygments_lexer": "ipython3",
   "version": "3.6.4"
  }
 },
 "nbformat": 4,
 "nbformat_minor": 2
}
