{
 "cells": [
  {
   "cell_type": "markdown",
   "metadata": {
    "id": "jt0kJ_5RnP32"
   },
   "source": [
    "## **Neural Collaborative Filtering**"
   ]
  },
  {
   "cell_type": "markdown",
   "metadata": {
    "id": "_ZoZmUkaPtSp"
   },
   "source": [
    "# Homework 3\n",
    "\n",
    "I copied the notebook that Asi gave us and added the answers at the end of this file, right after the title: my homework"
   ]
  },
  {
   "cell_type": "markdown",
   "metadata": {
    "id": "52uRXFQtxGOH"
   },
   "source": [
    "===================================================================================="
   ]
  },
  {
   "cell_type": "markdown",
   "metadata": {
    "id": "GE5xAcHYmmmx"
   },
   "source": [
    "This notebook is based on the implementation by the author of the \"Neural Collaborative Filtering\" paper. [Link](https://github.com/hexiangnan/neural_collaborative_filtering\n",
    ") "
   ]
  },
  {
   "cell_type": "markdown",
   "metadata": {
    "id": "mm-4UC9-nGM4"
   },
   "source": [
    "Neural Collaborative Filtering\n",
    "This is our implementation for the paper:\n",
    "\n",
    "Xiangnan He, Lizi Liao, Hanwang Zhang, Liqiang Nie, Xia Hu and Tat-Seng Chua (2017). Neural Collaborative Filtering. In Proceedings of WWW '17, Perth, Australia, April 03-07, 2017.\n",
    "\n",
    "Three collaborative filtering models: Generalized Matrix Factorization (GMF), Multi-Layer Perceptron (MLP), and Neural Matrix Factorization (NeuMF). To target the models for implicit feedback and ranking task, we optimize them using log loss with negative sampling.\n",
    "\n",
    "Please cite our WWW'17 paper if you use our codes. Thanks!\n",
    "\n",
    "Author: Dr. Xiangnan He (http://www.comp.nus.edu.sg/~xiangnan/)[link text](https://)"
   ]
  },
  {
   "cell_type": "code",
   "execution_count": 10,
   "metadata": {
    "colab": {
     "base_uri": "https://localhost:8080/"
    },
    "id": "mhGjUeLBxnNV",
    "outputId": "d2b84205-eb6b-4ae2-9bb4-8ad1f0dd9a08"
   },
   "outputs": [
    {
     "name": "stdout",
     "output_type": "stream",
     "text": [
      "Mounted at /content/gdrive\n"
     ]
    }
   ],
   "source": [
    "from google.colab import drive\n",
    "drive.mount('/content/gdrive', force_remount=True)\n"
   ]
  },
  {
   "cell_type": "code",
   "execution_count": 11,
   "metadata": {
    "colab": {
     "base_uri": "https://localhost:8080/"
    },
    "id": "Ec4wciDyyGMp",
    "outputId": "079fee3c-7ba4-4111-e474-44ce9071c9f8"
   },
   "outputs": [
    {
     "name": "stdout",
     "output_type": "stream",
     "text": [
      "ml-1m.test.negative  ml-1m.test.rating\tml-1m.train.rating\n"
     ]
    }
   ],
   "source": [
    "!ls '/content/gdrive/MyDrive/idc_rs'"
   ]
  },
  {
   "cell_type": "code",
   "execution_count": 2,
   "metadata": {
    "id": "0ZADvPXH5wfD"
   },
   "outputs": [
    {
     "ename": "ModuleNotFoundError",
     "evalue": "No module named 'keras'",
     "output_type": "error",
     "traceback": [
      "\u001b[0;31m---------------------------------------------------------------------------\u001b[0m",
      "\u001b[0;31mModuleNotFoundError\u001b[0m                       Traceback (most recent call last)",
      "\u001b[0;32m<ipython-input-2-ef705eb133db>\u001b[0m in \u001b[0;36m<module>\u001b[0;34m()\u001b[0m\n\u001b[1;32m     13\u001b[0m \u001b[0;32mimport\u001b[0m \u001b[0mtensorflow\u001b[0m \u001b[0;32mas\u001b[0m \u001b[0mT\u001b[0m\u001b[0;34m\u001b[0m\u001b[0m\n\u001b[1;32m     14\u001b[0m \u001b[0;32mfrom\u001b[0m \u001b[0mtensorflow\u001b[0m \u001b[0;32mimport\u001b[0m \u001b[0mkeras\u001b[0m\u001b[0;34m\u001b[0m\u001b[0m\n\u001b[0;32m---> 15\u001b[0;31m \u001b[0;32mfrom\u001b[0m \u001b[0mkeras\u001b[0m \u001b[0;32mimport\u001b[0m \u001b[0mbackend\u001b[0m \u001b[0;32mas\u001b[0m \u001b[0mK\u001b[0m\u001b[0;34m\u001b[0m\u001b[0m\n\u001b[0m\u001b[1;32m     16\u001b[0m \u001b[0;32mfrom\u001b[0m \u001b[0mkeras\u001b[0m \u001b[0;32mimport\u001b[0m \u001b[0minitializers\u001b[0m\u001b[0;34m\u001b[0m\u001b[0m\n\u001b[1;32m     17\u001b[0m \u001b[0;32mfrom\u001b[0m \u001b[0mkeras\u001b[0m\u001b[0;34m.\u001b[0m\u001b[0minitializers\u001b[0m \u001b[0;32mimport\u001b[0m \u001b[0mRandomNormal\u001b[0m\u001b[0;34m\u001b[0m\u001b[0m\n",
      "\u001b[0;31mModuleNotFoundError\u001b[0m: No module named 'keras'"
     ]
    }
   ],
   "source": [
    "'''\n",
    "Created on Aug 9, 2016\n",
    "Updated on May 20, 2018\n",
    "\n",
    "Keras Implementation of Generalized Matrix Factorization (GMF) recommender model in:\n",
    "He Xiangnan et al. Neural Collaborative Filtering. In WWW 2017.  \n",
    "\n",
    "@original author: Xiangnan He (xiangnanhe@gmail.com)\n",
    "@Updated and placed on notebooks: Guy Shtar (shtar@post.bgu.ac.il)\n",
    "'''\n",
    "\n",
    "import numpy as np\n",
    "import tensorflow as T\n",
    "from tensorflow import keras\n",
    "from keras import backend as K\n",
    "from keras import initializers\n",
    "from keras.initializers import RandomNormal\n",
    "from keras.models import Sequential, Model, load_model, save_model\n",
    "from keras.layers.core import Dense, Lambda, Activation\n",
    "from keras.layers import Embedding, Input, Dense, Reshape,  Flatten, Dropout\n",
    "from keras.optimizers import Adagrad, Adam, SGD, RMSprop\n",
    "from keras.regularizers import l2\n",
    "from keras.layers import Multiply, Concatenate\n",
    "from time import time\n",
    "import multiprocessing as mp\n",
    "import sys\n",
    "import math\n",
    "import argparse\n",
    "import pandas as pd \n",
    "import matplotlib.pyplot as plt "
   ]
  },
  {
   "cell_type": "markdown",
   "metadata": {
    "id": "TlsbSNGcnmmH"
   },
   "source": [
    "Dataset handling"
   ]
  },
  {
   "cell_type": "code",
   "execution_count": 13,
   "metadata": {
    "id": "kjkvmzZn8B-h"
   },
   "outputs": [],
   "source": [
    "import scipy.sparse as sp\n",
    "import numpy as np\n",
    "\n",
    "class Dataset(object):\n",
    "    '''\n",
    "    classdocs\n",
    "    '''\n",
    "\n",
    "    def __init__(self, path):\n",
    "        '''\n",
    "        Constructor\n",
    "        '''\n",
    "        self.trainMatrix = self.load_rating_file_as_matrix(path + \".train.rating\")\n",
    "        self.testRatings = self.load_rating_file_as_list(path + \".test.rating\")\n",
    "        self.testNegatives = self.load_negative_file(path + \".test.negative\")\n",
    "        assert len(self.testRatings) == len(self.testNegatives)\n",
    "        \n",
    "        self.num_users, self.num_items = self.trainMatrix.shape\n",
    "        \n",
    "    def load_rating_file_as_list(self, filename):\n",
    "        ratingList = []\n",
    "        with open(filename, \"r\") as f:\n",
    "            line = f.readline()\n",
    "            while line != None and line != \"\":\n",
    "                arr = line.split(\"\\t\")\n",
    "                user, item = int(arr[0]), int(arr[1])\n",
    "                ratingList.append([user, item])\n",
    "                line = f.readline()\n",
    "        return ratingList\n",
    "    \n",
    "    def load_negative_file(self, filename):\n",
    "        negativeList = []\n",
    "        with open(filename, \"r\") as f:\n",
    "            line = f.readline()\n",
    "            while line != None and line != \"\":\n",
    "                arr = line.split(\"\\t\")\n",
    "                negatives = []\n",
    "                for x in arr[1: ]:\n",
    "                    negatives.append(int(x))\n",
    "                negativeList.append(negatives)\n",
    "                line = f.readline()\n",
    "        return negativeList\n",
    "    \n",
    "    def load_rating_file_as_matrix(self, filename):\n",
    "        '''\n",
    "        Read .rating file and Return dok matrix.\n",
    "        The first line of .rating file is: num_users\\t num_items\n",
    "        '''\n",
    "        # Get number of users and items\n",
    "        num_users, num_items = 0, 0\n",
    "        with open(filename, \"r\") as f:\n",
    "            line = f.readline()\n",
    "            while line != None and line != \"\":\n",
    "                arr = line.split(\"\\t\")\n",
    "                u, i = int(arr[0]), int(arr[1])\n",
    "                num_users = max(num_users, u)\n",
    "                num_items = max(num_items, i)\n",
    "                line = f.readline()\n",
    "        # Construct matrix\n",
    "        mat = sp.dok_matrix((num_users+1, num_items+1), dtype=np.float32)\n",
    "        with open(filename, \"r\") as f:\n",
    "            line = f.readline()\n",
    "            while line != None and line != \"\":\n",
    "                arr = line.split(\"\\t\")\n",
    "                user, item, rating = int(arr[0]), int(arr[1]), float(arr[2])\n",
    "                if (rating > 0):\n",
    "                    mat[user, item] = 1.0\n",
    "                line = f.readline()    \n",
    "        return mat"
   ]
  },
  {
   "cell_type": "markdown",
   "metadata": {
    "id": "phL8meRGnql2"
   },
   "source": [
    "Model Evaluation"
   ]
  },
  {
   "cell_type": "code",
   "execution_count": 14,
   "metadata": {
    "id": "LAzRQpw58VFv"
   },
   "outputs": [],
   "source": [
    "import math\n",
    "import heapq # for retrieval topK\n",
    "import multiprocessing\n",
    "import numpy as np\n",
    "from time import time\n",
    "#from numba import jit, autojit\n",
    "\n",
    "# Global variables that are shared across processes\n",
    "_model = None\n",
    "_testRatings = None\n",
    "_testNegatives = None\n",
    "_K = None\n",
    "\n",
    "def evaluate_model(model, testRatings, testNegatives, K, num_thread):\n",
    "    \"\"\"\n",
    "    Evaluate the performance (Hit_Ratio, NDCG) of top-K recommendation\n",
    "    Return: score of each test rating.\n",
    "    \"\"\"\n",
    "    global _model\n",
    "    global _testRatings\n",
    "    global _testNegatives\n",
    "    global _K\n",
    "    _model = model\n",
    "    _testRatings = testRatings\n",
    "    _testNegatives = testNegatives\n",
    "    _K = K\n",
    "        \n",
    "    hits, ndcgs, mrrs_5, mrrs_10 = [],[],[],[] \n",
    "    for idx in range(len(_testRatings)):\n",
    "        (hr,ndcg, mrr_5, mrr_10) = eval_one_rating(idx)\n",
    "        hits.append(hr)\n",
    "        ndcgs.append(ndcg) \n",
    "        mrrs_5.append(mrr_5)\n",
    "        mrrs_10.append(mrr_10)     \n",
    "    return (hits, ndcgs, mrrs_5, mrrs_10)\n",
    "\n",
    "def eval_one_rating(idx):\n",
    "    rating = _testRatings[idx]\n",
    "    items = _testNegatives[idx]\n",
    "    u = rating[0]\n",
    "    gtItem = rating[1]\n",
    "    items.append(gtItem)\n",
    "    # Get prediction scores\n",
    "    map_item_score = {}\n",
    "    users = np.full(len(items), u, dtype = 'int32')\n",
    "    predictions = _model.predict([users, np.array(items)], \n",
    "                                 batch_size=100, verbose=0)\n",
    "    for i in range(len(items)):\n",
    "        item = items[i]\n",
    "        map_item_score[item] = predictions[i]\n",
    "    items.pop()\n",
    "    \n",
    "    # Evaluate top rank list\n",
    "    ranklist = heapq.nlargest(_K, map_item_score, key=map_item_score.get)\n",
    "    hr = getHitRatio(ranklist, gtItem)\n",
    "    ndcg = getNDCG(ranklist, gtItem)\n",
    "    mrr_5 = getMRR(ranklist, gtItem, 5)\n",
    "    mrr_10 = getMRR(ranklist, gtItem, 10)\n",
    "    return (hr, ndcg, mrr_5, mrr_10)\n",
    "\n",
    "def getHitRatio(ranklist, gtItem):\n",
    "    for item in ranklist:\n",
    "        if item == gtItem:\n",
    "            return 1\n",
    "    return 0\n",
    "\n",
    "def getNDCG(ranklist, gtItem):\n",
    "    for i in range(len(ranklist)):\n",
    "        item = ranklist[i]\n",
    "        if item == gtItem:\n",
    "            return math.log(2) / math.log(i+2)\n",
    "    return 0\n",
    "\n",
    "def getMRR(ranklist, gtItem, mrr_len):\n",
    "    rank_len = min(mrr_len, len(ranklist))\n",
    "    for i in range(rank_len):\n",
    "        item = ranklist[i]\n",
    "        if item == gtItem:\n",
    "            return 1 / (i + 1)\n",
    "    return 0"
   ]
  },
  {
   "cell_type": "markdown",
   "metadata": {
    "id": "AV1al-v0zWt1"
   },
   "source": [
    "You can download the dataset from the author's github or from my drive:\n",
    "\n",
    "[ml-1m.test.negative](https://https://drive.google.com/file/d/1v3XEN7pjtsjzxx5fuioNbIzMOyom1nNn/view?usp=sharing)\n",
    "\n",
    "[ml-1m.test.rating](https://drive.google.com/file/d/1TldYS-vtNVAFPXvDTYuuhi3cky37yXK0/view?usp=sharing)\n",
    "\n",
    "[ml-1m.train.rating](https://https://drive.google.com/file/d/1rFxJ8rG9LVczeCmKC7AXo2Y6sFXo7maG/view?usp=sharing)"
   ]
  },
  {
   "cell_type": "code",
   "execution_count": 15,
   "metadata": {
    "colab": {
     "base_uri": "https://localhost:8080/"
    },
    "id": "cQgxQjHOiL-0",
    "outputId": "0cbcaf8e-8f98-4374-8d9f-8e24d6da9d59"
   },
   "outputs": [
    {
     "name": "stdout",
     "output_type": "stream",
     "text": [
      " 201639663_2018_06.pdf\n",
      " 201639663_2019_08.pdf\n",
      "'27-7 recommendations.gsheet'\n",
      "'agent cleanup.gdoc'\n",
      " agent_statistics_2018-10-06-14-36.gsheet\n",
      " agent_statistics_2018-10-06-14-39.gsheet\n",
      " agent_statistics_2018-10-10-06-50.gsheet\n",
      " agent_statistics_2018-10-10-06-54.gsheet\n",
      " agent_statistics_2018-10-10-06-56.gsheet\n",
      " agent-statistics.csv\n",
      " agent-statistics.gsheet\n",
      " ALL_PARCELS\n",
      "'alon copy robin buyers preferences editor.gsheet'\n",
      "'alon&gal'\n",
      " alons_permists.gsheet\n",
      " alteranteList3.gsheet\n",
      " alternate_13_07_2019.gsheet\n",
      " alternate4.gsheet\n",
      " alternate5.gsheet\n",
      " alternate_final_05_07_2018.gsheet\n",
      " alternate_final.gsheet\n",
      "'application server user prefernce deployment .gdoc'\n",
      "'Application team.gslides'\n",
      "'APP SLIDES.gslides'\n",
      "'Apps next steps .gdoc'\n",
      "'Backend Engineer - Madlan.gdoc'\n",
      " bad_source_area_ids.csv\n",
      " bad_source_area_ids.csv.gsheet\n",
      " bad_target_area_ids_final.csv\n",
      " bad_target_area_ids_final.csv.gsheet\n",
      " bayesian_mechanic_data.gsheet\n",
      "'BEBE learning'\n",
      " bulletin_images\n",
      " bulletins-fetcher-extension.zip\n",
      "'bulletins staticstics .gsheet'\n",
      "'Central listing schema.gdoc'\n",
      "'Colab Notebooks'\n",
      "'coodiante test.gdoc'\n",
      " coordinate_test_hen2.gsheet\n",
      " coordinate_test_hen2.xlsx\n",
      " coordinate_test_hen2.xlsx.gsheet\n",
      "'Copy of agent-statistics.gsheet'\n",
      "'Copy of B2B weekly - 8.6.20.gslides'\n",
      "'Copy of projects_priorities.gsheet'\n",
      "'Copy of Recommendation SMS Spec, 09 09 2020.gdoc'\n",
      "'Copy of Squads Kickoff.gslides'\n",
      " deal_2008-2018.zip\n",
      " deals_for_eran.gsheet\n",
      " deals_israel\n",
      " deals_to_text.gsheet\n",
      "'doc for 2020 exam  master CS.gdoc'\n",
      "'electives (1).csv'\n",
      "'electives (1).csv.gsheet'\n",
      " electives.csv\n",
      " electives.csv.gsheet\n",
      "'FE <-> BE new feed API.gdoc'\n",
      "'Franfurk servers to reserve.gsheet'\n",
      "'Getting started.pdf'\n",
      "'google bot errors.gsheet'\n",
      " highschool_electives.gsheet\n",
      " high_school_finals_subjects_results.csv\n",
      " high_school_finals_subjects_results.csv.gsheet\n",
      " highschool_grades.csv\n",
      " highschool_grades.gsheet\n",
      "'highschool_madad (1).csv'\n",
      "'highschool_madad_23Apr (1).csv'\n",
      "'highschool_madad_23Apr (1).csv.gsheet'\n",
      "'highschool_madad_23Apr (2).csv.gsheet'\n",
      "'highschool_madad_23Apr (3).csv.gsheet'\n",
      " highschool_madad_23Apr.csv\n",
      " highschool_madad_23Apr.csv.gsheet\n",
      " highschool_madad_25Apr.csv\n",
      " highschool_madad_25Apr.csv.gsheet\n",
      "'highschool_madad (2).csv'\n",
      " highschool_madad.csv\n",
      " highschool_madad.csv.gsheet\n",
      " highschool_madad.gsheet\n",
      " highschool_madad_madlan.csv.gsheet\n",
      "'Homely bulletins migration.gdoc'\n",
      "'icreate (1).docx.gdoc'\n",
      " icreate.docx\n",
      " icreate.docx.gdoc\n",
      " idc_rs\n",
      "'interface for latest.gsheet'\n",
      "'Jan-17-2018 13-13-52.mp4'\n",
      "'Kafka applications overview.gslides'\n",
      "'leads 3-12-2019.gsheet'\n",
      " links.gdoc\n",
      " listings2.gsheet\n",
      " listing.tsv.zip\n",
      " local_copy_of_schools_recommendations.gsheet\n",
      "'madlan crawl errors.gsheet'\n",
      "'madlan crawl errors.xlsx'\n",
      " madlan_free_lookup_new_10122020.gsheet\n",
      " madlan_free_lookup_new_10122020.xlsx\n",
      "\"Manager to Employee Feedback - Alon's team   - Avi.gdoc\"\n",
      "\"Manager to Employee Feedback - Alon's team   - shirley.gdoc\"\n",
      " mandatory_subject_deciles.csv\n",
      " mandatory_subject_deciles.csv.gsheet\n",
      "'migration to 15 bulletins.gdoc'\n",
      " mine.gsheet\n",
      " missim-crawler\n",
      " missing_geocoding.gsheet\n",
      " missing_geo_streets.gsheet\n",
      " missing_icon_offices.gsheet\n",
      "'Mosad (1).gsheet'\n",
      "'my own algorithm.gdoc'\n",
      "'new architecture'\n",
      "'New deals Logic .gdoc'\n",
      " new_streets_1_12_2019.gsheet\n",
      " new_streets_with_ids\n",
      " new_streets_with_ids2.gsheet\n",
      " new_streets_with_ids33.gsheet\n",
      " new_streets_with_ids34.gsheet\n",
      " new_streets_with_ids35.gsheet\n",
      " new_streets_with_ids56\n",
      " new_streets_with_ids.gsheet\n",
      "'Olesia   Alon sync.gdoc'\n",
      "'Open user preference issues:.gdoc'\n",
      "'option 1 .png'\n",
      "'Ownership of IL.gdoc'\n",
      "'pormoted with no street (1).gsheet'\n",
      "'pormoted with no street (1).xlsx'\n",
      "'pormoted with no street.gsheet'\n",
      "'pormoted with no street.xlsx'\n",
      " production_rules_08_07_2018.gsheet\n",
      "'projectsList (10).gsheet'\n",
      "'projectsList (3).gsheet'\n",
      "'projectsList (9).gsheet'\n",
      "'projects mapping for ad-units (1).gsheet'\n",
      "'projects mapping for ad-units (2).gsheet'\n",
      "'projects mapping for ad-units.csv'\n",
      "'projects mapping for ad-units.gsheet'\n",
      " projects_priorities.gsheet\n",
      "'ready 05_08.gsheet'\n",
      "'Recognition Letter  Benny.gdoc'\n",
      "'Recognition Letter - Shirley.gdoc'\n",
      " recommendation_service.gslides\n",
      " recomndation_feed.key\n",
      "'rec_sync minutes.gdoc'\n",
      "'redis policities.gsheet'\n",
      "'schoolCorrections (1).xlsx'\n",
      "'schoolCorrections (1).xlsx.gsheet'\n",
      "'schoolList2018-04-04 (1).gsheet'\n",
      "'schoolList2018-04-04 (2).gsheet'\n",
      "'schoolList2018-04-04 (3).gsheet'\n",
      "'schoolList2018-04-04 (4).gsheet'\n",
      "'schoolList2018-04-04 (5).gsheet'\n",
      " schoolList2018-04-04.gsheet\n",
      " schoolList2018-05-02.csv.gdoc\n",
      "'SearchPoi expansion .gdoc'\n",
      " select_agent_id__record_id__raw_address_.gsheet\n",
      "'SEO E2E solution.gdoc'\n",
      "'Slovenia 2018'\n",
      "'smaller (1).gsheet'\n",
      " smaller.gsheet\n",
      " SmartAgentDetails.xlsx\n",
      " SmartAgentDetails.xlsx.gsheet\n",
      "'solds bridging issues.gdoc'\n",
      "'state machine diagram.png'\n",
      " streets.gsheet\n",
      "'streets in osm and not madlan.gsheet'\n",
      " streets_raveh.gsheet\n",
      "'streetwisdom november phonecall log.gsheet'\n",
      " street_with_neighs.gsheet\n",
      " testAlternateListings.gsheet\n",
      "'time table new ISRAEL .gsheet'\n",
      "'To-do list.gsheet'\n",
      "'Untitled (4)'\n",
      "'Untitled Diagram.drawio'\n",
      "'Untitled document (1).gdoc'\n",
      "'Untitled document (2).gdoc'\n",
      "'Untitled document.gdoc'\n",
      "'Untitled presentation (1).gslides'\n",
      "'Untitled presentation.gslides'\n",
      "'Untitled spreadsheet (10).gsheet'\n",
      "'Untitled spreadsheet (1).gsheet'\n",
      "'Untitled spreadsheet (2).gsheet'\n",
      "'Untitled spreadsheet (3).gsheet'\n",
      "'Untitled spreadsheet (4).gsheet'\n",
      "'Untitled spreadsheet (5).gsheet'\n",
      "'Untitled spreadsheet (6).gsheet'\n",
      "'Untitled spreadsheet (7).gsheet'\n",
      "'Untitled spreadsheet (8).gsheet'\n",
      "'Untitled spreadsheet (9).gsheet'\n",
      "'Untitled spreadsheet.gsheet'\n",
      "'Uploading a bulletin - Private.drawio'\n",
      "'User Preferences 2.0.gdoc'\n",
      " users2.gsheet\n",
      " very_small.gsheet\n",
      "'virtual numbers.gdoc'\n",
      "'Vlad onboarding plan.gdoc'\n",
      " www-madlan-co-il_20181111T224001Z_CrawlErrors.gsheet\n",
      " www-madlan-co-il_20181115T065456Z_CrawlErrors.gsheet\n",
      " www-madlan-co-il_20181119T072227Z_CrawlErrors.gsheet\n",
      "'yad2 bulletins with no price.gsheet'\n",
      "'אחד העם תיקונים 22.4.gsheet'\n",
      "'אינטגרציה לקמפיינים פעילים.gdoc'\n",
      "'בדיקה לאלון.xlsx'\n",
      "'בדיקה לאלון.xlsx.gsheet'\n",
      "'דירוג בתי ספר (1).xlsx.gsheet'\n",
      "'דירוג בתי ספר (2).xlsx.gsheet'\n",
      "'דירוג בתי ספר (3).xlsx.gsheet'\n",
      "'דירוג בתי ספר.xlsx'\n",
      "'דירוג בתי ספר.xlsx.gsheet'\n",
      "'דירוג ערים.xlsx'\n",
      "'דירוג ערים.xlsx.gsheet'\n",
      "'דף הכנה לאימון 2020 (1).gdoc'\n",
      "'דף הכנה לאימון 2020.gdoc'\n",
      "'הנדון: הצגת מערכת EZRaiderHD4  באירוע AEWE.gdoc'\n",
      "'הצהרת סטודנט- שמירה על טוהר הבחינות (2).gdoc'\n",
      "'מדד מדלן - דיסקליימר והסבר (1).docx.gdoc'\n",
      "'מדד מדלן - דיסקליימר והסבר (2).docx.gdoc'\n",
      "'מדד מדלן - דיסקליימר והסבר.docx'\n",
      "'מדד מדלן - דיסקליימר והסבר.docx.gdoc'\n",
      "'מדלן 29.10.gsheet'\n",
      "'מדלן 29.10.xlsx'\n",
      " מוכנות_5_8_2018.gsheet\n",
      " מיצב.docx\n",
      "'מליאור כתובות לא תקינות.gsheet'\n",
      "'מתחם אחד העם חיפה  - עסקאות חצויות.gsheet'\n",
      "'מתחם אחד העם חיפה  - עסקאות חצויות.xlsx'\n",
      "'נדלן togo.gsheet'\n",
      "'נדלן togo.xlsx'\n",
      "'נתוני בתי ספר תיכוניים - בגרויות 2018 (1).gsheet'\n",
      "'נתוני בתי ספר תיכוניים - בגרויות 2018.xlsx'\n",
      "'נתוני בתי ספר תיכוניים - בגרויות 2018.xlsx.gsheet'\n",
      "'קדמת היובל.png'\n",
      "'רחובות נוספים.gsheet'\n",
      "'רשימת רחובות ישראל.gsheet'\n",
      "'שמות בתי ספר מעודכנים 30-04-2018 (1).gsheet'\n",
      "'שמות בתי ספר מעודכנים 30-04-2018.gsheet'\n"
     ]
    }
   ],
   "source": [
    "!ls '/content/gdrive/MyDrive/'"
   ]
  },
  {
   "cell_type": "code",
   "execution_count": 16,
   "metadata": {
    "colab": {
     "base_uri": "https://localhost:8080/"
    },
    "id": "xdBDv872_8lT",
    "outputId": "5e2d1564-a273-41a1-b117-6c1d8e22cf29"
   },
   "outputs": [
    {
     "name": "stdout",
     "output_type": "stream",
     "text": [
      "Load data done [20.7 s]. #user=6040, #item=3706, #train=994169, #test=6040\n"
     ]
    }
   ],
   "source": [
    "# Loading data\n",
    "path='/content/gdrive/MyDrive/idc_rs/'\n",
    "dataset='ml-1m'\n",
    "#dataset='pinterest-20'\n",
    "t1 = time()\n",
    "dataset = Dataset(path + dataset)\n",
    "train, testRatings, testNegatives = dataset.trainMatrix, dataset.testRatings, dataset.testNegatives\n",
    "num_users, num_items = train.shape\n",
    "print(\"Load data done [%.1f s]. #user=%d, #item=%d, #train=%d, #test=%d\" \n",
    "      %(time()-t1, num_users, num_items, train.nnz, len(testRatings)))"
   ]
  },
  {
   "cell_type": "code",
   "execution_count": 17,
   "metadata": {
    "colab": {
     "base_uri": "https://localhost:8080/"
    },
    "id": "9LrGCcWY_KHj",
    "outputId": "dd05f1a7-1677-4f53-8cb2-d8a6954c25e5"
   },
   "outputs": [
    {
     "data": {
      "text/plain": [
       "6040"
      ]
     },
     "execution_count": 17,
     "metadata": {
      "tags": []
     },
     "output_type": "execute_result"
    }
   ],
   "source": [
    "num_users"
   ]
  },
  {
   "cell_type": "code",
   "execution_count": 18,
   "metadata": {
    "colab": {
     "base_uri": "https://localhost:8080/"
    },
    "id": "ekg1Cn8BBGjZ",
    "outputId": "3aed990e-e7b0-488b-e5f4-b61c048a5901"
   },
   "outputs": [
    {
     "data": {
      "text/plain": [
       "scipy.sparse.dok.dok_matrix"
      ]
     },
     "execution_count": 18,
     "metadata": {
      "tags": []
     },
     "output_type": "execute_result"
    }
   ],
   "source": [
    "type(train)"
   ]
  },
  {
   "cell_type": "markdown",
   "metadata": {
    "id": "Mw5OuOkZqhxF"
   },
   "source": [
    "Add Negative Sampling to Train Data"
   ]
  },
  {
   "cell_type": "code",
   "execution_count": 19,
   "metadata": {
    "id": "M7nlDtDaCakQ"
   },
   "outputs": [],
   "source": [
    "def get_train_instances(train, num_negatives):\n",
    "    user_input, item_input, labels = [],[],[]\n",
    "    num_users = train.shape[0]\n",
    "    for (u, i) in train.keys():\n",
    "        # positive instance\n",
    "        user_input.append(u)\n",
    "        item_input.append(i)\n",
    "        labels.append(1)\n",
    "        # negative instances\n",
    "        for t in range(num_negatives):\n",
    "            j = np.random.randint(num_items)\n",
    "            while (u, j) in train:\n",
    "                j = np.random.randint(num_items)\n",
    "            user_input.append(u)\n",
    "            item_input.append(j)\n",
    "            labels.append(0)\n",
    "    return user_input, item_input, labels"
   ]
  },
  {
   "cell_type": "markdown",
   "metadata": {
    "id": "9mbakwY5qs0s"
   },
   "source": [
    "Define three models: GMF, MLP and NMF"
   ]
  },
  {
   "cell_type": "code",
   "execution_count": 20,
   "metadata": {
    "id": "XdtoQge9CnXI"
   },
   "outputs": [],
   "source": [
    "def get_GMF_model(num_users, num_items, latent_dim, regs=[[0,0]]):\n",
    "    #Generalized Matrix Factorization\n",
    "    \n",
    "    # Input variables\n",
    "    user_input = Input(shape=(1,), dtype='int32', name = 'user_input')\n",
    "    item_input = Input(shape=(1,), dtype='int32', name = 'item_input')\n",
    "\n",
    "    MF_Embedding_User = Embedding(input_dim = num_users, output_dim = latent_dim, name = 'user_embedding',\n",
    "                                   embeddings_regularizer = l2(regs[0][0]), input_length=1,embeddings_initializer=RandomNormal(mean=0.0, stddev=0.01)) #init = init_normal,\n",
    "    MF_Embedding_Item = Embedding(input_dim = num_items, output_dim = latent_dim, name = 'item_embedding',\n",
    "                                   embeddings_regularizer = l2(regs[0][1]), input_length=1,embeddings_initializer=RandomNormal(mean=0.0, stddev=0.01))  #init = init_normal, \n",
    "    \n",
    "    # Crucial to flatten an embedding vector!\n",
    "    user_latent = Flatten()(MF_Embedding_User(user_input))\n",
    "    item_latent = Flatten()(MF_Embedding_Item(item_input))\n",
    "    \n",
    "    # Element-wise product of user and item embeddings \n",
    "    predict_vector = Multiply()([user_latent, item_latent]) #merge([user_latent, item_latent], mode = 'mul')\n",
    "    \n",
    "    # Final prediction layer\n",
    "    prediction = Dense(1, activation='sigmoid', kernel_initializer='lecun_uniform', name = 'prediction')(predict_vector)\n",
    "    \n",
    "    model = Model(inputs=[user_input, item_input], outputs=prediction)\n",
    "    model.compile(optimizer=Adam(lr=learning_rate), loss='binary_crossentropy')\n",
    "    return model\n",
    "\n",
    "\n",
    "def get_MLP_model(num_users, num_items, latent_dim, regs=[[0,0],0,0], layers = [20,10]):\n",
    "    #Multi-Layer Perceptron\n",
    "    \n",
    "    assert len(layers) + 1 == len(regs), 'the number of regs is equal to number of layers + the embedding layer'\n",
    "    num_layer = len(layers) #Number of layers in the MLP\n",
    "    # Input variables\n",
    "    user_input = Input(shape=(1,), dtype='int32', name = 'user_input')\n",
    "    item_input = Input(shape=(1,), dtype='int32', name = 'item_input')\n",
    "\n",
    "    MLP_Embedding_User = Embedding(input_dim = num_users, output_dim = latent_dim, name = 'user_embedding',\n",
    "                                   embeddings_regularizer = l2(regs[0][0]), input_length=1,embeddings_initializer=RandomNormal(mean=0.0, stddev=0.01)) #init = init_normal,\n",
    "    MLP_Embedding_Item = Embedding(input_dim = num_items, output_dim = latent_dim, name = 'item_embedding',\n",
    "                                   embeddings_regularizer = l2(regs[0][1]), input_length=1,embeddings_initializer=RandomNormal(mean=0.0, stddev=0.01)) #init = init_normal,\n",
    "    \n",
    "    # Crucial to flatten an embedding vector!\n",
    "    user_latent = Flatten()(MLP_Embedding_User(user_input))\n",
    "    item_latent = Flatten()(MLP_Embedding_Item(item_input))\n",
    "    \n",
    "    # Concatenation of embedding layers\n",
    "    vector = Concatenate(axis=-1)([user_latent, item_latent])#merge([user_latent, item_latent], mode = 'concat')\n",
    "    \n",
    "    # MLP layers\n",
    "    for idx in range(num_layer):\n",
    "        layer = Dense(layers[idx], kernel_regularizer = l2(regs[idx+1]), activation='relu', name = 'layer%d' %idx)\n",
    "        vector = layer(vector)\n",
    "        \n",
    "    # Final prediction layer\n",
    "    prediction = Dense(1, activation='sigmoid', kernel_initializer='lecun_uniform', name = 'prediction')(vector)\n",
    "    model = Model(inputs=[user_input, item_input], outputs=prediction)\n",
    "    model.compile(optimizer=Adam(lr=learning_rate), loss='binary_crossentropy')\n",
    "    return model\n",
    "\n",
    "def get_NMF_model(num_users, num_items, latent_dim_GMF, latent_dim_MLP, reg_GMF=[[0,0]], regs_MLP=[[0,0],0,0], layers=[20,10]):\n",
    "    #Neural matrix factorization\n",
    "    assert len(layers) + 1 == len(regs_MLP), 'the number of regs is equal to number of layers + the embedding layer'\n",
    "    num_layer = len(layers) #Number of layers in the MLP\n",
    "\n",
    "    # Input variables\n",
    "    user_input = Input(shape=(1,), dtype='int32', name = 'user_input')\n",
    "    item_input = Input(shape=(1,), dtype='int32', name = 'item_input')\n",
    "    \n",
    "    # Embedding layer\n",
    "    MF_Embedding_User = Embedding(input_dim = num_users, output_dim = latent_dim_GMF, name = 'MF_user_embedding',\n",
    "                                   embeddings_regularizer = l2(reg_GMF[0][0]), input_length=1,embeddings_initializer=RandomNormal(mean=0.0, stddev=0.01)) #init = init_normal,\n",
    "    MF_Embedding_Item = Embedding(input_dim = num_items, output_dim = latent_dim_GMF, name = 'MF_item_embedding',\n",
    "                                   embeddings_regularizer = l2(reg_GMF[0][1]), input_length=1,embeddings_initializer=RandomNormal(mean=0.0, stddev=0.01))  #init = init_normal, \n",
    "    \n",
    "    MLP_Embedding_User = Embedding(input_dim = num_users, output_dim = latent_dim_MLP, name = 'MLP_user_embedding',\n",
    "                                   embeddings_regularizer = l2(regs_MLP[0][0]), input_length=1,embeddings_initializer=RandomNormal(mean=0.0, stddev=0.01)) #init = init_normal,\n",
    "    MLP_Embedding_Item = Embedding(input_dim = num_items, output_dim = latent_dim_MLP, name = 'MLP_item_embedding',\n",
    "                                   embeddings_regularizer = l2(regs_MLP[0][1]), input_length=1,embeddings_initializer=RandomNormal(mean=0.0, stddev=0.01)) #init = init_normal,\n",
    "    \n",
    "    # MF part\n",
    "    mf_user_latent = Flatten()(MF_Embedding_User(user_input))\n",
    "    mf_item_latent = Flatten()(MF_Embedding_Item(item_input))\n",
    "    mf_vector = Multiply()([mf_user_latent, mf_item_latent]) #merge([mf_user_latent, mf_item_latent], mode = 'mul') # element-wise multiply\n",
    "\n",
    "    # MLP part \n",
    "    mlp_user_latent = Flatten()(MLP_Embedding_User(user_input))\n",
    "    mlp_item_latent = Flatten()(MLP_Embedding_Item(item_input))\n",
    "    mlp_vector = Concatenate(axis=-1)([mlp_user_latent, mlp_item_latent])#merge([mlp_user_latent, mlp_item_latent], mode = 'concat')\n",
    "    for idx in range(num_layer):\n",
    "        layer =  Dense(layers[idx], kernel_regularizer = l2(regs_MLP[idx+1]), activation='tanh', name = 'layer%d' %idx)\n",
    "        mlp_vector = layer(mlp_vector)\n",
    "\n",
    "    # Concatenate MF and MLP parts\n",
    "    predict_vector = Concatenate(axis=-1)([mf_vector, mlp_vector])\n",
    "    \n",
    "    # Final prediction layer\n",
    "    prediction = Dense(1, activation='sigmoid', kernel_initializer='lecun_uniform', name = \"prediction\")(predict_vector)    \n",
    "    model = Model(inputs=[user_input, item_input], outputs=prediction)\n",
    "    model.compile(optimizer=Adam(lr=learning_rate), loss='binary_crossentropy')\n",
    "    return model\n",
    "\n",
    "def get_MF_model(num_users, num_items, latent_dim):\n",
    "    # Input variables\n",
    "    user_input = Input(shape=(1,), dtype='int32', name = 'user_input')\n",
    "    item_input = Input(shape=(1,), dtype='int32', name = 'item_input')\n",
    "\n",
    "    MF_Embedding_User = Embedding(input_dim = num_users, output_dim = latent_dim, name = 'user_embedding', input_length=1)\n",
    "    MF_Embedding_Item = Embedding(input_dim = num_items, output_dim = latent_dim, name = 'item_embedding', input_length=1)   \n",
    "    \n",
    "    # Crucial to flatten an embedding vector!\n",
    "    user_latent = Flatten()(MF_Embedding_User(user_input))\n",
    "    item_latent = Flatten()(MF_Embedding_Item(item_input))\n",
    "    \n",
    "    # Element-wise product of user and item embeddings\n",
    "    #prediction = merge([user_latent, item_latent], mode = 'dot')\n",
    "    prediction = keras.layers.dot([user_latent,item_latent], axes=1,normalize=False)\n",
    "    \n",
    "    \n",
    "    model = Model(inputs=[user_input, item_input], outputs=prediction)\n",
    "    model.compile(optimizer=Adam(lr=learning_rate), loss='binary_crossentropy')\n",
    "    return model"
   ]
  },
  {
   "cell_type": "code",
   "execution_count": 21,
   "metadata": {
    "colab": {
     "base_uri": "https://localhost:8080/"
    },
    "id": "a0q2uQaAf16m",
    "outputId": "d9aedd10-c3ed-4289-fc84-9dfb281b011c"
   },
   "outputs": [
    {
     "name": "stdout",
     "output_type": "stream",
     "text": [
      "Model: \"model_1\"\n",
      "__________________________________________________________________________________________________\n",
      "Layer (type)                    Output Shape         Param #     Connected to                     \n",
      "==================================================================================================\n",
      "user_input (InputLayer)         [(None, 1)]          0                                            \n",
      "__________________________________________________________________________________________________\n",
      "item_input (InputLayer)         [(None, 1)]          0                                            \n",
      "__________________________________________________________________________________________________\n",
      "user_embedding (Embedding)      (None, 1, 8)         48320       user_input[0][0]                 \n",
      "__________________________________________________________________________________________________\n",
      "item_embedding (Embedding)      (None, 1, 8)         29648       item_input[0][0]                 \n",
      "__________________________________________________________________________________________________\n",
      "flatten_2 (Flatten)             (None, 8)            0           user_embedding[0][0]             \n",
      "__________________________________________________________________________________________________\n",
      "flatten_3 (Flatten)             (None, 8)            0           item_embedding[0][0]             \n",
      "__________________________________________________________________________________________________\n",
      "concatenate (Concatenate)       (None, 16)           0           flatten_2[0][0]                  \n",
      "                                                                 flatten_3[0][0]                  \n",
      "__________________________________________________________________________________________________\n",
      "layer0 (Dense)                  (None, 32)           544         concatenate[0][0]                \n",
      "__________________________________________________________________________________________________\n",
      "layer1 (Dense)                  (None, 16)           528         layer0[0][0]                     \n",
      "__________________________________________________________________________________________________\n",
      "layer2 (Dense)                  (None, 8)            136         layer1[0][0]                     \n",
      "__________________________________________________________________________________________________\n",
      "prediction (Dense)              (None, 1)            9           layer2[0][0]                     \n",
      "==================================================================================================\n",
      "Total params: 79,185\n",
      "Trainable params: 79,185\n",
      "Non-trainable params: 0\n",
      "__________________________________________________________________________________________________\n",
      "None\n"
     ]
    }
   ],
   "source": [
    "num_factors = 8 #size of embedding size. Can be split to 4 different params potentially.\n",
    "num_negatives = 4 #how many negative samples per positive sample?\n",
    "learning_rate = 0.001\n",
    "epochs = 5\n",
    "batch_size = 256\n",
    "verbose = 1\n",
    "write_model=False\n",
    "topK = 10 #used to evaluate the model. Top K recommendations are used.\n",
    "evaluation_threads = 1 \n",
    "model_out_file = path + 'Pretrain/%s_GMF_%d_%d.h5' %(dataset, num_factors, time())\n",
    "\n",
    "# Build model\n",
    "model_GMF = get_GMF_model(num_users, num_items, num_factors, regs = [[0,0]])\n",
    "model_MLP = get_MLP_model(num_users, num_items, num_factors, regs = [[0,0],0,0,0], layers = [32,16,8])\n",
    "model_NMF = get_NMF_model(num_users, num_items, latent_dim_GMF=num_factors, latent_dim_MLP=num_factors, reg_GMF=[[0,0]],\n",
    "                      regs_MLP=[[0,0],0,0,0], layers=[32,16,8])\n",
    "\n",
    "model_MF = get_MF_model(num_users, num_items, num_factors) \n",
    "model = model_MLP\n",
    "print(model.summary())\n",
    "\n",
    "# model.compile(optimizer=Adam(lr=learning_rate), loss='binary_crossentropy')"
   ]
  },
  {
   "cell_type": "code",
   "execution_count": 21,
   "metadata": {
    "id": "pUCN5OegV6W3"
   },
   "outputs": [],
   "source": []
  },
  {
   "cell_type": "code",
   "execution_count": 22,
   "metadata": {
    "id": "bnxcHD-UV5P_"
   },
   "outputs": [],
   "source": [
    "# model_MF = get_MF_model(num_users, num_items, num_factors) \n",
    "# print(model_MF.summary())\n",
    "\n",
    "# model_MF.compile(optimizer=Adam(lr=learning_rate), loss='binary_crossentropy')"
   ]
  },
  {
   "cell_type": "markdown",
   "metadata": {
    "id": "We10CDQurED6"
   },
   "source": [
    "Random Baseline"
   ]
  },
  {
   "cell_type": "code",
   "execution_count": 23,
   "metadata": {
    "id": "JfUQa6wDf_21"
   },
   "outputs": [],
   "source": [
    "# Init performance\n",
    "# t1 = time()\n",
    "# (hits, ndcgs, mrrs_5, mrrs_10) = evaluate_model(model, testRatings, testNegatives, topK, evaluation_threads)\n",
    "# hr, ndcg, mrr_5, mrr_10 = np.array(hits).mean(), np.array(ndcgs).mean(), np.array(mrrs_5).mean(), np.array(mrrs_10).mean()\n",
    "# print('Init: HR = %.4f, NDCG = %.4f, MRR_5: %.4f, MRR_10: %.4f \\t [%.1f s]' % (hr, ndcg,mrr_5, mrr_10, time()-t1))\n"
   ]
  },
  {
   "cell_type": "code",
   "execution_count": 25,
   "metadata": {
    "id": "_fNPOftZzy10"
   },
   "outputs": [],
   "source": [
    "# Train model\n",
    "\n",
    "# Build model\n",
    "model_GMF = get_GMF_model(num_users, num_items, num_factors, regs = [[0,0]])\n",
    "model_MLP = get_MLP_model(num_users, num_items, num_factors, regs = [[0,0],0,0,0], layers = [32,16,8])\n",
    "model_NMF = get_NMF_model(num_users, num_items, latent_dim_GMF=num_factors, latent_dim_MLP=num_factors, reg_GMF=[[0,0]],\n",
    "                      regs_MLP=[[0,0],0,0,0], layers=[32,16,8])\n",
    "models = {'model_GMF': model_GMF,'model_MLP': model_MLP, 'model_NMF': model_NMF }"
   ]
  },
  {
   "cell_type": "code",
   "execution_count": 70,
   "metadata": {
    "id": "U7o24D82Y1sL"
   },
   "outputs": [],
   "source": [
    "# model_out_file = path + '%s_GMF_%d_%d.h5' %('model_NMF', num_factors, time())\n",
    "# models['model_NMF'].save_weights(model_out_file, overwrite=True)"
   ]
  },
  {
   "cell_type": "code",
   "execution_count": 26,
   "metadata": {
    "colab": {
     "base_uri": "https://localhost:8080/"
    },
    "id": "_QmMHuJ_Cve4",
    "outputId": "28f27423-f9fb-4afa-c67c-9a6b95e5dc44"
   },
   "outputs": [
    {
     "name": "stdout",
     "output_type": "stream",
     "text": [
      "epoch:  0\n",
      "evaluating epoch:  0\n",
      "Iteration 0 [45.8 s]: HR = 0.4950, NDCG = 0.2777,  MRR_5 = 0.1908, MRR_10 = 0.2114, loss = 0.3635 [236.8 s]\n",
      "epoch:  1\n",
      "evaluating epoch:  1\n",
      "Iteration 1 [45.1 s]: HR = 0.5606, NDCG = 0.3162,  MRR_5 = 0.2184, MRR_10 = 0.2418, loss = 0.3094 [235.4 s]\n",
      "epoch:  2\n",
      "evaluating epoch:  2\n",
      "Iteration 2 [44.9 s]: HR = 0.5788, NDCG = 0.3258,  MRR_5 = 0.2248, MRR_10 = 0.2486, loss = 0.2954 [234.9 s]\n",
      "epoch:  3\n",
      "evaluating epoch:  3\n",
      "Iteration 3 [44.9 s]: HR = 0.6008, NDCG = 0.3400,  MRR_5 = 0.2358, MRR_10 = 0.2606, loss = 0.2868 [234.6 s]\n",
      "epoch:  4\n",
      "evaluating epoch:  4\n",
      "Iteration 4 [44.7 s]: HR = 0.6137, NDCG = 0.3521,  MRR_5 = 0.2484, MRR_10 = 0.2722, loss = 0.2799 [235.4 s]\n",
      "epoch:  5\n",
      "evaluating epoch:  5\n",
      "Iteration 5 [44.8 s]: HR = 0.6214, NDCG = 0.3567,  MRR_5 = 0.2510, MRR_10 = 0.2756, loss = 0.2748 [234.6 s]\n",
      "epoch:  6\n",
      "evaluating epoch:  6\n",
      "Iteration 6 [44.6 s]: HR = 0.6262, NDCG = 0.3578,  MRR_5 = 0.2512, MRR_10 = 0.2755, loss = 0.2729 [234.9 s]\n",
      "epoch:  7\n",
      "evaluating epoch:  7\n",
      "Iteration 7 [44.9 s]: HR = 0.6268, NDCG = 0.3624,  MRR_5 = 0.2569, MRR_10 = 0.2815, loss = 0.2715 [236.3 s]\n",
      "epoch:  8\n",
      "evaluating epoch:  8\n",
      "Iteration 8 [44.7 s]: HR = 0.6316, NDCG = 0.3609,  MRR_5 = 0.2538, MRR_10 = 0.2779, loss = 0.2707 [235.5 s]\n",
      "epoch:  9\n",
      "evaluating epoch:  9\n",
      "Iteration 9 [45.6 s]: HR = 0.6296, NDCG = 0.3626,  MRR_5 = 0.2568, MRR_10 = 0.2807, loss = 0.2701 [236.5 s]\n",
      "End. Best Iteration 8:  HR = 0.6316, NDCG = 0.3609. \n",
      "epoch:  0\n",
      "evaluating epoch:  0\n",
      "Iteration 0 [52.4 s]: HR = 0.4906, NDCG = 0.2679,  MRR_5 = 0.1777, MRR_10 = 0.2004, loss = 0.3558 [237.7 s]\n",
      "epoch:  1\n",
      "evaluating epoch:  1\n",
      "Iteration 1 [51.2 s]: HR = 0.5533, NDCG = 0.3054,  MRR_5 = 0.2058, MRR_10 = 0.2299, loss = 0.3191 [237.6 s]\n",
      "epoch:  2\n",
      "evaluating epoch:  2\n",
      "Iteration 2 [51.4 s]: HR = 0.5904, NDCG = 0.3302,  MRR_5 = 0.2268, MRR_10 = 0.2509, loss = 0.2994 [237.3 s]\n",
      "epoch:  3\n",
      "evaluating epoch:  3\n",
      "Iteration 3 [51.3 s]: HR = 0.5993, NDCG = 0.3373,  MRR_5 = 0.2326, MRR_10 = 0.2573, loss = 0.2899 [237.3 s]\n",
      "epoch:  4\n",
      "evaluating epoch:  4\n",
      "Iteration 4 [51.3 s]: HR = 0.6134, NDCG = 0.3494,  MRR_5 = 0.2433, MRR_10 = 0.2687, loss = 0.2842 [237.1 s]\n",
      "epoch:  5\n",
      "evaluating epoch:  5\n",
      "Iteration 5 [51.3 s]: HR = 0.6207, NDCG = 0.3532,  MRR_5 = 0.2468, MRR_10 = 0.2714, loss = 0.2809 [236.1 s]\n",
      "epoch:  6\n",
      "evaluating epoch:  6\n",
      "Iteration 6 [50.9 s]: HR = 0.6182, NDCG = 0.3538,  MRR_5 = 0.2490, MRR_10 = 0.2728, loss = 0.2782 [236.4 s]\n",
      "epoch:  7\n",
      "evaluating epoch:  7\n",
      "Iteration 7 [51.0 s]: HR = 0.6209, NDCG = 0.3550,  MRR_5 = 0.2493, MRR_10 = 0.2735, loss = 0.2765 [236.5 s]\n",
      "epoch:  8\n",
      "evaluating epoch:  8\n",
      "Iteration 8 [51.5 s]: HR = 0.6281, NDCG = 0.3596,  MRR_5 = 0.2528, MRR_10 = 0.2773, loss = 0.2757 [240.0 s]\n",
      "epoch:  9\n",
      "evaluating epoch:  9\n",
      "Iteration 9 [51.9 s]: HR = 0.6258, NDCG = 0.3604,  MRR_5 = 0.2553, MRR_10 = 0.2790, loss = 0.2742 [238.9 s]\n",
      "End. Best Iteration 8:  HR = 0.6316, NDCG = 0.3609. \n",
      "epoch:  0\n",
      "evaluating epoch:  0\n",
      "Iteration 0 [59.5 s]: HR = 0.5921, NDCG = 0.3362,  MRR_5 = 0.2343, MRR_10 = 0.2581, loss = 0.3196 [239.1 s]\n",
      "epoch:  1\n",
      "evaluating epoch:  1\n",
      "Iteration 1 [58.1 s]: HR = 0.6296, NDCG = 0.3617,  MRR_5 = 0.2552, MRR_10 = 0.2798, loss = 0.2774 [238.5 s]\n",
      "epoch:  2\n",
      "evaluating epoch:  2\n",
      "Iteration 2 [58.5 s]: HR = 0.6490, NDCG = 0.3739,  MRR_5 = 0.2653, MRR_10 = 0.2896, loss = 0.2687 [239.5 s]\n",
      "epoch:  3\n",
      "evaluating epoch:  3\n",
      "Iteration 3 [58.9 s]: HR = 0.6538, NDCG = 0.3788,  MRR_5 = 0.2700, MRR_10 = 0.2945, loss = 0.2646 [239.0 s]\n",
      "epoch:  4\n",
      "evaluating epoch:  4\n",
      "Iteration 4 [58.5 s]: HR = 0.6543, NDCG = 0.3799,  MRR_5 = 0.2718, MRR_10 = 0.2955, loss = 0.2620 [237.4 s]\n",
      "epoch:  5\n",
      "evaluating epoch:  5\n",
      "Iteration 5 [58.1 s]: HR = 0.6664, NDCG = 0.3857,  MRR_5 = 0.2740, MRR_10 = 0.2996, loss = 0.2598 [238.8 s]\n",
      "epoch:  6\n",
      "evaluating epoch:  6\n",
      "Iteration 6 [57.7 s]: HR = 0.6626, NDCG = 0.3881,  MRR_5 = 0.2788, MRR_10 = 0.3039, loss = 0.2581 [238.8 s]\n",
      "epoch:  7\n",
      "evaluating epoch:  7\n",
      "Iteration 7 [57.6 s]: HR = 0.6654, NDCG = 0.3886,  MRR_5 = 0.2786, MRR_10 = 0.3037, loss = 0.2565 [239.8 s]\n",
      "epoch:  8\n",
      "evaluating epoch:  8\n",
      "Iteration 8 [58.2 s]: HR = 0.6679, NDCG = 0.3958,  MRR_5 = 0.2881, MRR_10 = 0.3121, loss = 0.2551 [241.3 s]\n",
      "epoch:  9\n",
      "evaluating epoch:  9\n",
      "Iteration 9 [58.0 s]: HR = 0.6689, NDCG = 0.3941,  MRR_5 = 0.2855, MRR_10 = 0.3096, loss = 0.2543 [238.6 s]\n",
      "End. Best Iteration 9:  HR = 0.6689, NDCG = 0.3941. \n"
     ]
    }
   ],
   "source": [
    "\n",
    "models_types = ['model_GMF', 'model_MLP', 'model_NMF']\n",
    "\n",
    "best_hr, best_ndcg, best_iter, best_mrr_5, best_mrr_10 = -1,-1, -1, -1, -1\n",
    "\n",
    "results_for_all_models = []\n",
    "for model_type in models_types:\n",
    "  model = models[model_type]\n",
    "  epochs_results = []\n",
    "  for epoch in range(10):\n",
    "      t1 = time()\n",
    "      # Generate training instances\n",
    "      user_input, item_input, labels = get_train_instances(train, num_negatives)\n",
    "\n",
    "      # Training\n",
    "      hist = model.fit([np.array(user_input), np.array(item_input)], #input\n",
    "                      np.array(labels), # labels \n",
    "                      batch_size=batch_size, epochs=1, verbose=0, shuffle=True)\n",
    "      t2 = time()\n",
    "\n",
    "      # Evaluation\n",
    "      print('epoch: ', epoch)\n",
    "      if epoch %verbose == 0:\n",
    "          print('evaluating epoch: ', epoch)\n",
    "          (hits, ndcgs, mrrs_5, mrrs_10) = evaluate_model(model, testRatings, testNegatives, topK, evaluation_threads)\n",
    "          hr, ndcg, mrr_5, mrr_10, loss = np.array(hits).mean(), np.array(ndcgs).mean(), np.array(mrrs_5).mean(), np.array(mrrs_10).mean(), hist.history['loss'][0]\n",
    "          epochs_results.append({'hits': hits, 'ndcgs': ndcgs, 'mrrs_5': mrrs_5, 'mrrs_10': mrrs_10, 'loss': loss})\n",
    "          print('Iteration %d [%.1f s]: HR = %.4f, NDCG = %.4f,  MRR_5 = %.4f, MRR_10 = %.4f, loss = %.4f [%.1f s]' \n",
    "                % (epoch,  t2-t1, hr, ndcg,mrr_5, mrr_10, loss, time()-t2))\n",
    "          if hr > best_hr:\n",
    "              best_hr, best_ndcg, best_iter, best_mrr_5, best_mrr_10 = hr, ndcg, epoch, mrr_5, mrr_10\n",
    "              if write_model:\n",
    "                  model.save_weights(model_out_file, overwrite=True)\n",
    "  results_for_all_models.append({'model_type': model_type, 'epochs_results': epochs_results})\n",
    "\n",
    "  print(\"End. Best Iteration %d:  HR = %.4f, NDCG = %.4f. \" %(best_iter, best_hr, best_ndcg))\n",
    "  if write_model:\n",
    "      print(\"The best GMF model is saved to %s\" %(model_out_file))"
   ]
  },
  {
   "cell_type": "code",
   "execution_count": 63,
   "metadata": {
    "colab": {
     "base_uri": "https://localhost:8080/"
    },
    "id": "qtdtbjYpSZpb",
    "outputId": "d5fd586e-8cf6-4552-bd4f-596fbe6c7be4"
   },
   "outputs": [
    {
     "data": {
      "text/plain": [
       "{'model_GMF': <tensorflow.python.keras.engine.functional.Functional at 0x7f1cc7337828>,\n",
       " 'model_MLP': <tensorflow.python.keras.engine.functional.Functional at 0x7f1cc7290b38>,\n",
       " 'model_NMF': <tensorflow.python.keras.engine.functional.Functional at 0x7f1cc71e5be0>}"
      ]
     },
     "execution_count": 63,
     "metadata": {
      "tags": []
     },
     "output_type": "execute_result"
    }
   ],
   "source": [
    "models"
   ]
  },
  {
   "cell_type": "code",
   "execution_count": 73,
   "metadata": {
    "id": "Tc874L6XoLBp"
   },
   "outputs": [],
   "source": [
    "# eval_types = ['loss']\n",
    "# learning_curves = []\n",
    "# for model_result in results_for_all_models:\n",
    "#   for e in model_result['epochs_results']:\n",
    "#     print(e[0]['loss'])\n",
    "\n",
    "models_losses = {}\n",
    "for m in models_types:\n",
    "  models_losses[m] = []\n",
    "\n",
    "summary_table = pd.DataFrame(columns=['model_type', 'loss','hit_rate_mean', 'ncdg_mean','loss', 'mrr_5_mean', 'mrr_10_mean', 'epoch' ])\n",
    "\n",
    "for model_result in results_for_all_models:\n",
    "  last_round = model_result['epochs_results'][-1]\n",
    "  for idx, epoch_res in enumerate(model_result['epochs_results']):\n",
    "    models_losses[model_result['model_type']].append(epoch_res['loss'])\n",
    "    row = {\n",
    "      'model_type': model_result['model_type'],\n",
    "      'loss':  epoch_res['loss'],\n",
    "      'hit_rate_mean': np.array(epoch_res['hits']).mean(),\n",
    "      'ncdg_mean': np.array(epoch_res['ndcgs']).mean(),\n",
    "      'mrr_5_mean': np.array(epoch_res['mrrs_5']).mean(),\n",
    "      'mrr_10_mean': np.array(epoch_res['mrrs_10']).mean(),\n",
    "      'epoch': idx + 1} \n",
    "    summary_table = summary_table.append(row, ignore_index=True)\n",
    "    # print(row)\n",
    "\n",
    "\n",
    "# model_out_file = path + 'summary_table.csv')\n",
    "summary_table.to_csv(path + 'summary_table.csv')\n"
   ]
  },
  {
   "cell_type": "code",
   "execution_count": 74,
   "metadata": {
    "colab": {
     "base_uri": "https://localhost:8080/",
     "height": 580
    },
    "id": "lPzhePSM73zc",
    "outputId": "194ab487-ef5f-42d2-db8f-926d44be1371"
   },
   "outputs": [
    {
     "name": "stdout",
     "output_type": "stream",
     "text": [
      "Printed immediately.\n",
      "Printed after 30 seconds.\n",
      "Printed after 30 seconds.\n",
      "Printed after 30 seconds.\n",
      "Printed after 30 seconds.\n",
      "Printed after 30 seconds.\n",
      "Printed after 30 seconds.\n",
      "Printed after 30 seconds.\n",
      "Printed after 30 seconds.\n",
      "Printed after 30 seconds.\n",
      "Printed after 30 seconds.\n",
      "Printed after 30 seconds.\n",
      "Printed after 30 seconds.\n",
      "Printed after 30 seconds.\n",
      "Printed after 30 seconds.\n",
      "Printed after 30 seconds.\n",
      "Printed after 30 seconds.\n",
      "Printed after 30 seconds.\n",
      "Printed after 30 seconds.\n",
      "Printed after 30 seconds.\n",
      "Printed after 30 seconds.\n"
     ]
    },
    {
     "ename": "KeyboardInterrupt",
     "evalue": "ignored",
     "output_type": "error",
     "traceback": [
      "\u001b[0;31m---------------------------------------------------------------------------\u001b[0m",
      "\u001b[0;31mKeyboardInterrupt\u001b[0m                         Traceback (most recent call last)",
      "\u001b[0;32m<ipython-input-74-8b31e71f990d>\u001b[0m in \u001b[0;36m<module>\u001b[0;34m()\u001b[0m\n\u001b[1;32m      3\u001b[0m \u001b[0mprint\u001b[0m\u001b[0;34m(\u001b[0m\u001b[0;34m\"Printed immediately.\"\u001b[0m\u001b[0;34m)\u001b[0m\u001b[0;34m\u001b[0m\u001b[0;34m\u001b[0m\u001b[0m\n\u001b[1;32m      4\u001b[0m \u001b[0;32mwhile\u001b[0m \u001b[0;32mTrue\u001b[0m\u001b[0;34m:\u001b[0m\u001b[0;34m\u001b[0m\u001b[0;34m\u001b[0m\u001b[0m\n\u001b[0;32m----> 5\u001b[0;31m   \u001b[0mtime\u001b[0m\u001b[0;34m.\u001b[0m\u001b[0msleep\u001b[0m\u001b[0;34m(\u001b[0m\u001b[0;36m30\u001b[0m\u001b[0;34m)\u001b[0m\u001b[0;34m\u001b[0m\u001b[0;34m\u001b[0m\u001b[0m\n\u001b[0m\u001b[1;32m      6\u001b[0m   \u001b[0mprint\u001b[0m\u001b[0;34m(\u001b[0m\u001b[0;34m\"Printed after 30 seconds.\"\u001b[0m\u001b[0;34m)\u001b[0m\u001b[0;34m\u001b[0m\u001b[0;34m\u001b[0m\u001b[0m\n",
      "\u001b[0;31mKeyboardInterrupt\u001b[0m: "
     ]
    }
   ],
   "source": [
    "import time\n",
    "\n",
    "print(\"Printed immediately.\")\n",
    "while True:\n",
    "  time.sleep(30)\n",
    "  print(\"Printed after 30 seconds.\")"
   ]
  },
  {
   "cell_type": "markdown",
   "metadata": {
    "id": "mFhVMzj_XMxc"
   },
   "source": []
  },
  {
   "cell_type": "code",
   "execution_count": 36,
   "metadata": {
    "colab": {
     "base_uri": "https://localhost:8080/"
    },
    "id": "vwReDWllRgQ1",
    "outputId": "1ddc6786-6577-49a3-e75d-71ac94ce6b40"
   },
   "outputs": [
    {
     "data": {
      "text/plain": [
       "dict_keys(['model_type', 'epochs_results'])"
      ]
     },
     "execution_count": 36,
     "metadata": {
      "tags": []
     },
     "output_type": "execute_result"
    }
   ],
   "source": [
    "results_for_all_models[0].keys()"
   ]
  },
  {
   "cell_type": "code",
   "execution_count": 30,
   "metadata": {
    "colab": {
     "base_uri": "https://localhost:8080/",
     "height": 696
    },
    "id": "h6QTq_Vn7lGX",
    "outputId": "ec00c684-a2a1-4dc4-85fc-dabdf7345510"
   },
   "outputs": [
    {
     "name": "stdout",
     "output_type": "stream",
     "text": [
      "model_GMF\n",
      "model_MLP\n",
      "model_NMF\n"
     ]
    },
    {
     "data": {
      "text/plain": [
       "<Figure size 432x288 with 0 Axes>"
      ]
     },
     "metadata": {
      "tags": []
     },
     "output_type": "display_data"
    },
    {
     "data": {
      "image/png": "[encoded data removed]",
      "text/plain": [
       "<Figure size 1440x720 with 1 Axes>"
      ]
     },
     "metadata": {
      "needs_background": "light",
      "tags": []
     },
     "output_type": "display_data"
    }
   ],
   "source": [
    "import matplotlib.pyplot as plt \n",
    "fig = plt.figure()\n",
    "plt.figure(figsize=(20,10))\n",
    "plt.title(\"losss learning curves \",bbox={'facecolor':'k', 'pad':2},color='w',fontsize = 15)\n",
    "plt.xlabel(\"Rounds\", fontsize=14)\n",
    "plt.ylabel(\"binary_crossentropy loss\", fontsize=14)\n",
    "for model, results in models_losses.items():\n",
    "  print(model)\n",
    "\n",
    "for model, errors in models_losses.items():\n",
    "    x = range(len(errors))\n",
    "    y = errors\n",
    "    label = 'model = %s ' % model\n",
    "    plt.errorbar(x,y , label=label)\n",
    "    plt.legend(loc='upper right', prop={'size': 14})"
   ]
  },
  {
   "cell_type": "markdown",
   "metadata": {
    "id": "Of5Khb61XPHh"
   },
   "source": [
    "Following are summary results according to all the different measurements for 3 models.\n"
   ]
  },
  {
   "cell_type": "code",
   "execution_count": 62,
   "metadata": {
    "colab": {
     "base_uri": "https://localhost:8080/",
     "height": 948
    },
    "id": "g5MwszsyXUe5",
    "outputId": "07e210cf-8bb7-490a-d98e-4a6a3be458da"
   },
   "outputs": [
    {
     "data": {
      "text/html": [
       "<div>\n",
       "<style scoped>\n",
       "    .dataframe tbody tr th:only-of-type {\n",
       "        vertical-align: middle;\n",
       "    }\n",
       "\n",
       "    .dataframe tbody tr th {\n",
       "        vertical-align: top;\n",
       "    }\n",
       "\n",
       "    .dataframe thead th {\n",
       "        text-align: right;\n",
       "    }\n",
       "</style>\n",
       "<table border=\"1\" class=\"dataframe\">\n",
       "  <thead>\n",
       "    <tr style=\"text-align: right;\">\n",
       "      <th></th>\n",
       "      <th>model_type</th>\n",
       "      <th>loss</th>\n",
       "      <th>hit_rate_mean</th>\n",
       "      <th>ncdg_mean</th>\n",
       "      <th>loss</th>\n",
       "      <th>mrr_5_mean</th>\n",
       "      <th>mrr_10_mean</th>\n",
       "      <th>epoch</th>\n",
       "    </tr>\n",
       "  </thead>\n",
       "  <tbody>\n",
       "    <tr>\n",
       "      <th>0</th>\n",
       "      <td>model_GMF</td>\n",
       "      <td>0.363458</td>\n",
       "      <td>0.495033</td>\n",
       "      <td>0.277663</td>\n",
       "      <td>0.363458</td>\n",
       "      <td>0.190789</td>\n",
       "      <td>0.211428</td>\n",
       "      <td>1</td>\n",
       "    </tr>\n",
       "    <tr>\n",
       "      <th>1</th>\n",
       "      <td>model_GMF</td>\n",
       "      <td>0.309368</td>\n",
       "      <td>0.560596</td>\n",
       "      <td>0.316190</td>\n",
       "      <td>0.309368</td>\n",
       "      <td>0.218377</td>\n",
       "      <td>0.241755</td>\n",
       "      <td>2</td>\n",
       "    </tr>\n",
       "    <tr>\n",
       "      <th>2</th>\n",
       "      <td>model_GMF</td>\n",
       "      <td>0.295355</td>\n",
       "      <td>0.578808</td>\n",
       "      <td>0.325793</td>\n",
       "      <td>0.295355</td>\n",
       "      <td>0.224768</td>\n",
       "      <td>0.248623</td>\n",
       "      <td>3</td>\n",
       "    </tr>\n",
       "    <tr>\n",
       "      <th>3</th>\n",
       "      <td>model_GMF</td>\n",
       "      <td>0.286827</td>\n",
       "      <td>0.600828</td>\n",
       "      <td>0.339996</td>\n",
       "      <td>0.286827</td>\n",
       "      <td>0.235803</td>\n",
       "      <td>0.260563</td>\n",
       "      <td>4</td>\n",
       "    </tr>\n",
       "    <tr>\n",
       "      <th>4</th>\n",
       "      <td>model_GMF</td>\n",
       "      <td>0.279933</td>\n",
       "      <td>0.613742</td>\n",
       "      <td>0.352141</td>\n",
       "      <td>0.279933</td>\n",
       "      <td>0.248366</td>\n",
       "      <td>0.272158</td>\n",
       "      <td>5</td>\n",
       "    </tr>\n",
       "    <tr>\n",
       "      <th>5</th>\n",
       "      <td>model_GMF</td>\n",
       "      <td>0.274781</td>\n",
       "      <td>0.621358</td>\n",
       "      <td>0.356651</td>\n",
       "      <td>0.274781</td>\n",
       "      <td>0.250971</td>\n",
       "      <td>0.275617</td>\n",
       "      <td>6</td>\n",
       "    </tr>\n",
       "    <tr>\n",
       "      <th>6</th>\n",
       "      <td>model_GMF</td>\n",
       "      <td>0.272924</td>\n",
       "      <td>0.626159</td>\n",
       "      <td>0.357769</td>\n",
       "      <td>0.272924</td>\n",
       "      <td>0.251189</td>\n",
       "      <td>0.275534</td>\n",
       "      <td>7</td>\n",
       "    </tr>\n",
       "    <tr>\n",
       "      <th>7</th>\n",
       "      <td>model_GMF</td>\n",
       "      <td>0.271492</td>\n",
       "      <td>0.626821</td>\n",
       "      <td>0.362425</td>\n",
       "      <td>0.271492</td>\n",
       "      <td>0.256879</td>\n",
       "      <td>0.281481</td>\n",
       "      <td>8</td>\n",
       "    </tr>\n",
       "    <tr>\n",
       "      <th>8</th>\n",
       "      <td>model_GMF</td>\n",
       "      <td>0.270688</td>\n",
       "      <td>0.631623</td>\n",
       "      <td>0.360863</td>\n",
       "      <td>0.270688</td>\n",
       "      <td>0.253844</td>\n",
       "      <td>0.277892</td>\n",
       "      <td>9</td>\n",
       "    </tr>\n",
       "    <tr>\n",
       "      <th>9</th>\n",
       "      <td>model_GMF</td>\n",
       "      <td>0.270116</td>\n",
       "      <td>0.629636</td>\n",
       "      <td>0.362562</td>\n",
       "      <td>0.270116</td>\n",
       "      <td>0.256752</td>\n",
       "      <td>0.280723</td>\n",
       "      <td>10</td>\n",
       "    </tr>\n",
       "    <tr>\n",
       "      <th>10</th>\n",
       "      <td>model_MLP</td>\n",
       "      <td>0.355835</td>\n",
       "      <td>0.490563</td>\n",
       "      <td>0.267862</td>\n",
       "      <td>0.355835</td>\n",
       "      <td>0.177718</td>\n",
       "      <td>0.200396</td>\n",
       "      <td>1</td>\n",
       "    </tr>\n",
       "    <tr>\n",
       "      <th>11</th>\n",
       "      <td>model_MLP</td>\n",
       "      <td>0.319052</td>\n",
       "      <td>0.553311</td>\n",
       "      <td>0.305351</td>\n",
       "      <td>0.319052</td>\n",
       "      <td>0.205756</td>\n",
       "      <td>0.229936</td>\n",
       "      <td>2</td>\n",
       "    </tr>\n",
       "    <tr>\n",
       "      <th>12</th>\n",
       "      <td>model_MLP</td>\n",
       "      <td>0.299384</td>\n",
       "      <td>0.590397</td>\n",
       "      <td>0.330238</td>\n",
       "      <td>0.299384</td>\n",
       "      <td>0.226832</td>\n",
       "      <td>0.250855</td>\n",
       "      <td>3</td>\n",
       "    </tr>\n",
       "    <tr>\n",
       "      <th>13</th>\n",
       "      <td>model_MLP</td>\n",
       "      <td>0.289853</td>\n",
       "      <td>0.599338</td>\n",
       "      <td>0.337302</td>\n",
       "      <td>0.289853</td>\n",
       "      <td>0.232558</td>\n",
       "      <td>0.257308</td>\n",
       "      <td>4</td>\n",
       "    </tr>\n",
       "    <tr>\n",
       "      <th>14</th>\n",
       "      <td>model_MLP</td>\n",
       "      <td>0.284248</td>\n",
       "      <td>0.613411</td>\n",
       "      <td>0.349364</td>\n",
       "      <td>0.284248</td>\n",
       "      <td>0.243350</td>\n",
       "      <td>0.268743</td>\n",
       "      <td>5</td>\n",
       "    </tr>\n",
       "    <tr>\n",
       "      <th>15</th>\n",
       "      <td>model_MLP</td>\n",
       "      <td>0.280854</td>\n",
       "      <td>0.620695</td>\n",
       "      <td>0.353156</td>\n",
       "      <td>0.280854</td>\n",
       "      <td>0.246766</td>\n",
       "      <td>0.271352</td>\n",
       "      <td>6</td>\n",
       "    </tr>\n",
       "    <tr>\n",
       "      <th>16</th>\n",
       "      <td>model_MLP</td>\n",
       "      <td>0.278245</td>\n",
       "      <td>0.618212</td>\n",
       "      <td>0.353828</td>\n",
       "      <td>0.278245</td>\n",
       "      <td>0.249018</td>\n",
       "      <td>0.272849</td>\n",
       "      <td>7</td>\n",
       "    </tr>\n",
       "    <tr>\n",
       "      <th>17</th>\n",
       "      <td>model_MLP</td>\n",
       "      <td>0.276508</td>\n",
       "      <td>0.620861</td>\n",
       "      <td>0.354953</td>\n",
       "      <td>0.276508</td>\n",
       "      <td>0.249343</td>\n",
       "      <td>0.273520</td>\n",
       "      <td>8</td>\n",
       "    </tr>\n",
       "    <tr>\n",
       "      <th>18</th>\n",
       "      <td>model_MLP</td>\n",
       "      <td>0.275681</td>\n",
       "      <td>0.628146</td>\n",
       "      <td>0.359575</td>\n",
       "      <td>0.275681</td>\n",
       "      <td>0.252839</td>\n",
       "      <td>0.277261</td>\n",
       "      <td>9</td>\n",
       "    </tr>\n",
       "    <tr>\n",
       "      <th>19</th>\n",
       "      <td>model_MLP</td>\n",
       "      <td>0.274193</td>\n",
       "      <td>0.625828</td>\n",
       "      <td>0.360410</td>\n",
       "      <td>0.274193</td>\n",
       "      <td>0.255306</td>\n",
       "      <td>0.279004</td>\n",
       "      <td>10</td>\n",
       "    </tr>\n",
       "    <tr>\n",
       "      <th>20</th>\n",
       "      <td>model_NMF</td>\n",
       "      <td>0.319582</td>\n",
       "      <td>0.592053</td>\n",
       "      <td>0.336210</td>\n",
       "      <td>0.319582</td>\n",
       "      <td>0.234263</td>\n",
       "      <td>0.258146</td>\n",
       "      <td>1</td>\n",
       "    </tr>\n",
       "    <tr>\n",
       "      <th>21</th>\n",
       "      <td>model_NMF</td>\n",
       "      <td>0.277408</td>\n",
       "      <td>0.629636</td>\n",
       "      <td>0.361663</td>\n",
       "      <td>0.277408</td>\n",
       "      <td>0.255168</td>\n",
       "      <td>0.279761</td>\n",
       "      <td>2</td>\n",
       "    </tr>\n",
       "    <tr>\n",
       "      <th>22</th>\n",
       "      <td>model_NMF</td>\n",
       "      <td>0.268717</td>\n",
       "      <td>0.649007</td>\n",
       "      <td>0.373866</td>\n",
       "      <td>0.268717</td>\n",
       "      <td>0.265251</td>\n",
       "      <td>0.289608</td>\n",
       "      <td>3</td>\n",
       "    </tr>\n",
       "    <tr>\n",
       "      <th>23</th>\n",
       "      <td>model_NMF</td>\n",
       "      <td>0.264646</td>\n",
       "      <td>0.653808</td>\n",
       "      <td>0.378799</td>\n",
       "      <td>0.264646</td>\n",
       "      <td>0.270036</td>\n",
       "      <td>0.294470</td>\n",
       "      <td>4</td>\n",
       "    </tr>\n",
       "    <tr>\n",
       "      <th>24</th>\n",
       "      <td>model_NMF</td>\n",
       "      <td>0.262041</td>\n",
       "      <td>0.654305</td>\n",
       "      <td>0.379939</td>\n",
       "      <td>0.262041</td>\n",
       "      <td>0.271780</td>\n",
       "      <td>0.295531</td>\n",
       "      <td>5</td>\n",
       "    </tr>\n",
       "    <tr>\n",
       "      <th>25</th>\n",
       "      <td>model_NMF</td>\n",
       "      <td>0.259838</td>\n",
       "      <td>0.666391</td>\n",
       "      <td>0.385657</td>\n",
       "      <td>0.259838</td>\n",
       "      <td>0.273996</td>\n",
       "      <td>0.299565</td>\n",
       "      <td>6</td>\n",
       "    </tr>\n",
       "    <tr>\n",
       "      <th>26</th>\n",
       "      <td>model_NMF</td>\n",
       "      <td>0.258103</td>\n",
       "      <td>0.662583</td>\n",
       "      <td>0.388116</td>\n",
       "      <td>0.258103</td>\n",
       "      <td>0.278797</td>\n",
       "      <td>0.303891</td>\n",
       "      <td>7</td>\n",
       "    </tr>\n",
       "    <tr>\n",
       "      <th>27</th>\n",
       "      <td>model_NMF</td>\n",
       "      <td>0.256452</td>\n",
       "      <td>0.665397</td>\n",
       "      <td>0.388624</td>\n",
       "      <td>0.256452</td>\n",
       "      <td>0.278584</td>\n",
       "      <td>0.303736</td>\n",
       "      <td>8</td>\n",
       "    </tr>\n",
       "    <tr>\n",
       "      <th>28</th>\n",
       "      <td>model_NMF</td>\n",
       "      <td>0.255094</td>\n",
       "      <td>0.667881</td>\n",
       "      <td>0.395754</td>\n",
       "      <td>0.255094</td>\n",
       "      <td>0.288137</td>\n",
       "      <td>0.312135</td>\n",
       "      <td>9</td>\n",
       "    </tr>\n",
       "    <tr>\n",
       "      <th>29</th>\n",
       "      <td>model_NMF</td>\n",
       "      <td>0.254264</td>\n",
       "      <td>0.668874</td>\n",
       "      <td>0.394113</td>\n",
       "      <td>0.254264</td>\n",
       "      <td>0.285458</td>\n",
       "      <td>0.309619</td>\n",
       "      <td>10</td>\n",
       "    </tr>\n",
       "  </tbody>\n",
       "</table>\n",
       "</div>"
      ],
      "text/plain": [
       "   model_type      loss  hit_rate_mean  ...  mrr_5_mean  mrr_10_mean  epoch\n",
       "0   model_GMF  0.363458       0.495033  ...    0.190789     0.211428      1\n",
       "1   model_GMF  0.309368       0.560596  ...    0.218377     0.241755      2\n",
       "2   model_GMF  0.295355       0.578808  ...    0.224768     0.248623      3\n",
       "3   model_GMF  0.286827       0.600828  ...    0.235803     0.260563      4\n",
       "4   model_GMF  0.279933       0.613742  ...    0.248366     0.272158      5\n",
       "5   model_GMF  0.274781       0.621358  ...    0.250971     0.275617      6\n",
       "6   model_GMF  0.272924       0.626159  ...    0.251189     0.275534      7\n",
       "7   model_GMF  0.271492       0.626821  ...    0.256879     0.281481      8\n",
       "8   model_GMF  0.270688       0.631623  ...    0.253844     0.277892      9\n",
       "9   model_GMF  0.270116       0.629636  ...    0.256752     0.280723     10\n",
       "10  model_MLP  0.355835       0.490563  ...    0.177718     0.200396      1\n",
       "11  model_MLP  0.319052       0.553311  ...    0.205756     0.229936      2\n",
       "12  model_MLP  0.299384       0.590397  ...    0.226832     0.250855      3\n",
       "13  model_MLP  0.289853       0.599338  ...    0.232558     0.257308      4\n",
       "14  model_MLP  0.284248       0.613411  ...    0.243350     0.268743      5\n",
       "15  model_MLP  0.280854       0.620695  ...    0.246766     0.271352      6\n",
       "16  model_MLP  0.278245       0.618212  ...    0.249018     0.272849      7\n",
       "17  model_MLP  0.276508       0.620861  ...    0.249343     0.273520      8\n",
       "18  model_MLP  0.275681       0.628146  ...    0.252839     0.277261      9\n",
       "19  model_MLP  0.274193       0.625828  ...    0.255306     0.279004     10\n",
       "20  model_NMF  0.319582       0.592053  ...    0.234263     0.258146      1\n",
       "21  model_NMF  0.277408       0.629636  ...    0.255168     0.279761      2\n",
       "22  model_NMF  0.268717       0.649007  ...    0.265251     0.289608      3\n",
       "23  model_NMF  0.264646       0.653808  ...    0.270036     0.294470      4\n",
       "24  model_NMF  0.262041       0.654305  ...    0.271780     0.295531      5\n",
       "25  model_NMF  0.259838       0.666391  ...    0.273996     0.299565      6\n",
       "26  model_NMF  0.258103       0.662583  ...    0.278797     0.303891      7\n",
       "27  model_NMF  0.256452       0.665397  ...    0.278584     0.303736      8\n",
       "28  model_NMF  0.255094       0.667881  ...    0.288137     0.312135      9\n",
       "29  model_NMF  0.254264       0.668874  ...    0.285458     0.309619     10\n",
       "\n",
       "[30 rows x 8 columns]"
      ]
     },
     "execution_count": 62,
     "metadata": {
      "tags": []
     },
     "output_type": "execute_result"
    }
   ],
   "source": [
    "summary_table"
   ]
  },
  {
   "cell_type": "markdown",
   "metadata": {
    "id": "g_obAFhnQKys"
   },
   "source": [
    "# my homework"
   ]
  },
  {
   "cell_type": "markdown",
   "metadata": {
    "id": "g0Mg4cqPZgch"
   },
   "source": [
    "## Question 1 - Data preperation "
   ]
  },
  {
   "cell_type": "markdown",
   "metadata": {
    "id": "RQ5eH3H3Z0_h"
   },
   "source": [
    "1. training.rating - A taining set that consists of user_id, user_item, rating and a timestamp \n",
    "2. test.trainig -  test data set , consists of a single point of of rating (the last rating a user gave)  per user. (user_id, item_id, rating, and timestamp).\n",
    "3. test.negative - a dataset that indicates that a user had an interaction with some movie ( gave a rating, regardless of whether it was high or low rating) and 99 other movies that the user did not interact with . \n",
    "\n",
    "In order to create a training dataset that has the same structure as the test.negative which was supplied to us we have the function get_train_instances which is taking a single interaction and a fixed number of random movies (the data is sparse so that we probably wont choose any movies that user had an interaction with).\n"
   ]
  },
  {
   "cell_type": "markdown",
   "metadata": {
    "id": "JF6w1YkvQHsV"
   },
   "source": []
  },
  {
   "cell_type": "code",
   "execution_count": null,
   "metadata": {
    "id": "9D0nZOe5ZaY4"
   },
   "outputs": [],
   "source": []
  },
  {
   "cell_type": "markdown",
   "metadata": {
    "id": "W8FCvhcOQJuO"
   },
   "source": [
    "## Question 2 - Data preperation "
   ]
  },
  {
   "cell_type": "markdown",
   "metadata": {
    "id": "9Ed-ux7qWMBM"
   },
   "source": [
    "###part A \n",
    "Added the following piece of code above\n",
    "While model_MF was the implementation I added for matrix factorization\n"
   ]
  },
  {
   "cell_type": "code",
   "execution_count": 68,
   "metadata": {
    "id": "GTIM4P7nWN5W"
   },
   "outputs": [],
   "source": [
    "model_GMF = get_GMF_model(num_users, num_items, num_factors, regs = [[0,0]])\n",
    "model_MLP = get_MLP_model(num_users, num_items, num_factors, regs = [[0,0],0,0,0], layers = [32,16,8])\n",
    "model_NMF = get_NMF_model(num_users, num_items, latent_dim_GMF=num_factors, latent_dim_MLP=num_factors, reg_GMF=[[0,0]],\n",
    "                      regs_MLP=[[0,0],0,0,0], layers=[32,16,8])\n",
    "model_MF = get_MF_model(num_users, num_items, num_factors) \n"
   ]
  }
 ],
 "metadata": {
  "colab": {
   "collapsed_sections": [
    "jt0kJ_5RnP32",
    "g0Mg4cqPZgch"
   ],
   "name": "RS HW 3  NeuralCollaborativeFiltering_Implicit",
   "provenance": []
  },
  "kernelspec": {
   "display_name": "Python 3",
   "language": "python",
   "name": "python3"
  },
  "language_info": {
   "codemirror_mode": {
    "name": "ipython",
    "version": 3
   },
   "file_extension": ".py",
   "mimetype": "text/x-python",
   "name": "python",
   "nbconvert_exporter": "python",
   "pygments_lexer": "ipython3",
   "version": "3.6.4"
  }
 },
 "nbformat": 4,
 "nbformat_minor": 1
}
