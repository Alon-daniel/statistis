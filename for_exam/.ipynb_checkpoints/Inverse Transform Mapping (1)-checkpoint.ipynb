{
 "cells": [
  {
   "cell_type": "code",
   "execution_count": 1,
   "metadata": {},
   "outputs": [],
   "source": [
    "import numpy as np\n",
    "from scipy import stats\n",
    "import seaborn as sns\n",
    "import matplotlib.pyplot as plt\n",
    "size = int(1e6)"
   ]
  },
  {
   "cell_type": "code",
   "execution_count": null,
   "metadata": {},
   "outputs": [],
   "source": [
    "fig, axes = plt.subplots(1,2, figsize=(20,12))\n",
    "rvs = stats.norm.rvs(loc=0, scale=1, size=size)\n",
    "sns.histplot(rvs, ax=axes[0], bins=60)\n",
    "axes[0].set_title(\"Direct Sampling\")\n",
    "\n",
    "q=np.random.rand(size)\n",
    "result=stats.norm.ppf(q,loc=0,scale=1)\n",
    "sns.histplot(result, ax=axes[1], bins=60)\n",
    "axes[1].set_title(\"Inverse Sampling\")"
   ]
  },
  {
   "cell_type": "code",
   "execution_count": null,
   "metadata": {},
   "outputs": [],
   "source": [
    "fig, axes = plt.subplots(1,2, figsize=(20,12))\n",
    "rvs = stats.expon.rvs(loc=0, scale=1, size=size)\n",
    "sns.histplot(rvs, ax=axes[0], bins=60)\n",
    "axes[0].set_title(\"Direct Sampling\")\n",
    "\n",
    "q=np.random.rand(size)\n",
    "result=stats.expon.ppf(q,loc=0,scale=1)\n",
    "sns.histplot(result, ax=axes[1], bins=60)\n",
    "axes[1].set_title(\"Inverse Sampling\")"
   ]
  },
  {
   "cell_type": "code",
   "execution_count": null,
   "metadata": {},
   "outputs": [],
   "source": []
  }
 ],
 "metadata": {
  "kernelspec": {
   "display_name": "Python 3",
   "language": "python",
   "name": "python3"
  },
  "language_info": {
   "codemirror_mode": {
    "name": "ipython",
    "version": 3
   },
   "file_extension": ".py",
   "mimetype": "text/x-python",
   "name": "python",
   "nbconvert_exporter": "python",
   "pygments_lexer": "ipython3",
   "version": "3.6.4"
  }
 },
 "nbformat": 4,
 "nbformat_minor": 4
}
